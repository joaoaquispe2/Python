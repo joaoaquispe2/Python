{
 "cells": [
  {
   "cell_type": "markdown",
   "id": "790b6f87",
   "metadata": {},
   "source": [
    "## **Datetime**\n",
    "\n",
    "📌 [Documentación](https://docs.python.org/3/library/datetime.html)"
   ]
  },
  {
   "cell_type": "markdown",
   "id": "455f63ae",
   "metadata": {},
   "source": [
    "##### 🔨 **Datetime Fecha y Hora Actual**\n",
    "\n",
    "Datetime es una librería muy similar a Time pero con funciones mejor implementadas y diseñadas para trabajar con POO; sin embargo Time se sigue usando para ciertos casos. Veamos primero las funciones para fecha y hora actual."
   ]
  },
  {
   "cell_type": "code",
   "execution_count": 3,
   "id": "5020d456",
   "metadata": {},
   "outputs": [
    {
     "name": "stdout",
     "output_type": "stream",
     "text": [
      "Current datetime: 2025-06-03 22:51:35.598543\n",
      "Current date: 2025-06-03\n",
      "UTC datetime: 2025-06-04 03:51:35.599831+00:00\n"
     ]
    }
   ],
   "source": [
    "from datetime import datetime, date, time, timedelta, timezone, UTC\n",
    "\n",
    "now = datetime.now()  # Fecha y hora actuales\n",
    "print(f\"Current datetime: {now}\")\n",
    "\n",
    "today = date.today()  # Solo fecha actual\n",
    "print(f\"Current date: {today}\")\n",
    "\n",
    "utc_now = datetime.now(UTC)  # Hora en UTC sin zona horaria\n",
    "print(f\"UTC datetime: {utc_now}\")"
   ]
  },
  {
   "cell_type": "markdown",
   "id": "d911b31e",
   "metadata": {},
   "source": [
    "##### 🔨 **Datetime Objetos Fecha y Hora**\n",
    "\n",
    "Veamos los constructores para crear Objetos Fecha y Hora. Como vemos esta librería trabaja más con Clases y Objetos."
   ]
  },
  {
   "cell_type": "code",
   "execution_count": 5,
   "id": "38d06833",
   "metadata": {},
   "outputs": [
    {
     "name": "stdout",
     "output_type": "stream",
     "text": [
      "Custom datetime: 2025-06-02 14:30:00\n",
      "Custom date: 2025-06-02\n",
      "Custom time: 14:30:12\n"
     ]
    }
   ],
   "source": [
    "dt = datetime(2025, 6, 2, 14, 30, 0)  # Fecha y hora específica\n",
    "print(f\"Custom datetime: {dt}\")\n",
    "\n",
    "d = date(2025, 6, 2)  # Solo fecha\n",
    "print(f\"Custom date: {d}\")\n",
    "\n",
    "t = time(14, 30, 12)  # Solo hora\n",
    "print(f\"Custom time: {t}\")"
   ]
  },
  {
   "cell_type": "markdown",
   "id": "3d2169fb",
   "metadata": {},
   "source": [
    "##### 🔨 **Datetime Formateo y Elementos Individuales**\n",
    "\n",
    "Veamos las funciones para formatear fechas y seleccionar elementos individuales de los mismos."
   ]
  },
  {
   "cell_type": "code",
   "execution_count": 9,
   "id": "b842638d",
   "metadata": {},
   "outputs": [
    {
     "name": "stdout",
     "output_type": "stream",
     "text": [
      "Year: 2025, Month: 6, Day: 2\n",
      "Hour: 14, Minute: 30, Second: 0\n",
      "Formatted: 02-06 14:30\n",
      "Parsed datetime: 2025-06-02 14:30:00\n"
     ]
    }
   ],
   "source": [
    "print(f\"Year: {dt.year}, Month: {dt.month}, Day: {dt.day}\")           # Componentes de Fecha\n",
    "print(f\"Hour: {dt.hour}, Minute: {dt.minute}, Second: {dt.second}\")   # Componentes de Hora\n",
    "\n",
    "formatted = dt.strftime(\"%d-%m %H:%M\")  # Formato personalizado\n",
    "print(f\"Formatted: {formatted}\")\n",
    "\n",
    "parsed = datetime.strptime(\"2025-06-02 14:30:00\", \"%Y-%m-%d %H:%M:%S\")  # Parsear cadena a datetime\n",
    "print(f\"Parsed datetime: {parsed}\")"
   ]
  },
  {
   "cell_type": "markdown",
   "id": "d143a438",
   "metadata": {},
   "source": [
    "##### 🔨 **Datetime Operaciones con Fechas**\n",
    "\n",
    "Veamos las operaciones que se pueden hacer con fechas con esta Librería."
   ]
  },
  {
   "cell_type": "code",
   "execution_count": 16,
   "id": "77ab1e40",
   "metadata": {},
   "outputs": [
    {
     "name": "stdout",
     "output_type": "stream",
     "text": [
      "10 days later: 2025-06-12 14:30:00\n",
      "2 weeks earlier: 2025-05-19 14:30:00\n",
      "Combined timedelta: 5 days, 5:10:00\n"
     ]
    }
   ],
   "source": [
    "future = dt + timedelta(days=10)  # Mostrar fecha luego de ciertos días\n",
    "print(f\"10 days later: {future}\")\n",
    "\n",
    "past = dt - timedelta(weeks=2)  # Mostrar fecha antes de ciertas semanas\n",
    "print(f\"2 weeks earlier: {past}\")\n",
    "\n",
    "multi_delta = timedelta(days=4, hours=28, minutes=70)  # Combinación de unidades\n",
    "print(f\"Combined timedelta: {multi_delta}\")"
   ]
  },
  {
   "cell_type": "markdown",
   "id": "4f0e9c44",
   "metadata": {},
   "source": [
    "##### 🔨 **Datetime Comparaciones de Fechas**\n",
    "\n",
    "Veamos las comparaciones que se pueden hacer con fechas en esta Librería."
   ]
  },
  {
   "cell_type": "code",
   "execution_count": null,
   "id": "6b598e42",
   "metadata": {},
   "outputs": [
    {
     "name": "stdout",
     "output_type": "stream",
     "text": [
      "date1 = 2025-06-01 00:00:00   date2 = 2025-06-02 00:00:00\n",
      "dt1 < dt2? True\n",
      "dt1 == dt2? False\n",
      "dt1 >= dt2? False\n",
      "Days difference: 10\n",
      "Total seconds: 864000.0\n"
     ]
    }
   ],
   "source": [
    "dt1 = datetime(2025, 6, 1)\n",
    "dt2 = datetime(2025, 6, 2)\n",
    "print(f\"date1 = {dt1}   date2 = {dt2}\")\n",
    "\n",
    "# Comparaciones con Fechas\n",
    "print(f\"dt1 < dt2? {dt1 < dt2}\")\n",
    "print(f\"dt1 == dt2? {dt1 == dt2}\")\n",
    "print(f\"dt1 >= dt2? {dt1 >= dt2}\")\n",
    "\n",
    "# Diferencia de Fechas\n",
    "diff = future - dt\n",
    "print(f\"Days difference: {diff.days}\")\n",
    "print(f\"Total seconds: {diff.total_seconds()}\")"
   ]
  },
  {
   "cell_type": "markdown",
   "id": "a5a53a70",
   "metadata": {},
   "source": [
    "##### 🔨 **Datetime Zonas Horarias**\n",
    "\n",
    "Veamos las funciones para zonas horarias que se pueden realizar."
   ]
  },
  {
   "cell_type": "code",
   "execution_count": 22,
   "id": "f9ddcfa8",
   "metadata": {},
   "outputs": [
    {
     "name": "stdout",
     "output_type": "stream",
     "text": [
      "Timezone-aware datetime: 2025-06-04 04:08:13.410126+00:00\n",
      "Converted to local timezone: 2025-06-03 23:08:13.410126-05:00\n"
     ]
    }
   ],
   "source": [
    "aware = datetime.now(timezone.utc)  # Fecha y hora con zona UTC\n",
    "print(f\"Timezone-aware datetime: {aware}\")\n",
    "\n",
    "local = aware.astimezone()  # Convertir a zona local\n",
    "print(f\"Converted to local timezone: {local}\")"
   ]
  }
 ],
 "metadata": {
  "kernelspec": {
   "display_name": "Python 3",
   "language": "python",
   "name": "python3"
  },
  "language_info": {
   "codemirror_mode": {
    "name": "ipython",
    "version": 3
   },
   "file_extension": ".py",
   "mimetype": "text/x-python",
   "name": "python",
   "nbconvert_exporter": "python",
   "pygments_lexer": "ipython3",
   "version": "3.13.2"
  }
 },
 "nbformat": 4,
 "nbformat_minor": 5
}
