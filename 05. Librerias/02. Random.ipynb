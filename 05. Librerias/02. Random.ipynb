{
 "cells": [
  {
   "cell_type": "markdown",
   "id": "790b6f87",
   "metadata": {},
   "source": [
    "## **Random**\n",
    "\n",
    "📌 [Documentación](https://docs.python.org/3/library/random.html)"
   ]
  },
  {
   "cell_type": "markdown",
   "id": "455f63ae",
   "metadata": {},
   "source": [
    "##### 🔨 **Random Generación Números**\n",
    "\n",
    "La librería Random sirve para trabajar con aleatorios, ya sean números o elecciones de elementos. Veamos las funciones para generación de números aleatorios con la librería Random."
   ]
  },
  {
   "cell_type": "code",
   "execution_count": 25,
   "id": "5020d456",
   "metadata": {},
   "outputs": [
    {
     "name": "stdout",
     "output_type": "stream",
     "text": [
      "Random between 0 and 1: 0.3402505165179919\n",
      "Random integer between 1 and 10: 3\n",
      "Random integer between 0 and 20 with step 5: 5\n",
      "Random float between 5 and 15: 14.572130722067811\n"
     ]
    }
   ],
   "source": [
    "import random\n",
    "# Números aleatorios entre 0 y 1\n",
    "print(f\"Random between 0 and 1: {random.random()}\")\n",
    "\n",
    "# Números enteros aleatorios en un rango (inclusive)\n",
    "print(f\"Random integer between 1 and 10: {random.randint(1, 10)}\")\n",
    "\n",
    "# Números aleatorios dentro de un rango, con paso definido\n",
    "print(f\"Random integer between 0 and 20 with step 5: {random.randrange(0, 20, 5)}\")\n",
    "\n",
    "# Números flotantes dentro de un rango específico\n",
    "print(f\"Random float between 5 and 15: {random.uniform(5, 15)}\")"
   ]
  },
  {
   "cell_type": "markdown",
   "id": "d911b31e",
   "metadata": {},
   "source": [
    "##### 🔨 **Random Selección de Elementos al Azar**\n",
    "\n",
    "Veamos las funciones para elección de elementos de manera al azar."
   ]
  },
  {
   "cell_type": "code",
   "execution_count": 9,
   "id": "38d06833",
   "metadata": {},
   "outputs": [
    {
     "name": "stdout",
     "output_type": "stream",
     "text": [
      "Color list: ['rojo', 'verde', 'azul', 'amarillo', 'negro']\n",
      "Randomly selected color: verde\n",
      "2 randomly selected unique colors: ['amarillo', 'verde']\n",
      "2 randomly selected colors with replacement: ['azul', 'azul']\n"
     ]
    }
   ],
   "source": [
    "colores = [\"rojo\", \"verde\", \"azul\", \"amarillo\", \"negro\"]\n",
    "print(f\"Color list: {colores}\")\n",
    "\n",
    "# Seleccionar un elemento aleatorio de una lista\n",
    "print(f\"Randomly selected color: {random.choice(colores)}\")\n",
    "\n",
    "# Seleccionar múltiples elementos únicos al azar\n",
    "print(f\"2 randomly selected unique colors: {random.sample(colores, 2)}\")\n",
    "\n",
    "# Seleccionar múltiples elementos (puede repetirse)\n",
    "print(f\"2 randomly selected colors with replacement: {random.choices(colores, k=2)}\")"
   ]
  },
  {
   "cell_type": "markdown",
   "id": "b74f2f53",
   "metadata": {},
   "source": [
    "##### 🔨 **Random Mezcla**\n",
    "\n",
    "Veamos las funciones para la mezcla de elementos, más específicamente de una lista."
   ]
  },
  {
   "cell_type": "code",
   "execution_count": 11,
   "id": "ae37dd73",
   "metadata": {},
   "outputs": [
    {
     "name": "stdout",
     "output_type": "stream",
     "text": [
      "Original list: [1, 2, 3, 4, 5]\n",
      "Shuffled list: [3, 2, 5, 1, 4]\n"
     ]
    }
   ],
   "source": [
    "numeros = [1, 2, 3, 4, 5]\n",
    "print(f\"Original list: {numeros}\")\n",
    "\n",
    "# Mezclar una lista\n",
    "random.shuffle(numeros)\n",
    "print(f\"Shuffled list: {numeros}\")"
   ]
  },
  {
   "cell_type": "markdown",
   "id": "3d2169fb",
   "metadata": {},
   "source": [
    "##### 🔨 **Distribuciones Estadísticas**\n",
    "\n",
    "Veamos algunas funciones de distribuciones estadísticas que se pueden usar con la librería."
   ]
  },
  {
   "cell_type": "code",
   "execution_count": 23,
   "id": "b842638d",
   "metadata": {},
   "outputs": [
    {
     "name": "stdout",
     "output_type": "stream",
     "text": [
      "Random number with normal distribution (mean=0, std=1): -0.2317928608380212\n",
      "Random number with triangular distribution between 0 and 10, mode at 5: 3.153075091768736\n",
      "Exponential distribution (lambda=1.5): 0.6996613341483816\n",
      "Gamma distribution (alpha=2.0, beta=2.0): 4.438707038542388\n"
     ]
    }
   ],
   "source": [
    "# Número aleatorio con distribución normal (gaussiana)\n",
    "print(f\"Random number with normal distribution (mean=0, std=1): {random.gauss(0, 1)}\")\n",
    "\n",
    "# Número con distribución triangular\n",
    "print(f\"Random number with triangular distribution between 0 and 10, mode at 5: {random.triangular(0, 10, 5)}\")\n",
    "\n",
    "# Número aleatorio con distribución exponencial\n",
    "print(f\"Exponential distribution (lambda=1.5): {random.expovariate(1.5)}\")\n",
    "\n",
    "# Número aleatorio con distribución Gamma\n",
    "print(f\"Gamma distribution (alpha=2.0, beta=2.0): {random.gammavariate(2.0, 2.0)}\")"
   ]
  },
  {
   "cell_type": "markdown",
   "id": "d143a438",
   "metadata": {},
   "source": [
    "##### 🔨 **Random Uso de Semilla**\n",
    "\n",
    "Veamos que también se puede controlar la semilla de generación de números para repetir números."
   ]
  },
  {
   "cell_type": "code",
   "execution_count": 20,
   "id": "77ab1e40",
   "metadata": {},
   "outputs": [
    {
     "name": "stdout",
     "output_type": "stream",
     "text": [
      "Random number with seed 42: 0.6394267984578837\n",
      "Random number with the same seed 42: 0.6394267984578837\n"
     ]
    }
   ],
   "source": [
    "random.seed(42)\n",
    "print(f\"Random number with seed 42: {random.random()}\")  # Siempre será el mismo resultado\n",
    "\n",
    "random.seed(42)\n",
    "print(f\"Random number with the same seed 42: {random.random()}\")  # Mismo resultado de antes"
   ]
  }
 ],
 "metadata": {
  "kernelspec": {
   "display_name": "Python 3",
   "language": "python",
   "name": "python3"
  },
  "language_info": {
   "codemirror_mode": {
    "name": "ipython",
    "version": 3
   },
   "file_extension": ".py",
   "mimetype": "text/x-python",
   "name": "python",
   "nbconvert_exporter": "python",
   "pygments_lexer": "ipython3",
   "version": "3.13.2"
  }
 },
 "nbformat": 4,
 "nbformat_minor": 5
}
