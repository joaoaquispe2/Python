{
 "cells": [
  {
   "cell_type": "markdown",
   "id": "790b6f87",
   "metadata": {},
   "source": [
    "## **Os**\n",
    "\n",
    "📌 [Documentación](https://docs.python.org/3/library/os.html)"
   ]
  },
  {
   "cell_type": "markdown",
   "id": "455f63ae",
   "metadata": {},
   "source": [
    "##### 🔨 **Rutas de Directorios y Archivos**\n",
    "\n",
    "La Librería Os permite interactuar con el sistema operativo del lugar donde te encuentres trabajando, es otra opción para trabajar con Archivos de manera eficiente. Veamos primero como trabajar con las rutas de Directorios y Archivos."
   ]
  },
  {
   "cell_type": "code",
   "execution_count": 2,
   "id": "5020d456",
   "metadata": {},
   "outputs": [
    {
     "name": "stdout",
     "output_type": "stream",
     "text": [
      "Current Directory: 'c:\\Users\\Utente\\Documents\\Python\\05. Librerias'\n",
      "Absolute Path: c:\\Users\\Utente\\Documents\\Juegos\n",
      "Full Path: c:\\RutaInventada\\CarpetaInventada\\DocumentoInventado.txt\n",
      "Directory Name: c:\\RutaInventada\\CarpetaInventada\n",
      "Does 'c:\\RutaInventada' exist?: False\n"
     ]
    }
   ],
   "source": [
    "import os\n",
    "\n",
    "# Obtiene el directorio de trabajo actual\n",
    "current_directory = os.getcwd()\n",
    "print(f\"Current Directory: '{current_directory}'\") \n",
    "\n",
    "# Obtiene la ruta absoluta\n",
    "absolute_path = os.path.abspath(\"../../Juegos\")\n",
    "print(f\"Absolute Path: {absolute_path}\")\n",
    "\n",
    "# Combinar rutas\n",
    "full_path = os.path.join(r\"c:\\RutaInventada\", r\"CarpetaInventada\\DocumentoInventado.txt\")\n",
    "print(f\"Full Path: {full_path}\")\n",
    "\n",
    "# Obtiene el nombre del directorio\n",
    "directory_name = os.path.dirname(r\"c:\\RutaInventada\\CarpetaInventada\\DocumentoInventado.txt\")\n",
    "print(f\"Directory Name: {directory_name}\")\n",
    "\n",
    "# Verifica si una ruta existe\n",
    "path_exists = os.path.exists(r\"c:\\RutaInventada\")\n",
    "print(fr\"Does 'c:\\RutaInventada' exist?: {path_exists}\")"
   ]
  },
  {
   "cell_type": "markdown",
   "id": "d911b31e",
   "metadata": {},
   "source": [
    "##### 🔨 **Os Operaciones de Directorios**\n",
    "\n",
    "Veamos ahora las operaciones que se pueden hacer con los directorios."
   ]
  },
  {
   "cell_type": "code",
   "execution_count": 63,
   "id": "38d06833",
   "metadata": {},
   "outputs": [
    {
     "name": "stdout",
     "output_type": "stream",
     "text": [
      "Directory 'Directorio1' created\n",
      "Directories created\n",
      "Directories removed\n",
      "Files and directories: ['.git', '01. Fundamentos', '02. Estructuras', '03. POO', '04. Anexos', '05. Librerias', 'CHANGELOG.md', 'Imagenes', 'README.md', 'TODO.md']\n"
     ]
    }
   ],
   "source": [
    "# Crea un directorio\n",
    "os.mkdir(\"Directorio1\")\n",
    "print(\"Directory 'Directorio1' created\")\n",
    "\n",
    "# Crea varios directorios\n",
    "os.makedirs(r\"RutaInventada\\CarpetaInventada\")\n",
    "print(\"Directories created\")\n",
    "\n",
    "# Elimina un directorio vacío\n",
    "os.rmdir(\"Directorio1\")\n",
    "os.rmdir(r\"RutaInventada\\CarpetaInventada\")\n",
    "os.rmdir(\"RutaInventada\")\n",
    "print(\"Directories removed\")\n",
    "\n",
    "# Lista de archivos y directorios\n",
    "files_and_dirs = os.listdir(r'../') \n",
    "print(\"Files and directories:\", files_and_dirs)"
   ]
  },
  {
   "cell_type": "markdown",
   "id": "3d2169fb",
   "metadata": {},
   "source": [
    "##### 🔨 **Os Operaciones con Archivos**\n",
    "\n",
    "Veamos las funciones para archivos que se pueden usar con la Librería."
   ]
  },
  {
   "cell_type": "code",
   "execution_count": 3,
   "id": "b842638d",
   "metadata": {},
   "outputs": [
    {
     "name": "stdout",
     "output_type": "stream",
     "text": [
      "Does 'DocumentoInventado' exist? False\n",
      "File 'TestFile4.txt' renamed\n",
      "File 'TestFile5' removed\n"
     ]
    }
   ],
   "source": [
    "# Verifica si un archivo existe\n",
    "file_exists = os.path.isfile(\"DocumentoInventado.txt\")\n",
    "print(\"Does 'DocumentoInventado' exist?\", file_exists)\n",
    "\n",
    "# Renombra un archivo\n",
    "os.rename(\"../Recursos/TestFiles/TestFile1.txt\", \"../Recursos/TestFiles/TestFile1.txt\")\n",
    "print(\"File 'TestFile4.txt' renamed\")\n",
    "\n",
    "# Elimina un archivo (Debe estar creado)\n",
    "os.remove(\"../Recursos/TestFiles/TestFile5.txt\")\n",
    "print(\"File 'TestFile5' removed\")"
   ]
  },
  {
   "cell_type": "markdown",
   "id": "d143a438",
   "metadata": {},
   "source": [
    "##### 🔨 **Os Variables de Entorno**\n",
    "\n",
    "Veamos como se puede trabajar con variables dentro del entorno con esta Librería."
   ]
  },
  {
   "cell_type": "code",
   "execution_count": null,
   "id": "77ab1e40",
   "metadata": {},
   "outputs": [
    {
     "name": "stdout",
     "output_type": "stream",
     "text": [
      "Username: Utente\n",
      "Environment variable set: valueX\n",
      "All Environment Variables: environ({'ALLUSERSPROFILE': 'C:\\\\ProgramData', 'APPDATA': 'C:\\\\Users\\\\Utente\\\\AppData\\\\Roaming', 'APPLICATION_INSIGHTS_NO_STATSBEAT': 'true', 'CHROME_CRASHPAD_PIPE_NAME': '\\\\\\\\.\\\\pipe\\\\crashpad_18344_EOAOFYOWZRABKQMT', 'COMMONPROGRAMFILES': 'C:\\\\Program Files\\\\Common Files', 'COMMONPROGRAMFILES(X86)': 'C:\\\\Program Files (x86)\\\\Common Files', 'COMMONPROGRAMW6432': 'C:\\\\Program Files\\\\Common Files', 'COMPUTERNAME': 'LUIS', 'COMSPEC': 'C:\\\\WINDOWS\\\\system32\\\\cmd.exe', 'DRIVERDATA': 'C:\\\\Windows\\\\System32\\\\Drivers\\\\DriverData', 'EFC_7392_1592913036': '1', 'EFC_7392_2283032206': '1', 'ELECTRON_RUN_AS_NODE': '1', 'HOMEDRIVE': 'C:', 'HOMEPATH': '\\\\Users\\\\Utente', 'JPY_INTERRUPT_EVENT': '2724', 'LOCALAPPDATA': 'C:\\\\Users\\\\Utente\\\\AppData\\\\Local', 'LOGONSERVER': '\\\\\\\\LUIS', 'NUMBER_OF_PROCESSORS': '4', 'ONEDRIVE': 'C:\\\\Users\\\\Utente\\\\OneDrive - UNIVERSIDAD NACIONAL DE INGENIERIA', 'ONEDRIVECOMMERCIAL': 'C:\\\\Users\\\\Utente\\\\OneDrive - UNIVERSIDAD NACIONAL DE INGENIERIA', 'ORIGINAL_XDG_CURRENT_DESKTOP': 'undefined', 'OS': 'Windows_NT', 'PATH': 'c:\\\\Users\\\\Utente\\\\AppData\\\\Local\\\\Programs\\\\Python\\\\Python313;c:\\\\Users\\\\Utente\\\\AppData\\\\Roaming\\\\Python\\\\Python313\\\\Scripts;C:\\\\WINDOWS\\\\system32;C:\\\\WINDOWS;C:\\\\WINDOWS\\\\System32\\\\Wbem;C:\\\\WINDOWS\\\\System32\\\\WindowsPowerShell\\\\v1.0\\\\;C:\\\\WINDOWS\\\\System32\\\\OpenSSH\\\\;C:\\\\Program Files\\\\Git\\\\cmd;C:\\\\Users\\\\Utente\\\\AppData\\\\Local\\\\Programs\\\\Python\\\\Python313\\\\Scripts\\\\;C:\\\\Users\\\\Utente\\\\AppData\\\\Local\\\\Programs\\\\Python\\\\Python313\\\\;C:\\\\Users\\\\Utente\\\\AppData\\\\Local\\\\Programs\\\\Python\\\\Launcher\\\\;C:\\\\Users\\\\Utente\\\\AppData\\\\Local\\\\Microsoft\\\\WindowsApps;C:\\\\Users\\\\Utente\\\\AppData\\\\Local\\\\Programs\\\\Microsoft VS Code\\\\bin;C:\\\\Users\\\\Utente\\\\AppData\\\\Local\\\\gitkraken\\\\bin;C:\\\\Users\\\\Utente\\\\AppData\\\\Local\\\\JetBrains\\\\Toolbox\\\\scripts;;C:\\\\WINDOWS\\\\system32;C:\\\\WINDOWS;C:\\\\WINDOWS\\\\System32\\\\Wbem;C:\\\\WINDOWS\\\\System32\\\\WindowsPowerShell\\\\v1.0\\\\;C:\\\\WINDOWS\\\\System32\\\\OpenSSH\\\\;C:\\\\Program Files\\\\Git\\\\cmd;C:\\\\Users\\\\Utente\\\\AppData\\\\Local\\\\Programs\\\\Python\\\\Python313\\\\Scripts\\\\;C:\\\\Users\\\\Utente\\\\AppData\\\\Local\\\\Programs\\\\Python\\\\Python313\\\\;C:\\\\Users\\\\Utente\\\\AppData\\\\Local\\\\Programs\\\\Python\\\\Launcher\\\\;C:\\\\Users\\\\Utente\\\\AppData\\\\Local\\\\Microsoft\\\\WindowsApps;C:\\\\Users\\\\Utente\\\\AppData\\\\Local\\\\Programs\\\\Microsoft VS Code\\\\bin;C:\\\\Users\\\\Utente\\\\AppData\\\\Local\\\\gitkraken\\\\bin;C:\\\\Users\\\\Utente\\\\AppData\\\\Local\\\\JetBrains\\\\Toolbox\\\\scripts;', 'PATHEXT': '.COM;.EXE;.BAT;.CMD;.VBS;.VBE;.JS;.JSE;.WSF;.WSH;.MSC', 'PROCESSOR_ARCHITECTURE': 'AMD64', 'PROCESSOR_IDENTIFIER': 'AMD64 Family 23 Model 24 Stepping 1, AuthenticAMD', 'PROCESSOR_LEVEL': '23', 'PROCESSOR_REVISION': '1801', 'PROGRAMDATA': 'C:\\\\ProgramData', 'PROGRAMFILES': 'C:\\\\Program Files', 'PROGRAMFILES(X86)': 'C:\\\\Program Files (x86)', 'PROGRAMW6432': 'C:\\\\Program Files', 'PSMODULEPATH': 'C:\\\\Program Files\\\\WindowsPowerShell\\\\Modules;C:\\\\WINDOWS\\\\system32\\\\WindowsPowerShell\\\\v1.0\\\\Modules', 'PUBLIC': 'C:\\\\Users\\\\Public', 'PYDEVD_IPYTHON_COMPATIBLE_DEBUGGING': '1', 'PYTHONIOENCODING': 'utf-8', 'PYTHONUNBUFFERED': '1', 'PYTHON_FROZEN_MODULES': 'on', 'SESSIONNAME': 'Console', 'SYSTEMDRIVE': 'C:', 'SYSTEMROOT': 'C:\\\\WINDOWS', 'TEMP': 'C:\\\\Users\\\\Utente\\\\AppData\\\\Local\\\\Temp', 'TMP': 'C:\\\\Users\\\\Utente\\\\AppData\\\\Local\\\\Temp', 'USERDOMAIN': 'LUIS', 'USERDOMAIN_ROAMINGPROFILE': 'LUIS', 'USERNAME': 'Utente', 'USERPROFILE': 'C:\\\\Users\\\\Utente', 'VSCODE_CODE_CACHE_PATH': 'C:\\\\Users\\\\Utente\\\\AppData\\\\Roaming\\\\Code\\\\CachedData\\\\258e40fedc6cb8edf399a463ce3a9d32e7e1f6f3', 'VSCODE_CRASH_REPORTER_PROCESS_TYPE': 'extensionHost', 'VSCODE_CWD': 'C:\\\\Users\\\\Utente\\\\AppData\\\\Local\\\\Programs\\\\Microsoft VS Code', 'VSCODE_ESM_ENTRYPOINT': 'vs/workbench/api/node/extensionHostProcess', 'VSCODE_HANDLES_UNCAUGHT_ERRORS': 'true', 'VSCODE_IPC_HOOK': '\\\\\\\\.\\\\pipe\\\\952bbb09-1.100.3-main-sock', 'VSCODE_L10N_BUNDLE_LOCATION': '', 'VSCODE_NLS_CONFIG': '{\"userLocale\":\"en\",\"osLocale\":\"it-it\",\"resolvedLanguage\":\"en\",\"defaultMessagesFile\":\"C:\\\\\\\\Users\\\\\\\\Utente\\\\\\\\AppData\\\\\\\\Local\\\\\\\\Programs\\\\\\\\Microsoft VS Code\\\\\\\\resources\\\\\\\\app\\\\\\\\out\\\\\\\\nls.messages.json\",\"locale\":\"en\",\"availableLanguages\":{}}', 'VSCODE_PID': '18344', 'WINDIR': 'C:\\\\WINDOWS', 'PYDEVD_USE_FRAME_EVAL': 'NO', 'TERM': 'xterm-color', 'CLICOLOR': '1', 'FORCE_COLOR': '1', 'CLICOLOR_FORCE': '1', 'PAGER': 'cat', 'GIT_PAGER': 'cat', 'MPLBACKEND': 'module://matplotlib_inline.backend_inline', 'MY_VAR': 'valueX'})\n"
     ]
    }
   ],
   "source": [
    "# Obtiene una variable de entorno\n",
    "user = os.environ.get('USERNAME')\n",
    "print(\"Username:\", user)\n",
    "\n",
    "# Establece una variable de entorno\n",
    "os.environ['MY_VAR'] = 'valueX'\n",
    "print(\"Environment variable set:\", os.environ['MY_VAR'])\n",
    "\n",
    "# Obtiene todas las variables de entorno\n",
    "env_vars = os.environ\n",
    "print(\"All Environment Variables:\", env_vars)"
   ]
  },
  {
   "cell_type": "markdown",
   "id": "4f0e9c44",
   "metadata": {},
   "source": [
    "##### 🔨 **Datetime Comparaciones de Fechas**\n",
    "\n",
    "Veamos las comparaciones que se pueden hacer con fechas en esta Librería."
   ]
  },
  {
   "cell_type": "code",
   "execution_count": 119,
   "id": "6b598e42",
   "metadata": {},
   "outputs": [
    {
     "name": "stdout",
     "output_type": "stream",
     "text": [
      "Process ID: 1868\n",
      "Parent Process ID: 22600\n"
     ]
    }
   ],
   "source": [
    "# Ejecuta un comando de sistema\n",
    "os.system('echo \"Hello, World!\"')\n",
    "\n",
    "# Obtiene el ID del proceso actual\n",
    "process_id = os.getpid()\n",
    "print(\"Process ID:\", process_id)\n",
    "\n",
    "# Obtiene el ID del proceso padre\n",
    "parent_process_id = os.getppid()\n",
    "print(\"Parent Process ID:\", parent_process_id)"
   ]
  },
  {
   "cell_type": "markdown",
   "id": "a5a53a70",
   "metadata": {},
   "source": [
    "##### 🔨 **Os Manipulación de Rutas**\n",
    "\n",
    "Por último veamos algunas funciones que son útiles para manipular las rutas."
   ]
  },
  {
   "cell_type": "code",
   "execution_count": 104,
   "id": "f9ddcfa8",
   "metadata": {},
   "outputs": [
    {
     "name": "stdout",
     "output_type": "stream",
     "text": [
      "Path Split: ('c:\\\\RutaInventada\\\\CarpetaInventada', 'DocumentoInventado.txt')\n",
      "File Extension: ('DocumentoInventado', '.txt')\n",
      "Normalized Path: c:\\RutaInventada\\DocumentoInventado.txt\n"
     ]
    }
   ],
   "source": [
    "# Divide la ruta en una tupla\n",
    "path_tuple = os.path.split(r\"c:\\RutaInventada\\CarpetaInventada\\DocumentoInventado.txt\")\n",
    "print(\"Path Split:\", path_tuple)\n",
    "\n",
    "# Obtiene la extensión de un archivo\n",
    "file_extension = os.path.splitext(\"DocumentoInventado.txt\")\n",
    "print(\"File Extension:\", file_extension)\n",
    "\n",
    "# Normaliza una ruta\n",
    "normalized_path = os.path.normpath(r\"c:\\RutaInventada\\CarpetaInventada\\..\\\\DocumentoInventado.txt\")\n",
    "print(\"Normalized Path:\", normalized_path)"
   ]
  }
 ],
 "metadata": {
  "kernelspec": {
   "display_name": "Python 3",
   "language": "python",
   "name": "python3"
  },
  "language_info": {
   "codemirror_mode": {
    "name": "ipython",
    "version": 3
   },
   "file_extension": ".py",
   "mimetype": "text/x-python",
   "name": "python",
   "nbconvert_exporter": "python",
   "pygments_lexer": "ipython3",
   "version": "3.13.2"
  }
 },
 "nbformat": 4,
 "nbformat_minor": 5
}
