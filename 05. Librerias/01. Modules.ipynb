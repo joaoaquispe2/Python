{
 "cells": [
  {
   "cell_type": "markdown",
   "id": "526f32d3",
   "metadata": {},
   "source": [
    "## **Modules**"
   ]
  },
  {
   "cell_type": "markdown",
   "id": "7045240f",
   "metadata": {},
   "source": [
    "##### 🌑 **Importación de Modulos**\n",
    "\n",
    "Antes de trabajar con una librería debemos importarla en donde nos econtramos trabajando, para estoy hay tres formas de realizarlo, importando todo, importando con nombre clave y solo importando un recurso."
   ]
  },
  {
   "cell_type": "code",
   "execution_count": null,
   "id": "5e8d64c6",
   "metadata": {},
   "outputs": [
    {
     "name": "stdout",
     "output_type": "stream",
     "text": [
      "11323.525\n"
     ]
    }
   ],
   "source": [
    "import time          # Importar time\n",
    "import random as r   # Importar random como r\n",
    "from math import pi  # Importar la variable pi"
   ]
  },
  {
   "cell_type": "markdown",
   "id": "54d4a038",
   "metadata": {},
   "source": [
    "##### 🌑 **Restricción de Código de Módulos**\n",
    "\n",
    "Los módulos son estos archivos de Python que contienen diversas funciones que podemos reutilizar en nuestro código; sin embargo, al importar un Módulo también se ejecuta el código que se encuentre en este archivo. Para evitar conflictos o código que no se desee ejecutar usamos la sentencia especial `if __name__ == __main__` la cual nos dice que lo que esté dentro de aquí solo se ejecutará si es que se ejecuta el documento original y no el llamado al importar el módulo.\n",
    "\n",
    "📌 [Revisar IF Structure](../01.%20Fundamentos/04.%20IF%20Structure.ipynb)  \n",
    "📌 [Revisar Os](06.%20Os.ipynb)  \n",
    "📌 [Revisar Sys](07.%20Sys.ipynb)  "
   ]
  },
  {
   "cell_type": "code",
   "execution_count": 43,
   "id": "93284c52",
   "metadata": {},
   "outputs": [
    {
     "data": {
      "text/plain": [
       "9"
      ]
     },
     "execution_count": 43,
     "metadata": {},
     "output_type": "execute_result"
    }
   ],
   "source": [
    "import sys\n",
    "import os\n",
    "\n",
    "# Para acceder al módulo en otra carpeta\n",
    "current_dir = os.getcwd()\n",
    "sys.path.append(os.path.abspath(os.path.join(current_dir, '..')))\n",
    "\n",
    "from Recursos.Modulos import module1\n",
    "\n",
    "# No se imprime lo que esté dentro del IF (Solo la primera vez)\n",
    "module1.sum(4,5)"
   ]
  }
 ],
 "metadata": {
  "kernelspec": {
   "display_name": "Python 3",
   "language": "python",
   "name": "python3"
  },
  "language_info": {
   "codemirror_mode": {
    "name": "ipython",
    "version": 3
   },
   "file_extension": ".py",
   "mimetype": "text/x-python",
   "name": "python",
   "nbconvert_exporter": "python",
   "pygments_lexer": "ipython3",
   "version": "3.13.2"
  }
 },
 "nbformat": 4,
 "nbformat_minor": 5
}
