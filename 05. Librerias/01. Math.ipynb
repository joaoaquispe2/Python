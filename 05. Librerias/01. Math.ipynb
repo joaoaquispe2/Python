{
 "cells": [
  {
   "cell_type": "markdown",
   "id": "e4d1a642",
   "metadata": {},
   "source": [
    "## **Math**\n",
    "\n",
    "📌 [Documentación](https://docs.python.org/3/library/math.html)"
   ]
  },
  {
   "cell_type": "markdown",
   "id": "715a00f1",
   "metadata": {},
   "source": [
    "##### 🌑 **Importación de Librerías**\n",
    "\n",
    "Antes de trabajar con una librería debemos importarla en donde nos econtramos trabajando, para estoy hay tres formas de realizarlo, importando todo, importando con nombre clave y solo importando un recurso."
   ]
  },
  {
   "cell_type": "code",
   "execution_count": null,
   "id": "e598cba3",
   "metadata": {},
   "outputs": [],
   "source": [
    "import time          # Importar time\n",
    "import random as r   # Importar random como r\n",
    "from math import pi  # Importar la variable pi"
   ]
  },
  {
   "cell_type": "markdown",
   "id": "1fe080b0",
   "metadata": {},
   "source": [
    "##### 🌑 **Math Constantes**\n",
    "\n",
    "La librería Mart sirve para trabajr con varias operaciones y constantes matemáticas que conocemos, es muy útil para aprender si estás comenzando. Veamos cuales son las constantes que se pueden importar con esta librería."
   ]
  },
  {
   "cell_type": "code",
   "execution_count": 2,
   "id": "0907cef1",
   "metadata": {},
   "outputs": [
    {
     "name": "stdout",
     "output_type": "stream",
     "text": [
      "Pi (π): 3.141592653589793\n",
      "Euler's number (e): 2.718281828459045\n",
      "Infinity: inf\n",
      "Not-a-Number (NaN): nan\n"
     ]
    }
   ],
   "source": [
    "import math\n",
    "\n",
    "print(f\"Pi (π): {math.pi}\")                 # 3.141592653589793\n",
    "print(f\"Euler's number (e): {math.e}\")      # 2.718281828459045\n",
    "print(f\"Infinity: {math.inf}\")              # Representa el infinito\n",
    "print(f\"Not-a-Number (NaN): {math.nan}\")    # Representa un nó numérico"
   ]
  },
  {
   "cell_type": "markdown",
   "id": "a427e565",
   "metadata": {},
   "source": [
    "##### 🔨 **Math Operaciones Básicas**\n",
    "\n",
    "Veamos las operaciones básicas que encontramos en esta librería."
   ]
  },
  {
   "cell_type": "code",
   "execution_count": null,
   "id": "382daac9",
   "metadata": {},
   "outputs": [],
   "source": [
    "print(f\"Square root of 9: {math.sqrt(9)}\")            # √9 = 3.0\n",
    "print(f\"Absolute value of -7: {math.fabs(-7)}\"1)      # |−7| = 7.0\n",
    "print(f\"Floor of 3.7: {math.floor(3.7)}\")             # 3\n",
    "print(f\"Ceil of 3.2: {math.ceil(3.2)}\")               # 4\n",
    "print(f\"Truncated value of 4.7: {math.trunc(4.7)}\")   # 4"
   ]
  },
  {
   "cell_type": "markdown",
   "id": "06e6f14a",
   "metadata": {},
   "source": [
    "##### 🔨 **Math Exponenciales**\n",
    "\n",
    "Veamos ahora operaciones exponenciales y logarítmicas que hay."
   ]
  },
  {
   "cell_type": "code",
   "execution_count": null,
   "id": "f6cf2070",
   "metadata": {},
   "outputs": [
    {
     "name": "stdout",
     "output_type": "stream",
     "text": [
      "Number e raised to 2: 7.38905609893065\n",
      "Natural log of 10: 2.302585092994046\n",
      "Base-10 log of 100: 2.0\n",
      "Base-2 log of 8: 3.0\n",
      "2 raised to the power of 3: 8.0\n"
     ]
    }
   ],
   "source": [
    "print(f\"Number e raised to 2: {math.exp(2)}\")             # e²\n",
    "print(f\"Natural log of 10: {math.log(10)}\")               # ln(10)\n",
    "print(f\"Base-10 log of 100: {math.log10(100)}\")           # log₁₀(100) = 2\n",
    "print(f\"Base-2 log of 8: {math.log2(8)}\")                 # log₂(8) = 3\n",
    "print(f\"2 raised to the power of 3: {math.pow(2, 3)}\")    # 2³ = 8.0"
   ]
  },
  {
   "cell_type": "markdown",
   "id": "ba5b6a6d",
   "metadata": {},
   "source": [
    "##### 🔨 **Math Trignométricas**\n",
    "\n",
    "Veamos las operaciones trigonométricas que podemos encontrar en esta librería."
   ]
  },
  {
   "cell_type": "code",
   "execution_count": null,
   "id": "45d1048f",
   "metadata": {},
   "outputs": [],
   "source": [
    "print(f\"Sine of π/4: {math.sin(math.pi / 4)}\")               # sin(π/4) ≈ 0.707\n",
    "print(f\"Cosine of π/4: {math.cos(math.pi / 4)}\")             # cos(π/4) ≈ 0.707\n",
    "print(f\"Tangent of π/4: {math.tan(math.pi / 4)}\")            # tan(π/4) = 1\n",
    "print(f\"Arcsine of 0.5: {math.asin(0.5)} rad\")               # arcsin(0.5)\n",
    "print(f\"Arccosine of 0.5: {math.acos(0.5)} rad\")             # arccos(0.5)\n",
    "print(f\"Arctangent of 1: {math.atan(1)} rad\")                # arctan(1)\n",
    "print(f\"Hypotenuse of triangle with sides 3 and 4: {math.hypot(3, 4)}\")  # √(3² + 4²) = 5.0"
   ]
  },
  {
   "cell_type": "markdown",
   "id": "c098d9de",
   "metadata": {},
   "source": [
    "##### 🔨 **Math Conversión Ángulos**\n",
    "\n",
    "Veamos las operaciones de conversión de ángulos que hay."
   ]
  },
  {
   "cell_type": "code",
   "execution_count": 6,
   "id": "b3fdaed6",
   "metadata": {},
   "outputs": [
    {
     "name": "stdout",
     "output_type": "stream",
     "text": [
      "45 degrees to radians: 0.7853981633974483\n",
      "Angle pi/4 radians to degrees: 45.0\n"
     ]
    }
   ],
   "source": [
    "print(f\"45 degrees to radians: {math.radians(45)}\")\n",
    "print(f\"Angle pi/4 radians to degrees: {math.degrees(math.pi/4)}\")"
   ]
  },
  {
   "cell_type": "markdown",
   "id": "85427b43",
   "metadata": {},
   "source": [
    "##### 🔨 **Math Manejo de Números**\n",
    "\n",
    "Veamos las operaciones para manejar números que tiene la librería."
   ]
  },
  {
   "cell_type": "code",
   "execution_count": null,
   "id": "4c030e68",
   "metadata": {},
   "outputs": [
    {
     "name": "stdout",
     "output_type": "stream",
     "text": [
      "GCD of 48 and 18: 6\n",
      "LMD of 15 and 17: 255\n",
      "Factorial of 5: 120\n",
      "Remainder of 10 divided by 3: 1.0\n",
      "Combinations of 5 items taken 2 at a time: 10\n",
      "Permutations of 5 items taken 2 at a time: 20\n"
     ]
    }
   ],
   "source": [
    "print(f\"GCD of 48 and 18: {math.gcd(48, 18)}\")                 # 6\n",
    "print(f\"LCM of 15 and 17: {math.lcm(15, 17)}\")                 # 255\n",
    "print(f\"Factorial of 5: {math.factorial(5)}\")                  # 5! = 120\n",
    "print(f\"Remainder of 10 divided by 3: {math.fmod(10, 3)}\")     # 10 % 3 = 1.0\n",
    "print(f\"Combinations of 5 items taken 2 at a time: {math.comb(5, 2)}\")   # 10\n",
    "print(f\"Permutations of 5 items taken 2 at a time: {math.perm(5, 2)}\")   # 20"
   ]
  },
  {
   "cell_type": "markdown",
   "id": "8ee69101",
   "metadata": {},
   "source": [
    "##### 🔨 **Math Hiberbólicas**\n",
    "\n",
    "Veamos las funciones hiperbólicas que podemos encontrar."
   ]
  },
  {
   "cell_type": "code",
   "execution_count": null,
   "id": "c367f00f",
   "metadata": {},
   "outputs": [
    {
     "name": "stdout",
     "output_type": "stream",
     "text": [
      "Sinh of 1: 1.1752011936438014\n",
      "Cosh of 1: 1.5430806348152437\n",
      "Tanh of 1: 0.7615941559557649\n"
     ]
    }
   ],
   "source": [
    "print(f\"Sinh of 1: {math.sinh(1)}\")    # Seno Hiperbólico\n",
    "print(f\"Cosh of 1: {math.cosh(1)}\")    # Coseno Hiperbólico\n",
    "print(f\"Tanh of 1: {math.tanh(1)}\")    # Tangente Hiperbólica"
   ]
  },
  {
   "cell_type": "markdown",
   "id": "990a29b0",
   "metadata": {},
   "source": [
    "##### 🔨 **Math Especiales**\n",
    "\n",
    "Veamos por último algunas funciones especiales que podemos encontrar."
   ]
  },
  {
   "cell_type": "code",
   "execution_count": 3,
   "id": "edf4fde4",
   "metadata": {},
   "outputs": [
    {
     "name": "stdout",
     "output_type": "stream",
     "text": [
      "Integer and fractional parts of 4.75: (0.75, 4.0)\n",
      "Sign of -5 applied to 3: -3.0\n",
      "Integer square root of 10: 3\n",
      "Error function erf(1): 0.8427007929497149\n",
      "Complementary error function erfc(1): 0.1572992070502851\n",
      "Gamma of 5: 24.0\n",
      "Log of gamma(5): 3.178053830347945\n"
     ]
    }
   ],
   "source": [
    "print(f\"Integer and fractional parts of 4.75: {math.modf(4.75)}\")   # (0.75, 4.0)\n",
    "print(f\"Sign of -5 applied to 3: {math.copysign(3, -5)}\")           # -3.0\n",
    "print(f\"Integer square root of 10: {math.isqrt(10)}\")               # 3\n",
    "print(f\"Error function erf(1): {math.erf(1)}\")                      # Probabilidad acumulada (Distribuación Normal)\n",
    "print(f\"Complementary error function erfc(1): {math.erfc(1)}\")      # Complemento función error\n",
    "print(f\"Gamma of 5: {math.gamma(5)}\")                               # Γ(5) = 4!\n",
    "print(f\"Log of gamma(5): {math.lgamma(5)}\")                         # Logaritmo de Γ(5)"
   ]
  }
 ],
 "metadata": {
  "kernelspec": {
   "display_name": "Python 3",
   "language": "python",
   "name": "python3"
  },
  "language_info": {
   "codemirror_mode": {
    "name": "ipython",
    "version": 3
   },
   "file_extension": ".py",
   "mimetype": "text/x-python",
   "name": "python",
   "nbconvert_exporter": "python",
   "pygments_lexer": "ipython3",
   "version": "3.13.2"
  }
 },
 "nbformat": 4,
 "nbformat_minor": 5
}
