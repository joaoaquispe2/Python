{
 "cells": [
  {
   "cell_type": "markdown",
   "id": "790b6f87",
   "metadata": {},
   "source": [
    "## **Time**\n",
    "\n",
    "📌 [Documentación](https://docs.python.org/3/library/time.html)"
   ]
  },
  {
   "cell_type": "markdown",
   "id": "455f63ae",
   "metadata": {},
   "source": [
    "##### 🔨 **Time Marcas de Tiempo**\n",
    "\n",
    "Veamos las funciones para las marcas de tiempo de la librería."
   ]
  },
  {
   "cell_type": "code",
   "execution_count": 1,
   "id": "5020d456",
   "metadata": {},
   "outputs": [
    {
     "name": "stdout",
     "output_type": "stream",
     "text": [
      "Current timestamp: 1749009169.216115\n",
      "Local time structure: time.struct_time(tm_year=2025, tm_mon=6, tm_mday=3, tm_hour=22, tm_min=52, tm_sec=49, tm_wday=1, tm_yday=154, tm_isdst=0)\n",
      "UTC time structure: time.struct_time(tm_year=2025, tm_mon=6, tm_mday=4, tm_hour=3, tm_min=52, tm_sec=49, tm_wday=2, tm_yday=155, tm_isdst=0)\n",
      "Timestamp from struct_time: 1749027169.0\n"
     ]
    }
   ],
   "source": [
    "import time\n",
    "\n",
    "# Tiempo en segundos transcurrido desde la época 1970\n",
    "print(f\"Current timestamp: {time.time()}\") \n",
    "\n",
    "# Convertir timestamp a struct_time (local)\n",
    "local_time = time.localtime()\n",
    "print(f\"Local time structure: {local_time}\")\n",
    "\n",
    "# Convertir timestamp a struct_time (UTC)\n",
    "utc_time = time.gmtime()\n",
    "print(f\"UTC time structure: {utc_time}\")\n",
    "\n",
    "# Convertir struct_time a time_stamp\n",
    "print(f\"Timestamp from struct_time: {time.mktime(utc_time)}\")"
   ]
  },
  {
   "cell_type": "markdown",
   "id": "d911b31e",
   "metadata": {},
   "source": [
    "##### 🔨 **Time Analizar Fechas**\n",
    "\n",
    "Veamos las funciones para formateo de fechas y análisis de las mismas."
   ]
  },
  {
   "cell_type": "code",
   "execution_count": 57,
   "id": "38d06833",
   "metadata": {},
   "outputs": [
    {
     "name": "stdout",
     "output_type": "stream",
     "text": [
      "Readable time (asctime): Mon Jun  2 23:51:22 2025\n",
      "Formatted time: 2025-06-02 23:51:22\n",
      "Parsed struct_time: time.struct_time(tm_year=2025, tm_mon=6, tm_mday=1, tm_hour=14, tm_min=22, tm_sec=0, tm_wday=6, tm_yday=152, tm_isdst=-1)\n"
     ]
    }
   ],
   "source": [
    "# Convert struct_time to readable string\n",
    "print(f\"Readable time (asctime): {time.asctime(local_time)}\")\n",
    "\n",
    "# Format struct_time to custom string\n",
    "formatted = time.strftime(\"%Y-%m-%d %H:%M:%S\", local_time)\n",
    "print(f\"Formatted time: {formatted}\")\n",
    "\n",
    "# Parse string to struct_time\n",
    "parsed = time.strptime(\"2025-06-01 14:22:00\", \"%Y-%m-%d %H:%M:%S\")\n",
    "print(f\"Parsed struct_time: {parsed}\")"
   ]
  },
  {
   "cell_type": "markdown",
   "id": "3d2169fb",
   "metadata": {},
   "source": [
    "##### 🔨 **Time Esperas**\n",
    "\n",
    "Veamos la función para realizar una pausa o espera con esta librería."
   ]
  },
  {
   "cell_type": "code",
   "execution_count": 55,
   "id": "b842638d",
   "metadata": {},
   "outputs": [
    {
     "name": "stdout",
     "output_type": "stream",
     "text": [
      "Sleeping for 2 seconds...\n",
      "Awake!\n"
     ]
    }
   ],
   "source": [
    "# Programa pausado por 2 segundos\n",
    "print(\"Sleeping for 2 seconds...\")\n",
    "time.sleep(2)\n",
    "print(\"Awake!\")"
   ]
  },
  {
   "cell_type": "markdown",
   "id": "d143a438",
   "metadata": {},
   "source": [
    "##### 🔨 **Time Duración Código**\n",
    "\n",
    "Veamos la función que permite determinar cuánto tiempo demoró el codigo en su ejecución."
   ]
  },
  {
   "cell_type": "code",
   "execution_count": 2,
   "id": "77ab1e40",
   "metadata": {},
   "outputs": [
    {
     "name": "stdout",
     "output_type": "stream",
     "text": [
      "Execution time: 0.05898 seconds\n",
      "CPU time used so far: 4.21875 seconds\n"
     ]
    }
   ],
   "source": [
    "# Inicio del cronómetro\n",
    "start = time.perf_counter()\n",
    "\n",
    "# Código a medir\n",
    "total = sum(range(1000000))\n",
    "\n",
    "# Fin del cronómetro\n",
    "end = time.perf_counter()\n",
    "print(f\"Execution time: {end - start:.5f} seconds\")  # Tiempo exacto en segundos\n",
    "\n",
    "# Time spent by the CPU (ignores sleep or I/O delays)\n",
    "cpu_time = time.process_time()\n",
    "print(f\"CPU time used so far: {cpu_time:.5f} seconds\")"
   ]
  }
 ],
 "metadata": {
  "kernelspec": {
   "display_name": "Python 3",
   "language": "python",
   "name": "python3"
  },
  "language_info": {
   "codemirror_mode": {
    "name": "ipython",
    "version": 3
   },
   "file_extension": ".py",
   "mimetype": "text/x-python",
   "name": "python",
   "nbconvert_exporter": "python",
   "pygments_lexer": "ipython3",
   "version": "3.13.2"
  }
 },
 "nbformat": 4,
 "nbformat_minor": 5
}
