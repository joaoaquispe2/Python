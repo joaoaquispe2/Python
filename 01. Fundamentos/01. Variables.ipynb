{
 "cells": [
  {
   "cell_type": "markdown",
   "id": "2d6f687d",
   "metadata": {},
   "source": [
    "## **Variables en Python**"
   ]
  },
  {
   "cell_type": "markdown",
   "id": "9ff74f1f",
   "metadata": {},
   "source": [
    "[Dentro de estos bloques de Markdown se colocará la explicación de los nuevos conceptos que se aprenderán]: #\n",
    "\n",
    "##### 🌑 **Comentarios**\n",
    "Información que el intérprete de Python no toma en cuenta"
   ]
  },
  {
   "cell_type": "code",
   "execution_count": null,
   "id": "c6678450",
   "metadata": {},
   "outputs": [],
   "source": [
    "# Comentarios con el símbolo #\n",
    "\n",
    "'''Comentarios\n",
    "Multilínea con triple'''"
   ]
  },
  {
   "cell_type": "markdown",
   "id": "748a00a3",
   "metadata": {},
   "source": [
    "##### 🌑 **Variables**\n",
    "Reglas para nombrar variables:\n",
    "- Deben comenzar con una letra o un guion bajo ( _ ).\n",
    "- No pueden comenzar con un número.\n",
    "- Solo pueden contener letras, números y guiones bajos.\n",
    "- Las variables distinguen entre mayúsculas y minúsculas (edad ≠ Edad)."
   ]
  },
  {
   "cell_type": "code",
   "execution_count": 4,
   "id": "58d5302e",
   "metadata": {},
   "outputs": [],
   "source": [
    "# Todas estas variables son diferentes\n",
    "variable = \"cuarenta\"\n",
    "variable45 = 37\n",
    "VariabBle = True"
   ]
  },
  {
   "cell_type": "markdown",
   "id": "4f28889a",
   "metadata": {},
   "source": [
    "Las variables pueden tener varios tipos, entre estos tenemos:"
   ]
  },
  {
   "cell_type": "code",
   "execution_count": null,
   "id": "36118ab3",
   "metadata": {},
   "outputs": [],
   "source": [
    "# Texto (string)\n",
    "simple = 'Hola, mundo'\n",
    "double = \"Me llamo Joao\"\n",
    "triple = '''\n",
    "Texto multilinea\n",
    "con triple comilla\n",
    "'''\n",
    "\n",
    "# Números enteros (int)\n",
    "enter = 42\n",
    "\n",
    "# Números decimales (float)\n",
    "decimal = 3.14\n",
    "\n",
    "# Booleanos (bool)\n",
    "bolean = True\n",
    "bolean2 = False\n",
    "\n",
    "# Complejos (complex)\n",
    "complexo = 4 + 7j\n",
    "\n",
    "# Ningun dato (None)\n",
    "nothing = None"
   ]
  },
  {
   "cell_type": "markdown",
   "id": "c81ae3be",
   "metadata": {},
   "source": [
    "##### 🔨 **Funciones Básicas**\n",
    "\n",
    "- Funcion `print()` para mostrar en consola\n",
    "- Funcion `type()` devuelve el tipo de un dato"
   ]
  },
  {
   "cell_type": "code",
   "execution_count": null,
   "id": "7ec717c0",
   "metadata": {},
   "outputs": [
    {
     "name": "stdout",
     "output_type": "stream",
     "text": [
      "True\n",
      "<class 'complex'>\n"
     ]
    }
   ],
   "source": [
    "print(bolean)\n",
    "print(type(complexo))"
   ]
  }
 ],
 "metadata": {
  "kernelspec": {
   "display_name": "Python 3",
   "language": "python",
   "name": "python3"
  },
  "language_info": {
   "codemirror_mode": {
    "name": "ipython",
    "version": 3
   },
   "file_extension": ".py",
   "mimetype": "text/x-python",
   "name": "python",
   "nbconvert_exporter": "python",
   "pygments_lexer": "ipython3",
   "version": "3.13.2"
  }
 },
 "nbformat": 4,
 "nbformat_minor": 5
}
