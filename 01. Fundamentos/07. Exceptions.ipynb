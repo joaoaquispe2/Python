{
 "cells": [
  {
   "cell_type": "markdown",
   "id": "1fdf721a",
   "metadata": {},
   "source": [
    "## **Excepciones**"
   ]
  },
  {
   "cell_type": "markdown",
   "id": "9500328d",
   "metadata": {},
   "source": [
    "##### 🏠 **Manejo con Try-Except**\n",
    "\n",
    "Una excepción es un error que ocurre durante la ejecución de un programa, interrumpiendo su flujo normal como por ejemplo dividir por cero. Para evitar que exista esto usamos el bloque `Try-Except`. Dentro de Try va lo que quieres probar y Except se ejecuta si se encuentra un error."
   ]
  },
  {
   "cell_type": "code",
   "execution_count": 3,
   "id": "d5316f7a",
   "metadata": {},
   "outputs": [
    {
     "name": "stdout",
     "output_type": "stream",
     "text": [
      "Error! You must enter an integer number.\n"
     ]
    }
   ],
   "source": [
    "try:\n",
    "    number = int(input(\"Enter an integer number: \"))\n",
    "    print(f\"You entered the number {number}\")\n",
    "except ValueError:\n",
    "    print(\"Error! You must enter an integer number.\")"
   ]
  },
  {
   "cell_type": "markdown",
   "id": "2ffff456",
   "metadata": {},
   "source": [
    "##### 🌑 **Manejo múltiples Excepciones**\n",
    "\n",
    "En Python pueden haber muchos tipos de errores, podemos poner un proceso exacto para un tipo de error en concreto. Usando el ejemplo de división por cero podemos mostrar un mensaje específico si se produce este error."
   ]
  },
  {
   "cell_type": "code",
   "execution_count": 4,
   "id": "711ef94a",
   "metadata": {},
   "outputs": [
    {
     "name": "stdout",
     "output_type": "stream",
     "text": [
      "The result is: 0.8\n"
     ]
    }
   ],
   "source": [
    "try:\n",
    "    a = int(input(\"\\nEnter the numerator: \"))\n",
    "    b = int(input(\"Enter the denominator: \"))\n",
    "    result = a / b\n",
    "    print(f\"The result is: {result}\")\n",
    "except ZeroDivisionError:\n",
    "    print(\"Error! You cannot divide by zero.\")\n",
    "except ValueError:\n",
    "    print(\"Error! You must enter numeric values.\")"
   ]
  },
  {
   "cell_type": "markdown",
   "id": "abae0a78",
   "metadata": {},
   "source": [
    "##### 🌑 **Else y Finally** \n",
    "\n",
    "El bloque `Else` se puede usar con el bloque `Try-Except` y  este se ejecuta cuando no se encuentra ninguna excepción. Por otro lado el bloque `Finally` tambíen puede ser utilizado y este se mostrará pase lo que pase en cualquier circunstancia.\n",
    "\n",
    "📌 [Revisar Files]()\n"
   ]
  },
  {
   "cell_type": "code",
   "execution_count": 5,
   "id": "f0ab6931",
   "metadata": {},
   "outputs": [
    {
     "name": "stdout",
     "output_type": "stream",
     "text": [
      "Error! The file does not exist.\n",
      "Closing the program...\n"
     ]
    }
   ],
   "source": [
    "try:\n",
    "    file = open(\"archivo.txt\", \"r\")\n",
    "    content = file.read()\n",
    "    print(\"\\nFile content:\")\n",
    "    print(content)\n",
    "except FileNotFoundError:\n",
    "    print(\"Error! The file does not exist.\")\n",
    "else:\n",
    "    print(\"The file was read successfully.\")\n",
    "finally:\n",
    "    print(\"Closing the program...\")"
   ]
  },
  {
   "cell_type": "markdown",
   "id": "bc78b506",
   "metadata": {},
   "source": [
    "##### 🌑 **Excepciones Propias con Raise** \n",
    "\n",
    "La palabra clave `raise` lanza una excepción con un mensaje personalizable, si lo colocas dentro de un bloque `Try-Except` entonces podrás usarla en caso ocurra el error esperado. Dentro del bloque Except debes usar otra palabra clave `as` para hacer referencia al error lanzado por `raise`"
   ]
  },
  {
   "cell_type": "code",
   "execution_count": 9,
   "id": "45ecde75",
   "metadata": {},
   "outputs": [
    {
     "name": "stdout",
     "output_type": "stream",
     "text": [
      "Exception caught: You cannot divide by zero.\n"
     ]
    }
   ],
   "source": [
    "try:\n",
    "    a = 15\n",
    "    b = 0\n",
    "    if b == 0:\n",
    "        raise ZeroDivisionError(\"You cannot divide by zero.\")\n",
    "    print(f\"Result: {a/b}\")\n",
    "\n",
    "except ZeroDivisionError as e:\n",
    "    print(f\"Exception caught: {e}\")\n"
   ]
  },
  {
   "cell_type": "markdown",
   "id": "a68d99fa",
   "metadata": {},
   "source": [
    "##### 🌑 **Excepciones Personalizadas** \n",
    "\n",
    "Puedes crear nuevas Excepciones pero para esto debes crear una nueva Clase que herede de Exception. Más adelante se verá POO y se podrá entender mejor este bloque.\n",
    "\n",
    "📌 [Revisar Herence]()"
   ]
  },
  {
   "cell_type": "code",
   "execution_count": null,
   "id": "0d92d719",
   "metadata": {},
   "outputs": [
    {
     "name": "stdout",
     "output_type": "stream",
     "text": [
      "Custom exception caught: Cannot calculate the square root of a negative number.\n"
     ]
    }
   ],
   "source": [
    "class NegativeNumberError(Exception):\n",
    "    \"\"\" Excepcion personalizada para números negativos \"\"\"\n",
    "    pass\n",
    "\n",
    "def calculate_square_root(number):\n",
    "    if number < 0:\n",
    "        raise NegativeNumberError(\"Cannot calculate the square root of a negative number.\")\n",
    "    return number ** 0.5\n",
    "\n",
    "try:\n",
    "    number = float(input(\"\\nEnter a number to calculate its square root: \"))\n",
    "    root = calculate_square_root(number)\n",
    "    print(f\"The square root of {number} is {root}\")\n",
    "except NegativeNumberError as e:\n",
    "    print(f\"Custom exception caught: {e}\")"
   ]
  }
 ],
 "metadata": {
  "kernelspec": {
   "display_name": "Python 3",
   "language": "python",
   "name": "python3"
  },
  "language_info": {
   "codemirror_mode": {
    "name": "ipython",
    "version": 3
   },
   "file_extension": ".py",
   "mimetype": "text/x-python",
   "name": "python",
   "nbconvert_exporter": "python",
   "pygments_lexer": "ipython3",
   "version": "3.13.2"
  }
 },
 "nbformat": 4,
 "nbformat_minor": 5
}
