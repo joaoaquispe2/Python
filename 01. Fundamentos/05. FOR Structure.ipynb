{
 "cells": [
  {
   "cell_type": "markdown",
   "id": "64356dff",
   "metadata": {},
   "source": [
    "## **Estructura FOR**"
   ]
  },
  {
   "cell_type": "markdown",
   "id": "1d60da71",
   "metadata": {},
   "source": [
    "##### 🏠 **Bucle For** \n",
    "\n",
    "El bucle `For` se utiliza para iterar sobre elementos de una secuencia (listas, cadenas, rangos, etc.).\n",
    "\n",
    "📌 [Revisar Lists](../02.%20Estructuras/01.%20Lists.ipynb)"
   ]
  },
  {
   "cell_type": "code",
   "execution_count": null,
   "id": "85f9b3a3",
   "metadata": {},
   "outputs": [],
   "source": [
    "numbers = [1, 2, 3, 4, 5]\n",
    "\n",
    "# Iterar sobre una lista de números.\n",
    "for number in numbers:\n",
    "    print(f\"Number: {number}\")\n",
    "\n",
    "text = \"Python\"\n",
    "\n",
    "# Iterar sobre cadena de caracteres.\n",
    "for character in text:\n",
    "    print(f\"Character: {character}\")"
   ]
  },
  {
   "cell_type": "markdown",
   "id": "d06e6fcb",
   "metadata": {},
   "source": [
    "##### 🔨 **Función Range** \n",
    "\n",
    "La función `Range()` genera una secuencia de números. Tiene 3 argumentos: el comienzo de la secuencia, el final y de cuanto en cuanto avanza."
   ]
  },
  {
   "cell_type": "code",
   "execution_count": null,
   "id": "c50ed3d9",
   "metadata": {},
   "outputs": [],
   "source": [
    "# Imprimir números del 0 al 4\n",
    "for i in range(5):  # Por defecto, empieza en 0\n",
    "    print(f\"Index: {i}\")\n",
    "\n",
    "# Uso de  inicio, fin y paso en range()\n",
    "for i in range(1, 10, 2):\n",
    "    print(f\"Odd Number: {i}\")"
   ]
  },
  {
   "cell_type": "markdown",
   "id": "c525be09",
   "metadata": {},
   "source": [
    "##### 🌑 **Break** \n",
    "\n",
    "La palabra clave `break` provoca que termine el bucle antes de que todos los elementos sean iterados."
   ]
  },
  {
   "cell_type": "code",
   "execution_count": 4,
   "id": "950cc0f6",
   "metadata": {},
   "outputs": [
    {
     "name": "stdout",
     "output_type": "stream",
     "text": [
      "Reviewing number: 10\n",
      "Reviewing number: 20\n",
      "Finding 30, exiting loop.\n"
     ]
    }
   ],
   "source": [
    "numbers = [10, 20, 30, 40, 50]\n",
    "\n",
    "# Acaba cuando encuentra el número 30\n",
    "for number in numbers:\n",
    "    if number == 30:\n",
    "        print(\"Finding 30, exiting loop.\")\n",
    "        break\n",
    "    print(f\"Reviewing number: {number}\")"
   ]
  },
  {
   "cell_type": "markdown",
   "id": "b1bb5e4d",
   "metadata": {},
   "source": [
    "##### 🌑 **Continue** \n",
    "\n",
    "La palabra key `continue` se usa para omitir el resto del código en una iteración y pasa al siguiente elemento del bucle."
   ]
  },
  {
   "cell_type": "code",
   "execution_count": null,
   "id": "000a527f",
   "metadata": {},
   "outputs": [],
   "source": [
    "# Saltar números pares\n",
    "for i in range(1, 15):\n",
    "    if i % 2 == 0:\n",
    "        continue  # Saltar si el número es par\n",
    "    print(f\"Odd Number: {i}\")"
   ]
  },
  {
   "cell_type": "markdown",
   "id": "9552dfff",
   "metadata": {},
   "source": [
    "##### 🌑 **Else + For** \n",
    "\n",
    "El bloque `Else` se puede usar con el bucle y `For` y este se ejecuta cuando el bucle termina naturalmente.\n",
    "\n",
    "📌 [Revisar IF Structure](04.%20IF%20Structure.ipynb)"
   ]
  },
  {
   "cell_type": "code",
   "execution_count": 8,
   "id": "8b770f4d",
   "metadata": {},
   "outputs": [
    {
     "name": "stdout",
     "output_type": "stream",
     "text": [
      "Number 4 not found in the list.\n"
     ]
    }
   ],
   "source": [
    "numbers = [1, 3, 5, 7]\n",
    "\n",
    "# El mensaje se ejecuta si no se encuentra el número 4\n",
    "for number in numbers:\n",
    "    if number == 4:\n",
    "        print(\"Number 4 found!\")\n",
    "        break\n",
    "else:\n",
    "    print(\"Number 4 not found in the list.\")  "
   ]
  },
  {
   "cell_type": "markdown",
   "id": "047d9a04",
   "metadata": {},
   "source": [
    "##### 🔨 **Enumerate** \n",
    "\n",
    "La función `enumerate()` devuelve cada elemento de una agrupación de elementos con un índice numérico para poder ser usado.\n"
   ]
  },
  {
   "cell_type": "code",
   "execution_count": null,
   "id": "d1817bc3",
   "metadata": {},
   "outputs": [],
   "source": [
    "colors = [\"red\", \"green\", \"blue\"]\n",
    "\n",
    "# Los colores adquieren un índice que se puede usar\n",
    "for index, color in enumerate(colors):\n",
    "    print(f\"Index: {index}, Color: {color}\")"
   ]
  },
  {
   "cell_type": "markdown",
   "id": "a4743bbe",
   "metadata": {},
   "source": [
    "##### 🌑 **For en única línea** \n",
    "\n",
    "El bucle `For` también puede ser colocado en una sola línea usando comprensión de listas.\n",
    "- Se puede añadir una condicional `If` al final.\n",
    "- Se puede añadir una condicional `If` con `Else` al inicio."
   ]
  },
  {
   "cell_type": "code",
   "execution_count": null,
   "id": "0ec3f192",
   "metadata": {},
   "outputs": [],
   "source": [
    "# Comprension de listas\n",
    "squared_numbers = [x**2 for x in range(10)]\n",
    "print(\"Squared Numbers:\", squared_numbers)\n",
    "\n",
    "# Usando una condición if\n",
    "even_squared_numbers = [x**2 for x in range(10) if x % 2 == 0]\n",
    "print(\"Even Squared Numbers:\", even_squared_numbers)\n",
    "\n",
    "# Usando una condición if y else\n",
    "squared_numbers_only_even = [x**2 if x % 2 == 0 else x for x in range(10)]\n",
    "print(\"Squared Numbers for Even, original for Odd:\", squared_numbers_only_even)"
   ]
  },
  {
   "cell_type": "markdown",
   "id": "d417ce28",
   "metadata": {},
   "source": [
    "##### 🌑 **Iterar en Diccionarios** \n",
    "\n",
    "Puedes iterar sobre las keys, valuees o ambos en un diccionario, dependiendo de lo que desees hacer con ambos.\n",
    "\n",
    "Se puede usar la función 🔨 `items()` para generar el par de clave valor de un diccionario y usarlo en tu bucle. \n",
    "\n",
    "📌 [Revisar Dictionaries](../02.%20Estructuras/04.%20Dictionaries.ipynb)"
   ]
  },
  {
   "cell_type": "code",
   "execution_count": null,
   "id": "a25ef32d",
   "metadata": {},
   "outputs": [
    {
     "name": "stdout",
     "output_type": "stream",
     "text": [
      "Key: Name; Value: Juan\n",
      "Key: Age; Value: 30\n",
      "Key: City; Value: Lima\n",
      "Name: Juan\n",
      "Age: 30\n",
      "City: Lima\n"
     ]
    }
   ],
   "source": [
    "# Iterar sobre claves\n",
    "person = {\"Name\": \"Juan\", \"Age\": 30, \"City\": \"Lima\"}\n",
    "for key in person:\n",
    "    print(f\"Key: {key}; Value: {person[key]}\")\n",
    "\n",
    "# Iterar sobre claves y valores con items()\n",
    "for key, value in person.items():\n",
    "    print(f\"{key}: {value}\")"
   ]
  }
 ],
 "metadata": {
  "kernelspec": {
   "display_name": "Python 3",
   "language": "python",
   "name": "python3"
  },
  "language_info": {
   "codemirror_mode": {
    "name": "ipython",
    "version": 3
   },
   "file_extension": ".py",
   "mimetype": "text/x-python",
   "name": "python",
   "nbconvert_exporter": "python",
   "pygments_lexer": "ipython3",
   "version": "3.13.2"
  }
 },
 "nbformat": 4,
 "nbformat_minor": 5
}
