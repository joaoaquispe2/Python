{
 "cells": [
  {
   "cell_type": "markdown",
   "id": "fd9a1e75",
   "metadata": {},
   "source": [
    "## **Estructura IF**"
   ]
  },
  {
   "cell_type": "markdown",
   "id": "6a5c6480",
   "metadata": {},
   "source": [
    "##### 🏠 **Condicional If**\n",
    "\n",
    "La estructura `If` permite ejecutar un bloque de código solo si una condición es verdadera.\n"
   ]
  },
  {
   "cell_type": "code",
   "execution_count": null,
   "id": "0475c351",
   "metadata": {},
   "outputs": [
    {
     "name": "stdout",
     "output_type": "stream",
     "text": [
      "You are an adult\n",
      "You are a citizen\n"
     ]
    }
   ],
   "source": [
    "# Sintaxis básica\n",
    "age = 18\n",
    "is_citizen = True\n",
    "\n",
    "if age >= 18:\n",
    "    print(\"You are an adult\")\n",
    "\n",
    "if is_citizen:\n",
    "    print(\"You are a citizen\")"
   ]
  },
  {
   "cell_type": "markdown",
   "id": "e9088e53",
   "metadata": {},
   "source": [
    "##### 🏠 **Bloque Else**\n",
    "\n",
    "El bloque `Else` se ejecuta si la condición del `If` es falsa.\n"
   ]
  },
  {
   "cell_type": "code",
   "execution_count": null,
   "id": "9830ed65",
   "metadata": {},
   "outputs": [
    {
     "name": "stdout",
     "output_type": "stream",
     "text": [
      "Eres menor de edad.\n"
     ]
    }
   ],
   "source": [
    "age = 16\n",
    "if age >= 18:\n",
    "    print(\"You are an adult\")\n",
    "else:\n",
    "    print(\"You are a minor\")"
   ]
  },
  {
   "cell_type": "markdown",
   "id": "53d6467b",
   "metadata": {},
   "source": [
    "##### 🏠 **Bloque Elif**\n",
    "\n",
    "Puedes usar varias condiciones con `Elif`.\n"
   ]
  },
  {
   "cell_type": "code",
   "execution_count": 4,
   "id": "37f975fc",
   "metadata": {},
   "outputs": [
    {
     "name": "stdout",
     "output_type": "stream",
     "text": [
      "Good\n"
     ]
    }
   ],
   "source": [
    "grade = 85\n",
    "if grade >= 90:\n",
    "    print(\"Excelent\")\n",
    "elif grade >= 75:\n",
    "    print(\"Good\")\n",
    "elif grade >= 60:\n",
    "    print(\"Regular\")\n",
    "elif grade >= 50:\n",
    "    print(\"Bad\")\n",
    "else:\n",
    "    print(\"Fail\")"
   ]
  },
  {
   "cell_type": "markdown",
   "id": "26b80e31",
   "metadata": {},
   "source": [
    "##### 🌑 **Anidación Bloques If**\n",
    "\n",
    "Es posible usar estructuras `If` dentro de otras.\n"
   ]
  },
  {
   "cell_type": "code",
   "execution_count": 6,
   "id": "1b74ab9e",
   "metadata": {},
   "outputs": [
    {
     "name": "stdout",
     "output_type": "stream",
     "text": [
      "You can vote.\n"
     ]
    }
   ],
   "source": [
    "age = 20\n",
    "is_citizen = True\n",
    "\n",
    "if age >= 18:\n",
    "    if is_citizen:\n",
    "        print(\"You can vote.\")\n",
    "    else:\n",
    "        print(\"You are not a citizen, you cannot vote.\")\n",
    "else:\n",
    "    print(\"You are not old enough to vote.\")"
   ]
  },
  {
   "cell_type": "markdown",
   "id": "6a3e9ae7",
   "metadata": {},
   "source": [
    "##### 🌑 **Uso Operadores Lógicos**\n",
    "\n",
    "Puedes combinar condiciones usando operadores lógicos (`and`, `or`, `not`).\n",
    "\n",
    "📌 [Revisar Operations](03.%20Operations.ipynb)"
   ]
  },
  {
   "cell_type": "code",
   "execution_count": null,
   "metadata": {},
   "outputs": [
    {
     "name": "stdout",
     "output_type": "stream",
     "text": [
      "You can make a purchase.\n",
      "You can use the discount.\n",
      "You can access the content.\n"
     ]
    }
   ],
   "source": [
    "# Uso de and\n",
    "active_user = True\n",
    "amount = 50\n",
    "if active_user and  amount > 0:\n",
    "    print(\"You can make a purchase.\")\n",
    "\n",
    "# Uso de or\n",
    "have_coupon = False\n",
    "is_vip = True\n",
    "if have_coupon or is_vip:\n",
    "    print(\"You can use the discount.\")\n",
    "\n",
    "# Uso de not\n",
    "block = False\n",
    "if not block:\n",
    "    print(\"You can access the content.\")"
   ]
  },
  {
   "cell_type": "markdown",
   "id": "29d7b47e",
   "metadata": {},
   "source": [
    "##### 🌑 **Operador Ternario**\n",
    "\n",
    "- Puedes escribir un `If` en una sola línea si solo tienes una instruccion. (Sintaxis compacta)\n",
    "- También puedes usar el operador ternario de asignación."
   ]
  },
  {
   "cell_type": "code",
   "execution_count": 9,
   "id": "37ebffd5",
   "metadata": {},
   "outputs": [
    {
     "name": "stdout",
     "output_type": "stream",
     "text": [
      "You are an adult\n"
     ]
    }
   ],
   "source": [
    "age = 25\n",
    "if age >= 18: print(\"You are an adult\")\n",
    "\n",
    "# El operador ternario es de la forma: X if condition else Y\n",
    "message = \"You are an adult\" if age >= 18 else \"You are a minor\""
   ]
  }
 ],
 "metadata": {
  "kernelspec": {
   "display_name": "Python 3",
   "language": "python",
   "name": "python3"
  },
  "language_info": {
   "codemirror_mode": {
    "name": "ipython",
    "version": 3
   },
   "file_extension": ".py",
   "mimetype": "text/x-python",
   "name": "python",
   "nbconvert_exporter": "python",
   "pygments_lexer": "ipython3",
   "version": "3.13.2"
  }
 },
 "nbformat": 4,
 "nbformat_minor": 5
}
