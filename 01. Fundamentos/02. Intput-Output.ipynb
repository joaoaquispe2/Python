{
 "cells": [
  {
   "cell_type": "markdown",
   "id": "33b9bd95",
   "metadata": {},
   "source": [
    "## **Input - Output**"
   ]
  },
  {
   "cell_type": "markdown",
   "id": "14342767",
   "metadata": {},
   "source": [
    "##### 🌑 **F-String**\n",
    "\n",
    "Formato de `Output` muy usado en python, para usarlo colocamos una `f` al inicio de la función print y ponemos entre corechetes las variables que queremos imprimir."
   ]
  },
  {
   "cell_type": "code",
   "execution_count": null,
   "id": "77a4f75e",
   "metadata": {},
   "outputs": [
    {
     "name": "stdout",
     "output_type": "stream",
     "text": [
      "Hello Joao\n"
     ]
    }
   ],
   "source": [
    "myvar = \"Joao\"\n",
    "myvar2 = 18\n",
    "\n",
    "# Esto muestra la variable myvar\n",
    "print(f\"Hello {myvar}\")"
   ]
  },
  {
   "cell_type": "markdown",
   "id": "93292457",
   "metadata": {},
   "source": [
    "La forma convencional de colocar variables es con el símbolo de suma y luego colocando variables."
   ]
  },
  {
   "cell_type": "code",
   "execution_count": 8,
   "id": "93387071",
   "metadata": {},
   "outputs": [
    {
     "name": "stdout",
     "output_type": "stream",
     "text": [
      "Hello Joao 31\n"
     ]
    }
   ],
   "source": [
    "print(\"Hello\", myvar, myvar2)"
   ]
  },
  {
   "cell_type": "markdown",
   "id": "5faba542",
   "metadata": {},
   "source": [
    "##### 🔨 **Type Cast**\n",
    "\n",
    "Es el proceso de cambiar el tipo de una variable a otra, para esto usamos las funciones `int()`, `float()`, `bool()` y `str()`."
   ]
  },
  {
   "cell_type": "code",
   "execution_count": null,
   "id": "6bab883f",
   "metadata": {},
   "outputs": [
    {
     "name": "stdout",
     "output_type": "stream",
     "text": [
      "30 Type: <class 'str'>\n",
      "30.0 Type: <class 'float'>\n",
      "True Type: <class 'bool'>\n",
      "1.8 Type: <class 'str'>\n",
      "1 Type: <class 'int'>\n",
      "True Type: <class 'bool'>\n",
      "3 Type: <class 'int'>\n",
      "70.5 Type: <class 'float'>\n",
      "False Type: <class 'bool'>\n"
     ]
    }
   ],
   "source": [
    "name = \"Daniel\"\n",
    "age = 30\n",
    "height = 1.80\n",
    "is_student = True\n",
    "\n",
    "# Type Cast Int a Otro\n",
    "age_str = str(age)\n",
    "age_float = float(age)\n",
    "age_bool = bool(age)\n",
    "\n",
    "print(f\"{age_str} Type: {type(age_str)}\")\n",
    "print(f\"{age_float} Type: {type(age_float)}\")\n",
    "print(f\"{age_bool} Type: {type(age_bool)}\")\n",
    "\n",
    "# Type Cast Float a Otro\n",
    "\n",
    "height_str = str(height)\n",
    "height_int = int(height)\n",
    "height_bool = bool(height)\n",
    "\n",
    "print(f\"{height_str} Type: {type(height_str)}\")\n",
    "print(f\"{height_int} Type: {type(height_int)}\")\n",
    "print(f\"{height_bool} Type: {type(height_bool)}\")\n",
    "\n",
    "# Type Cast String a Otro\n",
    "# Solo se puede convertir una cadena a un entero si la cadena es un número entero\n",
    "# Si la cadena es un número decimal o no, se convierte a float\n",
    "\n",
    "siblings = \"3\"\n",
    "weight = \"70.5\"\n",
    "nothing = \"\"\n",
    "\n",
    "siblings_int = int(siblings)\n",
    "weight_float = float(weight)\n",
    "nothing_bool = bool(nothing)\n",
    "\n",
    "print(f\"{siblings_int} Type: {type(siblings_int)}\")\n",
    "print(f\"{weight_float} Type: {type(weight_float)}\")\n",
    "print(f\"{nothing_bool} Type: {type(nothing_bool)}\")\n",
    "\n",
    "# Todo numero diferente de cero da True y el cero False\n",
    "# Toda cadena de caracteres nula \"\" da False y lo demas da True"
   ]
  },
  {
   "cell_type": "markdown",
   "id": "462e3709",
   "metadata": {},
   "source": [
    "##### 🔨 **Input**\n",
    "\n",
    "La función `input()` se usa para pedir datos al usuario, hay que conocer que siempre los datos vienen dados en formato de cadena de carácteres por lo que hay que usar los *Type Cast*."
   ]
  },
  {
   "cell_type": "code",
   "execution_count": null,
   "id": "414baadb",
   "metadata": {},
   "outputs": [
    {
     "name": "stdout",
     "output_type": "stream",
     "text": [
      "Hello Joao, you are 22 years old and 1.8 meters tall.\n"
     ]
    }
   ],
   "source": [
    "# Ejemplo de Input y conversion\n",
    "name = input(\"What's your name? \")\n",
    "age = int(input(\"How old are you? \"))\n",
    "height = float(input(\"How tall are you? \"))\n",
    "\n",
    "print(f\"Hello {name}, you are {age} years old and {height} meters tall.\")"
   ]
  },
  {
   "cell_type": "markdown",
   "id": "db08c1f1",
   "metadata": {},
   "source": [
    "##### 🔨 **Longitud de Cadena**\n",
    "\n",
    "La función `len()` se puede usar para conocer la longitud de una cadena de carácteres, también funciona para ver la cantidad de elementos de listas.\n",
    "\n",
    "📌 [Revisar Listas](../02.%20Estructuras/01.%20Lists.ipynb)"
   ]
  },
  {
   "cell_type": "code",
   "execution_count": 22,
   "id": "4bd72b7e",
   "metadata": {},
   "outputs": [
    {
     "name": "stdout",
     "output_type": "stream",
     "text": [
      "6\n"
     ]
    }
   ],
   "source": [
    "print(len(name))"
   ]
  }
 ],
 "metadata": {
  "kernelspec": {
   "display_name": "Python 3",
   "language": "python",
   "name": "python3"
  },
  "language_info": {
   "codemirror_mode": {
    "name": "ipython",
    "version": 3
   },
   "file_extension": ".py",
   "mimetype": "text/x-python",
   "name": "python",
   "nbconvert_exporter": "python",
   "pygments_lexer": "ipython3",
   "version": "3.13.2"
  }
 },
 "nbformat": 4,
 "nbformat_minor": 5
}
