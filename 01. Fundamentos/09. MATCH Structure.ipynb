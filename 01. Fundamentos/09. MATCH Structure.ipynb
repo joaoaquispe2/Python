{
 "cells": [
  {
   "cell_type": "markdown",
   "id": "83b1addc",
   "metadata": {},
   "source": [
    "## **Estructura MATCH**"
   ]
  },
  {
   "cell_type": "markdown",
   "id": "46233ef0",
   "metadata": {},
   "source": [
    "##### 🏠 **Condicional Match**\n",
    "\n",
    "`Match-case` es una estructura de control que permite comparar un valor con múltiples patrones, como un switch avanzado, y así no usar una gran cantidad de `Elif` anidados. `case _:` actúa como default y se ejecuta si no coincide ningún caso anterior."
   ]
  },
  {
   "cell_type": "code",
   "execution_count": 4,
   "id": "29f6241a",
   "metadata": {},
   "outputs": [
    {
     "name": "stdout",
     "output_type": "stream",
     "text": [
      "Value: Two\n"
     ]
    }
   ],
   "source": [
    "value = 2\n",
    "\n",
    "match value:\n",
    "    case 1:\n",
    "        print(\"Value: One\")\n",
    "    case 2:\n",
    "        print(\"Value: Two\")\n",
    "    case _:\n",
    "        print(\"Other number\")"
   ]
  },
  {
   "cell_type": "markdown",
   "id": "f12aa2b1",
   "metadata": {},
   "source": [
    "También es posible colocar múltiples opciones en un solo `case` para no estar repitiendo el código múltiples veces."
   ]
  },
  {
   "cell_type": "code",
   "execution_count": 5,
   "id": "584cf1da",
   "metadata": {},
   "outputs": [
    {
     "name": "stdout",
     "output_type": "stream",
     "text": [
      "It's the weekend\n"
     ]
    }
   ],
   "source": [
    "day = \"Saturday\"\n",
    "\n",
    "match day:\n",
    "    case \"Saturday\" | \"Sunday\":\n",
    "        print(\"It's the weekend\")\n",
    "    case \"Monday\" | \"Tuesday\" | \"Wednesday\" | \"Thursday\" | \"Friday\":\n",
    "        print(\"It's a weekday\")"
   ]
  },
  {
   "cell_type": "markdown",
   "id": "f81bd99e",
   "metadata": {},
   "source": [
    "##### 🌑 **Match con otros Elementos**\n",
    "\n",
    "Tambíen se puede realizar case con otros tipos de valores como tuplas, y poner variables que representen alguna generalización. En diccionarios es un concepto más avanzado pero también es posible.\n",
    "\n",
    "📌 [Revisar Tuples](../02.%20Estructuras/03.%20Tuples.ipynb)  \n",
    "📌 [Revisar Dictionaries](../02.%20Estructuras/04.%20Dictionaries.ipynb)"
   ]
  },
  {
   "cell_type": "code",
   "execution_count": 8,
   "id": "604b3bf4",
   "metadata": {},
   "outputs": [
    {
     "name": "stdout",
     "output_type": "stream",
     "text": [
      "Y axis at 1\n",
      "Nombre: Ana, Edad: 30\n"
     ]
    }
   ],
   "source": [
    "point = (0, 1)\n",
    "\n",
    "match point:\n",
    "    case (0, 0):\n",
    "        print(\"Origin\")\n",
    "    case (0, y):\n",
    "        print(f\"Y axis at {y}\")\n",
    "    case (x, 0):\n",
    "        print(f\"X axis at {x}\")\n",
    "    case (x, y):\n",
    "        print(f\"Coordinate: ({x}, {y})\")\n",
    "\n",
    "persona = {\"nombre\": \"Ana\", \"edad\": 30}\n",
    "\n",
    "match persona:\n",
    "    case {\"nombre\": nombre, \"edad\": edad}:\n",
    "        print(f\"Nombre: {nombre}, Edad: {edad}\")\n"
   ]
  },
  {
   "cell_type": "markdown",
   "id": "6f9007c9",
   "metadata": {},
   "source": [
    "##### 🌑 **Match + If**\n",
    "\n",
    "Se puede incluir la estructura `If` para colocar alguna condicional si se necesita.\n",
    "\n",
    "📌 [Revisar IF Structure](04.%20IF%20Structure.ipynb)"
   ]
  },
  {
   "cell_type": "code",
   "execution_count": 9,
   "id": "6dd43e2b",
   "metadata": {},
   "outputs": [
    {
     "name": "stdout",
     "output_type": "stream",
     "text": [
      "You are underage\n"
     ]
    }
   ],
   "source": [
    "age = 17\n",
    "\n",
    "match age:\n",
    "    case age if age < 18:\n",
    "        print(\"You are underage\")\n",
    "    case age if age >= 18:\n",
    "        print(\"You are an adult\")"
   ]
  }
 ],
 "metadata": {
  "kernelspec": {
   "display_name": "Python 3",
   "language": "python",
   "name": "python3"
  },
  "language_info": {
   "codemirror_mode": {
    "name": "ipython",
    "version": 3
   },
   "file_extension": ".py",
   "mimetype": "text/x-python",
   "name": "python",
   "nbconvert_exporter": "python",
   "pygments_lexer": "ipython3",
   "version": "3.13.2"
  }
 },
 "nbformat": 4,
 "nbformat_minor": 5
}
