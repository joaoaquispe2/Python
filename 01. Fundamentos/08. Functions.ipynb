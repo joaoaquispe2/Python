{
 "cells": [
  {
   "cell_type": "markdown",
   "id": "479f5013",
   "metadata": {},
   "source": [
    "## **Funciones**"
   ]
  },
  {
   "cell_type": "markdown",
   "id": "687839a8",
   "metadata": {},
   "source": [
    "##### 🏠 **Funciones en Python**\n",
    "\n",
    "Una función es un bloque de código reutilizable que realiza una tarea específica.\n",
    "Se define usando la palabra clave `def` luego se coloca el nombre de la función y entre paréntesis los argumentos."
   ]
  },
  {
   "cell_type": "code",
   "execution_count": 1,
   "metadata": {},
   "outputs": [
    {
     "name": "stdout",
     "output_type": "stream",
     "text": [
      "Hello, world!\n",
      "Goodbye, World!\n",
      "Hello, Joao!\n",
      "The sum of 3 and 5 is 8\n",
      "The difference of 10 and 12 is -2\n"
     ]
    }
   ],
   "source": [
    "# Funcion de ejemplo en Python\n",
    "def greet():\n",
    "    \"\"\"Puedes documentar funciones con docstrings.\"\"\"\n",
    "    print(\"Hello, world!\")\n",
    "\n",
    "greet()\n",
    "\n",
    "# Funcion de ejemplo que no retorna Nada\n",
    "def bye() -> None:\n",
    "    print(\"Goodbye, World!\")\n",
    "\n",
    "bye()\n",
    "\n",
    "# Funcion de ejemplo con un argumento\n",
    "def greet_person(name) -> None:\n",
    "    print(f\"Hello, {name}!\")\n",
    "\n",
    "greet_person(\"Joao\")\n",
    "\n",
    "# Funcion de ejemplo con varios argumentos\n",
    "def add(a, b) -> None:\n",
    "    result = a + b\n",
    "    print(f\"The sum of {a} and {b} is {result}\")\n",
    "\n",
    "add(3, 5)\n",
    "\n",
    "# Funcion de ejemplo con argumentos de un tipo\n",
    "def diff(a : int, b: int) -> None:\n",
    "    result = a - b\n",
    "    print(f\"The difference of {a} and {b} is {result}\")\n",
    "\n",
    "diff(10, 12)"
   ]
  },
  {
   "cell_type": "markdown",
   "metadata": {},
   "source": [
    "##### 🌑 **Tipos de Argumentos**\n",
    "\n",
    "Las funciones pueden tener parámetros como ya hemos visto, pero hay 4 tipos relevantes: posicionales, por defecto, por clave y argumentos variables. El primer tipo ya lo vimos en el bloque anterior así que veamos los otros tres. Los argumentos por defecto son aquellos que si no ingresas su valor pueden tomar un valor asigando, siempre se colocan luego de los argumentos posicionales."
   ]
  },
  {
   "cell_type": "code",
   "execution_count": null,
   "id": "bdbcc1b8",
   "metadata": {},
   "outputs": [
    {
     "name": "stdout",
     "output_type": "stream",
     "text": [
      "Power with default value:\n",
      "Five squared is 25\n",
      "Two cubed is 8\n"
     ]
    }
   ],
   "source": [
    "# Toma 2 si no se especifica el segundo argumento\n",
    "def power(base, exponent=2):\n",
    "    return base ** exponent\n",
    "\n",
    "print(\"Power with default value:\")\n",
    "print(f\"Five squared is {power(5)}\")  # Exponente por defecto\n",
    "print(f\"Two cubed is {power(2, 3)}\")  # Exponente especificado"
   ]
  },
  {
   "cell_type": "markdown",
   "id": "ff1174ce",
   "metadata": {},
   "source": [
    "Los argumentos clave son aquellos que se ingresan con el nombre de la variable definida en la función. Un ejemplo de esto puede verse en la función `print()`, en donde se puede usar la variable por clave `end=` para definir como termina la cadena."
   ]
  },
  {
   "cell_type": "code",
   "execution_count": null,
   "id": "ab9f4cce",
   "metadata": {},
   "outputs": [
    {
     "name": "stdout",
     "output_type": "stream",
     "text": [
      "Using keyword arguments:\n",
      "My name is Ana, I am 30 years old and I live in Madrid.\n",
      "1 2 3 4 5 \n"
     ]
    }
   ],
   "source": [
    "def introduce(name, age, city) -> None:\n",
    "    print(f\"My name is {name}, I am {age} years old and I live in {city}.\")\n",
    "\n",
    "print(\"Using keyword arguments:\")\n",
    "introduce(name=\"Ana\", city=\"Madrid\", age=30)\n",
    "\n",
    "# Ejemplo con print() y end\n",
    "def print_numbers() -> None:\n",
    "    for i in range(1, 6):\n",
    "        print(i, end=' ')\n",
    "\n",
    "print_numbers()"
   ]
  },
  {
   "cell_type": "markdown",
   "id": "e50146b3",
   "metadata": {},
   "source": [
    "Los argumentos variables son aquellos que no conces la cantidad de valores que se insertarán, por lo que se coloca `*args`. También se puede colocar `**kargs` para indicar que se ingresarán una cantidad de elementos de tipo clave valor como diccionarios. Para ambos casos se puede acceder a los elemntos con un bucle `For`."
   ]
  },
  {
   "cell_type": "code",
   "execution_count": 4,
   "id": "48be8580",
   "metadata": {},
   "outputs": [
    {
     "name": "stdout",
     "output_type": "stream",
     "text": [
      "Sum of variable numbers: 15\n",
      "Show information with variable keyword arguments:\n",
      "Name: Carlos\n",
      "Age: 30\n",
      "City: Madrid\n",
      "Occupation: Engineer\n"
     ]
    }
   ],
   "source": [
    "# Ejemplo de funciones con argumentos variables\n",
    "def sum_many(*args):\n",
    "    result = 0\n",
    "    for number in args:\n",
    "        result += number\n",
    "    return result\n",
    "\n",
    "print(f\"Sum of variable numbers: {sum_many(1, 2, 3, 4, 5)}\")\n",
    "\n",
    "# Ejemplo de función con argumentos de palabras clave variables\n",
    "def show_information(**kwargs) -> None:\n",
    "    for key, value in kwargs.items():\n",
    "        print(f\"{key.capitalize()}: {value}\")\n",
    "\n",
    "print(\"Show information with variable keyword arguments:\")\n",
    "show_information(name=\"Carlos\", age=30, city=\"Madrid\", occupation=\"Engineer\")"
   ]
  },
  {
   "cell_type": "markdown",
   "id": "933c3c51",
   "metadata": {},
   "source": [
    "##### 🌑 **Retorno de Funciones**\n",
    "\n",
    "Las funciones pueden retornar algún valor para que puedas colocarlo en alguna variables, puedes usar la palabra clave `return` para esta funcionalidad."
   ]
  },
  {
   "cell_type": "code",
   "execution_count": 5,
   "id": "c5345eed",
   "metadata": {},
   "outputs": [
    {
     "name": "stdout",
     "output_type": "stream",
     "text": [
      "The area of the rectangle is 50\n"
     ]
    }
   ],
   "source": [
    "def rectangle_area(base, height):\n",
    "    return base * height\n",
    "\n",
    "result = rectangle_area(5, 10)\n",
    "print(f\"The area of the rectangle is {result}\")"
   ]
  },
  {
   "cell_type": "markdown",
   "id": "b4b8bfbf",
   "metadata": {},
   "source": [
    "##### 🌑 **Funciones Anidadas**\n",
    "\n",
    "Las funciones pueden definirse dentro de otra función pero estas solo pueden usarse dentro de donde son creadas, por lo que no podrás llamarlas desde fuera. Como se ve también es posible retornar más de una variable en las funciones."
   ]
  },
  {
   "cell_type": "code",
   "execution_count": 15,
   "id": "d548277a",
   "metadata": {},
   "outputs": [
    {
     "name": "stdout",
     "output_type": "stream",
     "text": [
      "Sum and subtraction from nested function:\n",
      "Sum: 35, Subtraction: -5\n"
     ]
    }
   ],
   "source": [
    "def calculator(a, b):\n",
    "    def add():\n",
    "        return a + b\n",
    "    def subtract():\n",
    "        return a - b\n",
    "    return add(), subtract()\n",
    "\n",
    "rsum, rsub = calculator(15, 20)\n",
    "print(\"Sum and subtraction from nested function:\")\n",
    "print(f\"Sum: {rsum}, Subtraction: {rsub}\")"
   ]
  },
  {
   "cell_type": "markdown",
   "id": "655624c7",
   "metadata": {},
   "source": [
    "##### 🌑 **Recursividad**\n",
    "\n",
    "Llamamos recursividad cuando una función se llama a sí misma dentro de su desarrollo. Tiene múltiples usos pero por lo general se debe usar con cuidado o se crea un bucle infinito."
   ]
  },
  {
   "cell_type": "code",
   "execution_count": 17,
   "id": "2a8af299",
   "metadata": {},
   "outputs": [
    {
     "name": "stdout",
     "output_type": "stream",
     "text": [
      "Factorial calculated with recursion:\n",
      "The factorial of 5 is 120\n"
     ]
    }
   ],
   "source": [
    "def factorial(n):\n",
    "    if n == 0 or n == 1:\n",
    "        return 1\n",
    "    else:\n",
    "        return n * factorial(n - 1)\n",
    "\n",
    "print(\"Factorial calculated with recursion:\")\n",
    "number = 5\n",
    "print(f\"The factorial of {number} is {factorial(number)}\")"
   ]
  },
  {
   "cell_type": "markdown",
   "id": "4ff68dc4",
   "metadata": {},
   "source": [
    "##### 🌑 **Scope (Alcance de Variables)**\n",
    "\n",
    "Esto hace referencia a que las variables tienen un límite de uso. Podemos guiarnos de lo siguiente para saber que variables se reconocerá en primera instancia: Local -> Enclosed -> Global -> Built In"
   ]
  },
  {
   "cell_type": "code",
   "execution_count": null,
   "id": "eaf091a0",
   "metadata": {},
   "outputs": [
    {
     "name": "stdout",
     "output_type": "stream",
     "text": [
      "I am a global variable\n",
      "I am a local variable\n"
     ]
    }
   ],
   "source": [
    "def scope_example() -> None:\n",
    "    local = \"I am a local variable\"\n",
    "    print(local)\n",
    "\n",
    "local = \"I am a global variable\"\n",
    "print(local)\n",
    "scope_example()"
   ]
  }
 ],
 "metadata": {
  "kernelspec": {
   "display_name": "Python 3",
   "language": "python",
   "name": "python3"
  },
  "language_info": {
   "codemirror_mode": {
    "name": "ipython",
    "version": 3
   },
   "file_extension": ".py",
   "mimetype": "text/x-python",
   "name": "python",
   "nbconvert_exporter": "python",
   "pygments_lexer": "ipython3",
   "version": "3.13.2"
  }
 },
 "nbformat": 4,
 "nbformat_minor": 5
}
