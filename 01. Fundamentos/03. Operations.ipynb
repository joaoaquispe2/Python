{
 "cells": [
  {
   "cell_type": "markdown",
   "id": "8d9129df",
   "metadata": {},
   "source": [
    "## **Operations**"
   ]
  },
  {
   "cell_type": "markdown",
   "id": "80dfc1d6",
   "metadata": {},
   "source": [
    "##### 🌑 **Matemáticos**"
   ]
  },
  {
   "cell_type": "code",
   "execution_count": null,
   "id": "0877caaa",
   "metadata": {},
   "outputs": [],
   "source": [
    "plus = 2 + 2\n",
    "minus = 2 - 2\n",
    "multiply = 2 * 2\n",
    "divide = 2 / 2\n",
    "exponent = 2 ** 2\n",
    "modulus = 2 % 2\n",
    "floor_division = 2 // 2\n",
    "\n",
    "# Se obtienen Integrers"
   ]
  },
  {
   "cell_type": "markdown",
   "id": "7602f927",
   "metadata": {},
   "source": [
    "##### 🌑 **Matemáticos + Asignación**"
   ]
  },
  {
   "cell_type": "code",
   "execution_count": null,
   "id": "97f9bd23",
   "metadata": {},
   "outputs": [],
   "source": [
    "number = 40\n",
    "number += 2\n",
    "number -= 3\n",
    "number *= 5\n",
    "number /= 9\n",
    "number **= 7\n",
    "number %= 1\n",
    "number //= 8\n",
    "\n",
    "# Se obtienen modificaciones del número"
   ]
  },
  {
   "cell_type": "markdown",
   "id": "62a480a6",
   "metadata": {},
   "source": [
    "##### 🌑 **Texto**"
   ]
  },
  {
   "cell_type": "code",
   "execution_count": null,
   "id": "d524d3f2",
   "metadata": {},
   "outputs": [],
   "source": [
    "repetition = \"Juan\" * 3\n",
    "concatenation = \"Juan\" + \" \" + \"Pablo\"\n",
    "inclusion = \"Juan \"\n",
    "inclusion += \"Pablo \"\n",
    "inclusion *= 3\n",
    "\n",
    "# Se obtienen Strings"
   ]
  },
  {
   "cell_type": "markdown",
   "id": "7567fdef",
   "metadata": {},
   "source": [
    "##### 🌑 **Comparación**"
   ]
  },
  {
   "cell_type": "code",
   "execution_count": null,
   "id": "0c37aaaf",
   "metadata": {},
   "outputs": [],
   "source": [
    "equality = 2 == 2\n",
    "inequality = 2 != 2\n",
    "greater_than = 2 > 2\n",
    "less_than = 2 < 2\n",
    "greater_than_or_equal = 2 >= 2\n",
    "less_than_or_equal = 2 <= 2\n",
    "\n",
    "# Se obtienen Booleanos"
   ]
  },
  {
   "cell_type": "markdown",
   "id": "538cc726",
   "metadata": {},
   "source": [
    "##### 🌑 **Booleanos**"
   ]
  },
  {
   "cell_type": "code",
   "execution_count": null,
   "id": "aab61860",
   "metadata": {},
   "outputs": [],
   "source": [
    "negation = not True\n",
    "and_operator = True and False\n",
    "or_operator = True or False\n",
    "\n",
    "# Se obtienen boleanos"
   ]
  },
  {
   "cell_type": "markdown",
   "id": "7b7e3b8f",
   "metadata": {},
   "source": [
    "##### 🌑 **Operacions con Bits**\n",
    "\n",
    "📌 [Revisar Bits](../04.%20Anexos/05.%20Bits.ipynb)"
   ]
  },
  {
   "cell_type": "code",
   "execution_count": null,
   "id": "231a8dc6",
   "metadata": {},
   "outputs": [],
   "source": [
    "bitwise_and = 2 & 2\n",
    "bitwise_or = 2 | 2\n",
    "bitwise_xor = 2 ^ 2\n",
    "bitwise_not = ~2\n",
    "bitwise_left_shift = 2 << 2\n",
    "bitwise_right_shift = 2 >> 2\n",
    "\n",
    "# Se obtienen Integers trabajando con bits"
   ]
  }
 ],
 "metadata": {
  "kernelspec": {
   "display_name": "Python 3",
   "language": "python",
   "name": "python3"
  },
  "language_info": {
   "codemirror_mode": {
    "name": "ipython",
    "version": 3
   },
   "file_extension": ".py",
   "mimetype": "text/x-python",
   "name": "python",
   "nbconvert_exporter": "python",
   "pygments_lexer": "ipython3",
   "version": "3.13.2"
  }
 },
 "nbformat": 4,
 "nbformat_minor": 5
}
