{
 "cells": [
  {
   "cell_type": "markdown",
   "id": "48ed8c8c",
   "metadata": {},
   "source": [
    "## **Estructura While**"
   ]
  },
  {
   "cell_type": "markdown",
   "id": "3215b723",
   "metadata": {},
   "source": [
    "##### 🏠 **Bucle While** \n",
    "\n",
    "El bucle \"While\" repite un bloque de código mientras una condición dada sea verdadera."
   ]
  },
  {
   "cell_type": "code",
   "execution_count": null,
   "id": "f4cc69ba",
   "metadata": {},
   "outputs": [],
   "source": [
    "# Contador que cuenta hasta 5\n",
    "counter = 1\n",
    "while counter <= 5:\n",
    "    print(f\"Counter: {counter}\")\n",
    "    counter += 1\n",
    "\n",
    "# Incremento necesario para evitar un bucle infinito"
   ]
  },
  {
   "cell_type": "markdown",
   "id": "11b1adf3",
   "metadata": {},
   "source": [
    "##### 🌑 **Break**\n",
    "\n",
    "La instrucción `break` detiene el bucle antes de que incluso se determine que la condición sea falsa."
   ]
  },
  {
   "cell_type": "code",
   "execution_count": 2,
   "id": "b9d5ec1d",
   "metadata": {},
   "outputs": [
    {
     "name": "stdout",
     "output_type": "stream",
     "text": [
      "Number: 1\n",
      "Number: 2\n",
      "Number: 3\n",
      "Found 3, stopping the loop.\n"
     ]
    }
   ],
   "source": [
    "# Contar hasta que se encuentre un número específico\n",
    "counter = 1\n",
    "while True:\n",
    "    print(f\"Number: {counter}\")\n",
    "\n",
    "    # Detenemos el bucle cuando el contador llegue a 3\n",
    "    if counter == 3:\n",
    "        print(\"Found 3, stopping the loop.\")\n",
    "        break\n",
    "    counter += 1"
   ]
  },
  {
   "cell_type": "markdown",
   "id": "408daf8c",
   "metadata": {},
   "source": [
    "##### 🌑 **Continue**\n",
    "\n",
    "La instrucción `continue` omite el resto del código en la iteración actual y pasa a la siguiente.\n"
   ]
  },
  {
   "cell_type": "code",
   "execution_count": null,
   "id": "cc1d5956",
   "metadata": {},
   "outputs": [],
   "source": [
    "# Imprimir números del 1 al 10, pero saltar los pares\n",
    "number = 0\n",
    "\n",
    "while number < 10:\n",
    "    number += 1\n",
    "    if number % 2 == 0:\n",
    "        continue  # Saltar si el número es par\n",
    "    print(f\"Odd number: {number}\")"
   ]
  },
  {
   "cell_type": "markdown",
   "id": "7c260de2",
   "metadata": {},
   "source": [
    "##### 🌑 **Else + While** \n",
    "\n",
    "El bloque `Else` se puede usar con el bucle `While` y este se ejecuta cuando el bucle termina naturalmente.\n",
    "\n",
    "📌 [Revisar IF Structure](04.%20IF%20Structure.ipynb)"
   ]
  },
  {
   "cell_type": "code",
   "execution_count": 8,
   "id": "d62ebf13",
   "metadata": {},
   "outputs": [
    {
     "name": "stdout",
     "output_type": "stream",
     "text": [
      "Counter: 1\n",
      "Counter: 2\n",
      "Counter: 3\n",
      "Counter reached 3, exiting the loop.\n"
     ]
    }
   ],
   "source": [
    "# El mensaje se imprime si el bucle se completa sin interrupcion\n",
    "counter = 1\n",
    "while counter <= 3:\n",
    "    print(f\"Counter: {counter}\")\n",
    "    counter += 1\n",
    "else:\n",
    "    print(\"Counter reached 3, exiting the loop.\")"
   ]
  },
  {
   "cell_type": "markdown",
   "id": "a601f708",
   "metadata": {},
   "source": [
    "##### 🌑 **While en única línea** \n",
    "\n",
    "El bucle `While` también puede ser colocado en una sola línea con algunas consideraciones.\n",
    "- Se puede añadir una condicional `If` siempre con `Else` al final de la declaración.\n",
    "- Se coloca luego de punto y coma otras código que se ejecuta, por lo general para que la condición sea falsa."
   ]
  },
  {
   "cell_type": "code",
   "execution_count": null,
   "id": "166e7523",
   "metadata": {},
   "outputs": [],
   "source": [
    "# While en una sola línea\n",
    "number = 0\n",
    "while number <= 5: print(number); number += 1\n",
    "\n",
    "# While en una sola línea solo con if\n",
    "number = 0\n",
    "while number <= 5: print(number) if number % 2 == 0 else None; number += 1\n",
    "\n",
    "# While en una sola línea con if y else\n",
    "number = 0\n",
    "while number <= 5: print(number) if number % 2 == 0 else print(\"Odd number\"); number += 1"
   ]
  }
 ],
 "metadata": {
  "kernelspec": {
   "display_name": "Python 3",
   "language": "python",
   "name": "python3"
  },
  "language_info": {
   "codemirror_mode": {
    "name": "ipython",
    "version": 3
   },
   "file_extension": ".py",
   "mimetype": "text/x-python",
   "name": "python",
   "nbconvert_exporter": "python",
   "pygments_lexer": "ipython3",
   "version": "3.13.2"
  }
 },
 "nbformat": 4,
 "nbformat_minor": 5
}
