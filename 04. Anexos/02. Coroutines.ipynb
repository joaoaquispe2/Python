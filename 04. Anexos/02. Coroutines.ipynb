{
 "cells": [
  {
   "cell_type": "markdown",
   "id": "db0fb6a3",
   "metadata": {},
   "source": [
    "## **Courutines**"
   ]
  },
  {
   "cell_type": "markdown",
   "id": "c4f46faf",
   "metadata": {},
   "source": [
    "##### 🌑 **Yield**\n",
    "\n",
    "Los tipos de corrutinas con la palabra clave `yield` se usan para funciones que deseas que se pause su ejecución y luego más adelante continúe. El término funciona como un `return` pero al mismo tiempo indica que se continuará desde allí para continuar luego. Se pueden usar como iteradores dentro de bucles."
   ]
  },
  {
   "cell_type": "code",
   "execution_count": 42,
   "id": "5616307d",
   "metadata": {},
   "outputs": [
    {
     "name": "stdout",
     "output_type": "stream",
     "text": [
      "1 2 3 "
     ]
    }
   ],
   "source": [
    "def count_up_to(limit):\n",
    "    count = 1\n",
    "    while count <= limit:\n",
    "        # Yield devuelve valores\n",
    "        yield count\n",
    "        count += 1\n",
    "\n",
    "for num in count_up_to(3):\n",
    "    print(num, end= \" \")"
   ]
  },
  {
   "cell_type": "markdown",
   "id": "3aa51028",
   "metadata": {},
   "source": [
    "##### 🔨 **Interactuar con Corrutinas**\n",
    "\n",
    "A estas Funciones que poseen la palabra clave `yield` se les llama por lo general Generadores, y se pueden asignar estas Funciones especiales a variables. Usamos la Función `next()` para avanzar hasta el siguiente yield dentro del Generador y usamos la función `send()` para enviar datos."
   ]
  },
  {
   "cell_type": "code",
   "execution_count": null,
   "id": "a7b792ab",
   "metadata": {},
   "outputs": [
    {
     "name": "stdout",
     "output_type": "stream",
     "text": [
      "Received: Hi\n"
     ]
    }
   ],
   "source": [
    "def echo():\n",
    "    while True:\n",
    "        received = yield\n",
    "        print(\"Received:\", received)\n",
    "\n",
    "e = echo()\n",
    "next(e)        # Avanza hasta el primer yield\n",
    "e.send(\"Hi\")   # Imprime Received: Hi"
   ]
  },
  {
   "cell_type": "markdown",
   "id": "e9fe58b0",
   "metadata": {},
   "source": [
    "##### 🔨 **Cierre de  Corrutinas**\n",
    "\n",
    "Para cerrar una Corrutina usamos la Función `close()` con la variable que hemos asignado. Luego es posible asignar el Generador a otra variable, para evitar errores la variable anterior debe ser `None`"
   ]
  },
  {
   "cell_type": "code",
   "execution_count": 31,
   "id": "cac8a82e",
   "metadata": {},
   "outputs": [
    {
     "name": "stdout",
     "output_type": "stream",
     "text": [
      "Log: Starting up\n",
      "Corrutina cerrada.\n",
      "Log: Starting up again\n"
     ]
    }
   ],
   "source": [
    "def logger():\n",
    "    try:\n",
    "        while True:\n",
    "            msg = yield\n",
    "            print(\"Log:\", msg)\n",
    "    except GeneratorExit:\n",
    "        print(\"Corrutina cerrada.\")\n",
    "\n",
    "log = logger()\n",
    "next(log)\n",
    "log.send(\"Starting up\")\n",
    "log.close()  # Corrutina cerrada\n",
    "log = None\n",
    "\n",
    "a = logger()\n",
    "next(a)\n",
    "a.send(\"Starting up again\")"
   ]
  },
  {
   "cell_type": "markdown",
   "id": "c8a01acd",
   "metadata": {},
   "source": [
    "##### 🌑 **Multithreading**\n",
    "\n",
    "El multithreading permite ejecutar varios hilos de ejecución (threads) dentro del mismo proceso. Puede ser útiles para tareas que esperan como de lectura o red. Se debe importar la Librería corespondiente. Para crear un hilo usamos `threading.Thread()`. El argumento `target= ` es para la Función deseada y `args=` es para ingresar los argumentos."
   ]
  },
  {
   "cell_type": "code",
   "execution_count": null,
   "id": "f1b78ec6",
   "metadata": {},
   "outputs": [
    {
     "name": "stdout",
     "output_type": "stream",
     "text": [
      "Starting download...\n",
      "Download complete.\n",
      "Main program finished.\n"
     ]
    }
   ],
   "source": [
    "import threading\n",
    "import time\n",
    "\n",
    "def download_file():\n",
    "    print(\"Starting download...\")\n",
    "    time.sleep(2)\n",
    "    print(\"Download complete.\")\n",
    "\n",
    "# Crear el hilo\n",
    "thread = threading.Thread(target=download_file)\n",
    "\n",
    "# Iniciar el hilo\n",
    "thread.start()\n",
    "\n",
    "# Esperar a que termine\n",
    "thread.join()\n",
    "\n",
    "print(\"Main program finished.\")"
   ]
  },
  {
   "cell_type": "markdown",
   "id": "a51bb34f",
   "metadata": {},
   "source": [
    "Se usa la función 🔨 `start()` para indicar cuando empieza el hilo; y la Función 🔨 `join()` para indicar el momento en donde el hilo se reincorpora a la rama principal. Esto se puede hacer para múlltiples thredings."
   ]
  },
  {
   "cell_type": "code",
   "execution_count": null,
   "id": "93a11c31",
   "metadata": {},
   "outputs": [
    {
     "name": "stdout",
     "output_type": "stream",
     "text": [
      "Starting task T1\n",
      "Starting task T2\n",
      "Starting task T3\n",
      "Finished task T1\n",
      "Finished task T2\n",
      "Finished task T3\n",
      "All tasks completed.\n"
     ]
    }
   ],
   "source": [
    "def process_task(name):\n",
    "    print(f\"Starting task {name}\")\n",
    "    time.sleep(1)\n",
    "    print(f\"Finished task {name}\")\n",
    "\n",
    "threads = []\n",
    "\n",
    "for i in range(3):\n",
    "    t = threading.Thread(target=process_task, args=(f\"T{i+1}\",))\n",
    "    t.start()\n",
    "    threads.append(t)\n",
    "\n",
    "# Esperar que todos los hilos terminen\n",
    "for t in threads:\n",
    "    t.join()\n",
    "\n",
    "print(\"All tasks completed.\")"
   ]
  }
 ],
 "metadata": {
  "kernelspec": {
   "display_name": "Python 3",
   "language": "python",
   "name": "python3"
  },
  "language_info": {
   "codemirror_mode": {
    "name": "ipython",
    "version": 3
   },
   "file_extension": ".py",
   "mimetype": "text/x-python",
   "name": "python",
   "nbconvert_exporter": "python",
   "pygments_lexer": "ipython3",
   "version": "3.13.2"
  }
 },
 "nbformat": 4,
 "nbformat_minor": 5
}
