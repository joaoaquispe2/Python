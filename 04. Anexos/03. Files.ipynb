{
 "cells": [
  {
   "cell_type": "markdown",
   "id": "93a2b9c6",
   "metadata": {},
   "source": [
    "## **Files**"
   ]
  },
  {
   "cell_type": "markdown",
   "id": "6e3e2996",
   "metadata": {},
   "source": [
    "##### 🔨 **Abrir Archivos**\n",
    "\n",
    "Para abrir archivos en Python usamos la Función `open()`, como primer argumento colocamos el nombre completo del archivo y como segundo argumento colocamos el modo, es decir lo que haremos con el archivo (r: leer, w: escribir, a: agregar, x:crear archivo). Siempre debes cerrar el archivo con `close()`"
   ]
  },
  {
   "cell_type": "code",
   "execution_count": 1,
   "id": "e4c191ac",
   "metadata": {},
   "outputs": [
    {
     "name": "stdout",
     "output_type": "stream",
     "text": [
      "Hola como estas  \n",
      "Que haces  \n",
      "Quieres ser mi amigo?  \n"
     ]
    }
   ],
   "source": [
    "# Sintaxis general\n",
    "file = open(\"../Recursos/TestFiles/TestFile1.txt\", \"r\")\n",
    "\n",
    "# Leer contenido\n",
    "content = file.read()\n",
    "print(content)"
   ]
  },
  {
   "cell_type": "code",
   "execution_count": 3,
   "id": "391c0b45",
   "metadata": {},
   "outputs": [
    {
     "name": "stdout",
     "output_type": "stream",
     "text": [
      "Hola como estas  \n",
      "\n"
     ]
    }
   ],
   "source": [
    "file = open(\"../Recursos/TestFiles/TestFile1.txt\", \"r\")\n",
    "\n",
    "# Lee una línea\n",
    "line = file.readline()\n",
    "print(line)"
   ]
  },
  {
   "cell_type": "code",
   "execution_count": 4,
   "id": "5bb9567e",
   "metadata": {},
   "outputs": [
    {
     "name": "stdout",
     "output_type": "stream",
     "text": [
      "['Hola como estas\\n', 'Que haces\\n', 'Quieres ser mi amigo?']\n"
     ]
    }
   ],
   "source": [
    "file = open(\"../Recursos/TestFiles/TestFile1.txt\", \"r\")\n",
    "\n",
    "# Lee todas las líneas como lista\n",
    "lines = file.readlines()\n",
    "print(lines)\n",
    "file.close()"
   ]
  },
  {
   "cell_type": "markdown",
   "id": "855f5951",
   "metadata": {},
   "source": [
    "##### 🏠 **Uso de With**\n",
    "\n",
    "`With` es una palabra clave que permite trabajar con cierto archivo y que al terminar el bloque lo cierre automáticamente para evitar errores. Se usa en conjunto con la palabra clave `as` para asignar el Archivo a una variable. Es muy útil en el manejo correcto de archivos."
   ]
  },
  {
   "cell_type": "code",
   "execution_count": 6,
   "id": "bf80de59",
   "metadata": {},
   "outputs": [
    {
     "name": "stdout",
     "output_type": "stream",
     "text": [
      "Hola como estas\n",
      "Que haces\n",
      "Quieres ser mi amigo?\n"
     ]
    }
   ],
   "source": [
    "# With cierra automáticamente el archivo al terminar\n",
    "with open(\"../Recursos/TestFiles/TestFile1.txt\", \"r\") as file:\n",
    "    content = file.read()\n",
    "    print(content)"
   ]
  },
  {
   "cell_type": "code",
   "execution_count": 11,
   "id": "37087d46",
   "metadata": {},
   "outputs": [
    {
     "name": "stdout",
     "output_type": "stream",
     "text": [
      "Hola como estas\n",
      "Que haces\n",
      "Quieres ser mi amigo?\n"
     ]
    }
   ],
   "source": [
    "# Lectura de archivos de línea en línea\n",
    "with open(\"../Recursos/TestFiles/TestFile1.txt\", \"r\") as file:\n",
    "    for line in file:\n",
    "        print(line.strip())"
   ]
  },
  {
   "cell_type": "markdown",
   "id": "61c10584",
   "metadata": {},
   "source": [
    "##### 🔨 **Escritura de Archivos**\n",
    "\n",
    "Para escribir en archivos podemos usar el modo 'w' o 'a' para esto usamos la sintaxis básica pero colocamos una de estas dos letras en el modo. Se usa la Función `write()` para poder escribir dentro."
   ]
  },
  {
   "cell_type": "code",
   "execution_count": 7,
   "id": "a87990c6",
   "metadata": {},
   "outputs": [
    {
     "name": "stdout",
     "output_type": "stream",
     "text": [
      "'Hello, file!' added in ../Recursos/TestFiles/TestFile2.txt \n"
     ]
    }
   ],
   "source": [
    "# Sobrescribe el contenido y borra todo\n",
    "with open(\"../Recursos/TestFiles/TestFile2.txt\", \"w\") as file:\n",
    "    file.write(\"Hello, file!\\n\")\n",
    "    print(f\"'Hello, file!' added in {file.name} \")"
   ]
  },
  {
   "cell_type": "code",
   "execution_count": 9,
   "id": "191b9ba3",
   "metadata": {},
   "outputs": [
    {
     "name": "stdout",
     "output_type": "stream",
     "text": [
      "'Another line' added at the end in ../Recursos/TestFiles/TestFile2.txt \n"
     ]
    }
   ],
   "source": [
    "# Agrega  al final de todo sin borrar\n",
    "with open(\"../Recursos/TestFiles/TestFile2.txt\", \"a\") as file:\n",
    "    file.write(\"Another line.\\n\")\n",
    "    print(f\"'Another line' added at the end in {file.name} \")"
   ]
  },
  {
   "cell_type": "markdown",
   "id": "8898c6e8",
   "metadata": {},
   "source": [
    "##### 🔨 **Funciones Seek y Tell**\n",
    "\n",
    "Estas dos Funciones nos sirven para mover el puntero en donde nos encontramos; es decir, cuando leemos un archivo el puntero es aquel que indica qué línea será la próxima en pintarse o en escribirse. La Función `seek()` te lleva a una posición específica, mientras que `tell()` te dice esta posición."
   ]
  },
  {
   "cell_type": "code",
   "execution_count": null,
   "id": "8e833ed4",
   "metadata": {},
   "outputs": [
    {
     "name": "stdout",
     "output_type": "stream",
     "text": [
      "Posición inicial: 0\n",
      "Nueva posición: 7\n",
      "Contenido desde la posición 7: Salchicha\n"
     ]
    }
   ],
   "source": [
    "with open(\"../Recursos/TestFiles/TestFile3.txt\", \"r\") as archivo:\n",
    "    # Muestra la posición inicial 0\n",
    "    print(\"Posición inicial:\", archivo.tell())  \n",
    "\n",
    "    # Mueve el puntero a la posición 7 y muestra\n",
    "    archivo.seek(7)  \n",
    "    print(\"Nueva posición:\", archivo.tell())  \n",
    "\n",
    "    # Lee desde la nueva posición\n",
    "    contenido = archivo.read() \n",
    "    print(\"Contenido desde la posición 7:\", contenido)"
   ]
  },
  {
   "cell_type": "markdown",
   "id": "4aa32911",
   "metadata": {},
   "source": [
    "##### 🌑 **Archivos en Binario**\n",
    "\n",
    "También es posible leer y copiar archivos en binarios como imágenes, para esto usamos dos modos especiales (rb: leer archivos binarios, wb: escribir archivos binarios)"
   ]
  },
  {
   "cell_type": "code",
   "execution_count": 14,
   "id": "57a7f992",
   "metadata": {},
   "outputs": [],
   "source": [
    "# Leer imagen en binario\n",
    "with open(\"../Recursos/Imagenes/Logo.jpeg\", \"rb\") as file:\n",
    "    data = file.read()\n",
    "\n",
    "# Guardar copia\n",
    "with open(\"copy.png\", \"wb\") as copy:\n",
    "    copy.write(data)"
   ]
  }
 ],
 "metadata": {
  "kernelspec": {
   "display_name": "Python 3",
   "language": "python",
   "name": "python3"
  },
  "language_info": {
   "codemirror_mode": {
    "name": "ipython",
    "version": 3
   },
   "file_extension": ".py",
   "mimetype": "text/x-python",
   "name": "python",
   "nbconvert_exporter": "python",
   "pygments_lexer": "ipython3",
   "version": "3.13.2"
  }
 },
 "nbformat": 4,
 "nbformat_minor": 5
}
