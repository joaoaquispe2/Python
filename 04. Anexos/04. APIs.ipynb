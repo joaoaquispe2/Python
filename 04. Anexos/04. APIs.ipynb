{
 "cells": [
  {
   "cell_type": "markdown",
   "id": "b475013f",
   "metadata": {},
   "source": [
    "## **APIs**"
   ]
  },
  {
   "cell_type": "markdown",
   "id": "7fdc3d69",
   "metadata": {},
   "source": [
    "##### 🌑 **Importar Librería**\n",
    "\n",
    "Antes de poder trabajar con APIs es necesario instalar la Librería necesaria que es `request`, para esto escribimos en consola `pip install requests` y luego importamos la Librería normalmente como ya lo hemos visto.\n",
    "\n",
    "📌 [Revisar Math](../06.%20Librerias/01.%20Math.ipynb)"
   ]
  },
  {
   "cell_type": "code",
   "execution_count": 1,
   "id": "4b31add7",
   "metadata": {},
   "outputs": [],
   "source": [
    "import requests"
   ]
  },
  {
   "cell_type": "markdown",
   "id": "8344273a",
   "metadata": {},
   "source": [
    "##### 🌑 **Solicitar Información**\n",
    "\n",
    "Para solicitar información debemos hacer uso de la solicitud GET, esta es conocida si ya has trabajado con protocolos HTTP antes, te permite recibir toda la información posible."
   ]
  },
  {
   "cell_type": "code",
   "execution_count": null,
   "id": "6a5afb93",
   "metadata": {},
   "outputs": [
    {
     "name": "stdout",
     "output_type": "stream",
     "text": [
      "Name: Eevee\n",
      "ID: 133\n",
      "Height: 3\n",
      "Types: Normal\n"
     ]
    }
   ],
   "source": [
    "base_url = \"https://pokeapi.co/api/v2\"\n",
    "\n",
    "def get_pokemon_info(name):\n",
    "    url = f\"{base_url}/pokemon/{name}\"\n",
    "    response = requests.get(url)\n",
    "    \n",
    "    # Código de Respuesta HTTP\n",
    "    if response.status_code == 200:\n",
    "        pokemon_data = response.json()\n",
    "        return pokemon_data\n",
    "    else:\n",
    "        print(\"Failde to retrieve data {response.status_code}\")\n",
    "\n",
    "pokemon = \"eevee\"\n",
    "pokemon_info = get_pokemon_info(pokemon)\n",
    "\n",
    "# Información de Pokemón en Diccionarios\n",
    "if pokemon_info:\n",
    "    print(f\"Name: {pokemon_info[\"name\"].capitalize()}\")\n",
    "    print(f\"ID: {pokemon_info[\"id\"]}\")\n",
    "    print(f\"Height: {pokemon_info[\"height\"]}\")\n",
    "    print(f\"Types: {pokemon_info[\"types\"][0][\"type\"][\"name\"].capitalize()}\")"
   ]
  }
 ],
 "metadata": {
  "kernelspec": {
   "display_name": "Python 3",
   "language": "python",
   "name": "python3"
  },
  "language_info": {
   "codemirror_mode": {
    "name": "ipython",
    "version": 3
   },
   "file_extension": ".py",
   "mimetype": "text/x-python",
   "name": "python",
   "nbconvert_exporter": "python",
   "pygments_lexer": "ipython3",
   "version": "3.13.2"
  }
 },
 "nbformat": 4,
 "nbformat_minor": 5
}
