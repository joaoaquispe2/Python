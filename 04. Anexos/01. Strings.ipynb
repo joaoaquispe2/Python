{
 "cells": [
  {
   "cell_type": "markdown",
   "id": "8ec4126e",
   "metadata": {},
   "source": [
    "## **Strings**"
   ]
  },
  {
   "cell_type": "markdown",
   "id": "9bd1c7e9",
   "metadata": {},
   "source": [
    "##### 🔨 **Métodos de String**\n",
    "\n",
    "Al trabajar con strings se puede tener una serie de métodos con los que se puede trabajar y así modificar los strings de muchas maneras, ahora veremos los principales"
   ]
  },
  {
   "cell_type": "code",
   "execution_count": null,
   "id": "edec460d",
   "metadata": {},
   "outputs": [
    {
     "name": "stdout",
     "output_type": "stream",
     "text": [
      "My name is Javier and I am 25 years old\n",
      "\n",
      "--Substring search--\n",
      "First position of letter \"a\": 4\n",
      "Last position of letter \"a\": 32\n",
      "Times letter \"a\" appears: 5\n",
      "The text starts with \"My\"?: True\n",
      "The text ends with \"cat\"?: False\n",
      "\n",
      "--Replace substring--\n",
      "Replace spaces with \"-\": My-name-is-Javier-and-I-am-25-years-old\n",
      "\n",
      "--Change case--\n",
      "All lowercase: my name is javier and i am 25 years old\n",
      "All uppercase: MY NAME IS JAVIER AND I AM 25 YEARS OLD\n",
      "First letter capitalized: My name is javier and i am 25 years old\n",
      "Title case: My Name Is Javier And I Am 25 Years Old\n",
      "\n",
      "--Check string content--\n",
      "Is \"Hello\" alphabetic? True\n",
      "Is \"123\" numeric? True\n",
      "Is \"Hello-123\" alphanumeric? False\n",
      "\n",
      "--Spaces at the beginning and end--\n",
      "Text without spaces 'My name is Javier and I am 25 years old'\n",
      "Text without spaces at the beginning 'My name is Javier and I am 25 years old  '\n",
      "Text without spaces at the end '  My name is Javier and I am 25 years old'\n",
      "\n",
      "--Split and join strings--\n",
      "Divider string into a list: ['My', 'name', 'is', 'Javier', 'and', 'I', 'am', '25', 'years', 'old']\n",
      "Join list into a string: Hello world\n"
     ]
    }
   ],
   "source": [
    "string1 = \"My name is Javier and I am 25 years old\"\n",
    "\n",
    "print(string1)\n",
    "\n",
    "# Buscar una subcadena\n",
    "print(\"\\n--Substring search--\")\n",
    "print(f\"First position of letter \\\"a\\\": {string1.find('a')}\")  # Encuentra la primera \"a\" en la cadena\n",
    "print(f\"Last position of letter \\\"a\\\": {string1.rfind('a')}\")  # Encuentra la última \"a\" en la cadena\n",
    "print(f\"Times letter \\\"a\\\" appears: {string1.count('a')}\")  # Cuenta cuántas veces aparece \"a\" en la cadena\n",
    "print(f\"The text starts with \\\"My\\\"?: {string1.startswith('My')}\")  # Comprueba si la cadena empieza con \"My\"\n",
    "print(f\"The text ends with \\\"cat\\\"?: {string1.endswith('cat')}\")  # Comprueba si la cadena termina con \"old\"\n",
    "\n",
    "# Reemplazar string1\n",
    "print(\"\\n--Replace substring--\")\n",
    "print(f\"Replace spaces with \\\"-\\\": {string1.replace(\" \", \"-\")}\")\n",
    "\n",
    "# Cambio mayúsculas y minúsculas\n",
    "print(\"\\n--Change case--\")\n",
    "print(f\"All lowercase: {string1.lower()}\") # Convierte toda la cadena a minúsculas\n",
    "print(f\"All uppercase: {string1.upper()}\") # Convierte toda la cadena a mayúsculas\n",
    "print(f\"First letter capitalized: {string1.capitalize()}\") # Convierte la primera letra a mayúscula\n",
    "print(f\"Title case: {string1.title()}\") # Convierte la primera letra de cada palabra a mayúscula\n",
    "\n",
    "# Verificar el contenido de una cadena\n",
    "print(\"\\n--Check string content--\")\n",
    "print(f\"Is \\\"Hello\\\" alphabetic? {'Hello'.isalpha()}\") # Comprueba si la cadena contiene solo letras\n",
    "print(f\"Is \\\"123\\\" numeric? {'123'.isdigit()}\") # Comprueba si la cadena contiene solo dígitos\n",
    "print(f\"Is \\\"Hello-123\\\" alphanumeric? {'Hello-123'.isalnum()}\") # Comprueba si la cadena contiene solo letras y números\n",
    "\n",
    "string1 = \"  My name is Javier and I am 25 years old  \"\n",
    "\n",
    "# Espacios en blanco inicio y final\n",
    "print(\"\\n--Spaces at the beginning and end--\")\n",
    "print(f\"Text without spaces '{string1.strip()}'\")  # Quita espacios al inicio y al final\n",
    "print(f\"Text without spaces at the beginning '{string1.lstrip()}'\")  # Quita espacios al inicio\n",
    "print(f\"Text without spaces at the end '{string1.rstrip()}'\")  # Quita espacios al final\n",
    "\n",
    "# Dividir y unir cadenas\n",
    "print(\"\\n--Split and join strings--\")\n",
    "print(f\"Divider string into a list: {string1.split()}\")  # Divide la cadena en una lista de palabras\n",
    "print(f\"Join list into a string: {' '.join(['Hello', 'world'])}\")  # Une una lista de palabras en una cadena"
   ]
  },
  {
   "cell_type": "markdown",
   "id": "b9bd4279",
   "metadata": {},
   "source": [
    "##### 🌑 **Carácteres de Escape**\n",
    "\n",
    "Los carácteres de escape son aquellos que no pueden ser representados comúnmente en cadenas pues representan en muchos casos otros elementos por lo que hay que colocar un símbolo `\\` antes."
   ]
  },
  {
   "cell_type": "code",
   "execution_count": null,
   "id": "8271863f",
   "metadata": {},
   "outputs": [],
   "source": [
    "# Caracteres de escape\n",
    "print(\"Double quotes: \\\"This is an example\\\"\")  # Uso de \\\" para comillas dobles\n",
    "print('Single quotes: \\'This is an example\\'')  # Uso de \\' para comillas simples\n",
    "print(\"Line break:\\nNew line here\")  # \\n para salto de línea\n",
    "print(\"Tabulation:\\tThis is tabbed\")  # \\t para tabulación\n",
    "print(\"Backslash: \\\\This is a backslash\\\\\")  # \\\\ para imprimir una barra invertida\n",
    "print(\"Backspace:  \\bThis is a backspace\")  # \\b para retroceso\n",
    "print(\"Form feed: \\fThis is a form feed\")  # \\f para avance de página\n",
    "print(\"Carriage return: \\rThis is a carriage return\")  # \\r para retorno de carro"
   ]
  },
  {
   "cell_type": "markdown",
   "id": "8de9a220",
   "metadata": {},
   "source": [
    "Para no tomar en cuenta el símbolo \\ y no considerar los carácteres de escape podemos colocal una letra `r` al inicio de la cadena."
   ]
  },
  {
   "cell_type": "code",
   "execution_count": 61,
   "id": "4acb11ad",
   "metadata": {},
   "outputs": [
    {
     "name": "stdout",
     "output_type": "stream",
     "text": [
      "Raw string: C\\Users\\Name\\Documents\n"
     ]
    }
   ],
   "source": [
    "location = r\"C\\Users\\Name\\Documents\" \n",
    "print(f\"Raw string: {location}\")  # Imprime la ruta sin procesar"
   ]
  },
  {
   "cell_type": "markdown",
   "id": "9f147658",
   "metadata": {},
   "source": [
    "##### 🌑 **Slicing**\n",
    "\n",
    "Las cadenas de carácteres tienen también forma de ser cortadas y solo representar las partes que deseemos, para esto usamos el Slicing de la mano con la Indexación (todos los carácteres de una cadena tienen un índice)"
   ]
  },
  {
   "cell_type": "code",
   "execution_count": null,
   "id": "cdae70ef",
   "metadata": {},
   "outputs": [],
   "source": [
    "cadena = \"Advanced Python\"\n",
    "\n",
    "# El operador indexación tiene la forma [start:end:step]\n",
    "print(cadena)\n",
    "\n",
    "# Indexación \n",
    "print(f\"\\nFirst letter: {cadena[0]}\") # Primer carácter\n",
    "print(f\"Second letter: {cadena[5]}\") # Sexto carácter\n",
    "print(f\"Last letter: {cadena[-1]}\") # Último carácter\n",
    "print(f\"Second to last letter: {cadena[-2]}\") # Penúltimo carácter\n",
    "\n",
    "# Slicing\n",
    "print(f\"First word: {cadena[:8]}\")  # Desde el inicio hasta el índice 8 (sin incluirlo)\n",
    "print(f\"Last word: {cadena[9:]}\")   # Desde el índice 9 hasta el final\n",
    "print(f\"Alternate 2 letters: {cadena[::2]}\")  # Desde el inicio hasta el final, tomando cada dos letras\n",
    "print(f\"Last 4 letters: {cadena[-4:]}\")  # Desde el índice -4 hasta el final\n",
    "\n",
    "# Invertir una cadena\n",
    "print(f\"Reversed string: {cadena[::-1]}\")"
   ]
  },
  {
   "cell_type": "markdown",
   "id": "cf3e93df",
   "metadata": {},
   "source": [
    "##### 🌑 **Format Specifiers**\n",
    "\n",
    "Son códigos especiales que controlan el formato de los strings cuando son insertados, se usan comúnmente con la representación f-string."
   ]
  },
  {
   "cell_type": "code",
   "execution_count": null,
   "id": "6b6ab026",
   "metadata": {},
   "outputs": [
    {
     "name": "stdout",
     "output_type": "stream",
     "text": [
      "\n",
      "Price 1: 1140.500\n",
      "Price 2:    -3120.3\n",
      "Price 3: 001455.295\n",
      "Price 1: 1140.5    \n",
      "Price 2:    -3120.3\n",
      "Price 3:  1455.295 \n",
      "Price 1: +1140.5\n",
      "Price 3: 1,455.295\n",
      "\n",
      "--Combination of formats--\n",
      "Price 1:  +1,140.500  euros\n",
      "Price 2:  -3,120.300  euros\n",
      "Price 3:  +1,455.295  euros\n"
     ]
    }
   ],
   "source": [
    "price1 = 1140.5\n",
    "price2 = -3120.30\n",
    "price3 = 1455.295\n",
    "\n",
    "print(f\"\\nPrice 1: {price1:.3f}\")  # Formato con 3 decimales\n",
    "print(f\"Price 2: {price2:10}\")  # Asignación de espacio de 6\n",
    "print(f\"Price 3: {price3:010}\")  # Asignación de espacio de 8 con ceros a la izquierda\n",
    "print(f\"Price 1: {price1:<10}\")  # Asignación de espacio de 8 a la izquierda\n",
    "print(f\"Price 2: {price2:>10}\")  # Asignación de espacio de 8 a la derecha\n",
    "print(f\"Price 3: {price3:^10}\")  # Asignación de espacio de 8 al centro\n",
    "print(f\"Price 1: {price1:+}\")  # Signo positivo para números positivos\n",
    "print(f\"Price 3: {price3:,}\")  # Signo positivo para números positivos\n",
    "\n",
    "# Combinación\n",
    "print(\"\\n--Combination of formats--\")\n",
    "print(f\"Price 1: {price1:^+12,.3f} euros\")\n",
    "print(f\"Price 2: {price2:^+12,.3f} euros\")\n",
    "print(f\"Price 3: {price3:^+12,.3f} euros\")"
   ]
  },
  {
   "cell_type": "markdown",
   "id": "cf6ddb61",
   "metadata": {},
   "source": [
    "Hay otras formas de usar y representar cadenas con el método format o plantillas con índices como se ve a continuación."
   ]
  },
  {
   "cell_type": "code",
   "execution_count": null,
   "id": "ddfd892e",
   "metadata": {},
   "outputs": [
    {
     "name": "stdout",
     "output_type": "stream",
     "text": [
      "Hola, mi nombre es Alice, tengo 25 años y mido 1.68 metros.\n",
      "Hola, mi nombre es 25, tengo 1.68 años y mido 25.00 metros.\n"
     ]
    }
   ],
   "source": [
    "name = \"Alice\"\n",
    "age = 25\n",
    "height = 1.752\n",
    "\n",
    "# Usando el método format()\n",
    "print(\"Hello, my name is {}, I am {} years old and I am {:.2f} meters tall.\".format(name, age, height))\n",
    "\n",
    "# Usando cadenas de plantilla con índices\n",
    "print(\"Hello, my name is {2}, I am {1} years old and I am {0:.2f} meters tall.\".format(height, age, name))"
   ]
  },
  {
   "cell_type": "markdown",
   "id": "513b6443",
   "metadata": {},
   "source": [
    "##### 🔨 **Función Help**\n",
    "\n",
    "Dentro de pyhton puedes buscar más información de alguna clase u otros elementeos con la función `help()`, esto te mostrará todo lo que pueda serte útil."
   ]
  },
  {
   "cell_type": "code",
   "execution_count": null,
   "id": "3681b0eb",
   "metadata": {},
   "outputs": [],
   "source": [
    "print(help(str)) # Muestra la ayuda de la clase str"
   ]
  }
 ],
 "metadata": {
  "kernelspec": {
   "display_name": "Python 3",
   "language": "python",
   "name": "python3"
  },
  "language_info": {
   "codemirror_mode": {
    "name": "ipython",
    "version": 3
   },
   "file_extension": ".py",
   "mimetype": "text/x-python",
   "name": "python",
   "nbconvert_exporter": "python",
   "pygments_lexer": "ipython3",
   "version": "3.13.2"
  }
 },
 "nbformat": 4,
 "nbformat_minor": 5
}
