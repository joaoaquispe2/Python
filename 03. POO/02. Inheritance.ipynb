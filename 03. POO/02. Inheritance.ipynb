{
 "cells": [
  {
   "cell_type": "markdown",
   "id": "ca9912aa",
   "metadata": {},
   "source": [
    "## **Inheritance**"
   ]
  },
  {
   "cell_type": "markdown",
   "id": "970c11db",
   "metadata": {},
   "source": [
    "##### 🌑 **Herencia**\n",
    "\n",
    "Este concepto habla de que las clases pueden heredar tanto atributos o métodos de otras clases y así usarlos como si fueran propios. Por ejemplo las Clases Perro y Gato heredan de la Clase Mascota. En la Clase se debe colocar entre paréntesis la Clase de la que Hereda."
   ]
  },
  {
   "cell_type": "code",
   "execution_count": 3,
   "id": "d3c0178f",
   "metadata": {},
   "outputs": [
    {
     "name": "stdout",
     "output_type": "stream",
     "text": [
      "Buddy barks.\n"
     ]
    }
   ],
   "source": [
    "class Animal:\n",
    "    def __init__(self, name):\n",
    "        self.name = name\n",
    "\n",
    "    def speak(self):\n",
    "        return f\"{self.name} makes a sound.\"\n",
    "\n",
    "# Dog hereda de Animal\n",
    "class Dog(Animal):\n",
    "    def speak(self):\n",
    "        return f\"{self.name} barks.\"\n",
    "\n",
    "dog = Dog(\"Buddy\")\n",
    "print(dog.speak()) "
   ]
  },
  {
   "cell_type": "markdown",
   "id": "946f1676",
   "metadata": {},
   "source": [
    "##### 🌑 **Herencia Múltiple**\n",
    "\n",
    "Una Clase pueden heredar de múltiples clases, se coloca una coma dentro de los paréntesis y se pueden colocar las Clases que desees"
   ]
  },
  {
   "cell_type": "code",
   "execution_count": 2,
   "id": "a8f5d1f9",
   "metadata": {},
   "outputs": [
    {
     "name": "stdout",
     "output_type": "stream",
     "text": [
      "I can fly!\n",
      "I can swim!\n",
      "Quack!\n"
     ]
    }
   ],
   "source": [
    "class Flyable:\n",
    "    def fly(self):\n",
    "        return \"I can fly!\"\n",
    "\n",
    "class Swimmable:\n",
    "    def swim(self):\n",
    "        return \"I can swim!\"\n",
    "\n",
    "# Duck hereda de Flyable y Swimmable\n",
    "class Duck(Flyable, Swimmable):\n",
    "    def quack(self):\n",
    "        return \"Quack!\"\n",
    "\n",
    "duck = Duck()\n",
    "print(duck.fly())\n",
    "print(duck.swim())\n",
    "print(duck.quack())\n"
   ]
  },
  {
   "cell_type": "markdown",
   "id": "f3f7b4ad",
   "metadata": {},
   "source": [
    "##### 🌑 **Herencia Muiltinivel**\n",
    "\n",
    "Una Clase puede heredar de otra Clase que también herede de otra ya así sucesivamente. Es decir, pueden haber varios niveles de Herencia como en una familia."
   ]
  },
  {
   "cell_type": "code",
   "execution_count": 4,
   "id": "cedd5032",
   "metadata": {},
   "outputs": [
    {
     "name": "stdout",
     "output_type": "stream",
     "text": [
      "Existing...\n",
      "Moving...\n",
      "Meow!\n"
     ]
    }
   ],
   "source": [
    "class Creature:\n",
    "    def exist(self):\n",
    "        return \"Existing...\"\n",
    "\n",
    "# Hereda de Creature\n",
    "class Animal(Creature):\n",
    "    def move(self):\n",
    "        return \"Moving...\"\n",
    "\n",
    "# Hereda de Animal\n",
    "class Cat(Animal):\n",
    "    def meow(self):\n",
    "        return \"Meow!\"\n",
    "\n",
    "cat = Cat()\n",
    "print(cat.exist())\n",
    "print(cat.move())\n",
    "print(cat.meow())"
   ]
  },
  {
   "cell_type": "markdown",
   "id": "de3597e3",
   "metadata": {},
   "source": [
    "##### 🔨 **Uso de Super()**\n",
    "\n",
    "Existe una Función especial que nos permite acceder a las funciones de las Clases padre sin tener que usar su nombre y de esta menera incluirlos dentro de la Clase Hija. Con la Función `super()` más un punto, colocas el Método deseado. Se puede usar para ampliar métodos o evitar repetir código."
   ]
  },
  {
   "cell_type": "code",
   "execution_count": 5,
   "id": "c88a23b3",
   "metadata": {},
   "outputs": [
    {
     "name": "stdout",
     "output_type": "stream",
     "text": [
      "Alice\n",
      "S123\n"
     ]
    }
   ],
   "source": [
    "class Person:\n",
    "    def __init__(self, name):\n",
    "        self.name = name\n",
    "\n",
    "class Student(Person):\n",
    "    def __init__(self, name, student_id):\n",
    "        super().__init__(name)  # Constructor de la clase padre\n",
    "        self.student_id = student_id\n",
    "\n",
    "student = Student(\"Alice\", \"S123\")\n",
    "print(student.name)\n",
    "print(student.student_id)\n"
   ]
  },
  {
   "cell_type": "markdown",
   "id": "8c7ea20c",
   "metadata": {},
   "source": [
    "##### 🌑 **Polimorfismo**\n",
    "\n",
    "Es un principio de la POO que permite que diferentes clases respondan a la misma interfaz o método de distintas formas. Se tienen dos casos clave, el primero cuando tanto la Clase Padre como la Clase Hija tienen un Método con el mismo nombre. Siempre se usa el Método implementado en la Hija."
   ]
  },
  {
   "cell_type": "code",
   "execution_count": 7,
   "id": "676e814d",
   "metadata": {},
   "outputs": [
    {
     "name": "stdout",
     "output_type": "stream",
     "text": [
      "Woof!\n",
      "Generic sound\n"
     ]
    }
   ],
   "source": [
    "class Animal:\n",
    "    def speak(self):\n",
    "        return \"Generic sound\"\n",
    "\n",
    "class Dog(Animal):\n",
    "    def speak(self):\n",
    "        return \"Woof!\"\n",
    "\n",
    "class Cat(Animal):\n",
    "    pass\n",
    "\n",
    "animal = Animal()\n",
    "dog = Dog()\n",
    "cat = Cat()\n",
    "\n",
    "# Perro usa su propia implementación de speak\n",
    "print(dog.speak())     # Woof!\n",
    "print(cat.speak())     # Meow!"
   ]
  },
  {
   "cell_type": "markdown",
   "id": "1acb1145",
   "metadata": {},
   "source": [
    "Por otro lado se teine al *Duck typing* es un principio de programación en el que el tipo de un objeto no importa, siempre que tenga los métodos o propiedades necesarios para una tarea específica. En lugar de comprobar si un objeto es de una clase específica, Python se enfoca en lo que puede hacer ese objeto."
   ]
  },
  {
   "cell_type": "code",
   "execution_count": 8,
   "id": "858aeb3a",
   "metadata": {},
   "outputs": [
    {
     "name": "stdout",
     "output_type": "stream",
     "text": [
      "Walking like a duck\n",
      "Walking like a person\n"
     ]
    }
   ],
   "source": [
    "class Duck:\n",
    "    def walk(self):\n",
    "        return \"Walking like a duck\"\n",
    "\n",
    "class Person:\n",
    "    def walk(self):\n",
    "        return \"Walking like a person\"\n",
    "\n",
    "def make_it_walk(entity):\n",
    "    # Solo importa que tenga método walk()\n",
    "    print(entity.walk())\n",
    "\n",
    "duck = Duck()\n",
    "person = Person()\n",
    "\n",
    "make_it_walk(duck)\n",
    "make_it_walk(person)"
   ]
  }
 ],
 "metadata": {
  "kernelspec": {
   "display_name": "Python 3",
   "language": "python",
   "name": "python3"
  },
  "language_info": {
   "codemirror_mode": {
    "name": "ipython",
    "version": 3
   },
   "file_extension": ".py",
   "mimetype": "text/x-python",
   "name": "python",
   "nbconvert_exporter": "python",
   "pygments_lexer": "ipython3",
   "version": "3.13.2"
  }
 },
 "nbformat": 4,
 "nbformat_minor": 5
}
