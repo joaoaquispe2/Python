{
 "cells": [
  {
   "cell_type": "markdown",
   "id": "f73823cb",
   "metadata": {},
   "source": [
    "## **Classes**"
   ]
  },
  {
   "cell_type": "markdown",
   "id": "56b547bc",
   "metadata": {},
   "source": [
    "##### 🏠 **Clases y Objetos**\n",
    "\n",
    "Dentro de Python y muchos lenguajes de progrmación se implementa una nueva forma de programar: la Programación Orientada a Objetos (POO). Se puede decir que una Clase es un molde o plano de ciertos Objetos, mientraas que un Objeto es una instancia concreta creada a partir de esa Clase el cual posee atributos y métodos. Se usa la palabra `class` y luego el nombre de la clase."
   ]
  },
  {
   "cell_type": "code",
   "execution_count": 2,
   "id": "8afe1182",
   "metadata": {},
   "outputs": [
    {
     "name": "stdout",
     "output_type": "stream",
     "text": [
      "<class '__main__.Dog'>\n"
     ]
    }
   ],
   "source": [
    "class Dog:\n",
    "    pass # Para indicar que la clase no tiene contenido aún\n",
    "\n",
    "# Crear un objeto de la clase\n",
    "my_dog = Dog()\n",
    "print(type(my_dog))  # Muestra el tipo de objeto"
   ]
  },
  {
   "cell_type": "markdown",
   "id": "e3d8bb47",
   "metadata": {},
   "source": [
    "##### 🔨 **Constructor**\n",
    "\n",
    "Es un Método Mágico `__init__`(), de los cuales veremos más adelante, que sirve al momento de instanciar un nuevo objeto y colocar los atributos que se desean. Siempre se usa como primera variable `self` para indicar que te refieres a la instancia del propio Objeto.\n",
    "\n",
    "📌 [Revisar Methods](03.%20Methods.ipynb)"
   ]
  },
  {
   "cell_type": "code",
   "execution_count": 4,
   "id": "9730b794",
   "metadata": {},
   "outputs": [
    {
     "name": "stdout",
     "output_type": "stream",
     "text": [
      "Buddy\n",
      "Poodle\n"
     ]
    }
   ],
   "source": [
    "class Dog:\n",
    "    def __init__(self, name, breed):\n",
    "        self.name = name            # Variable de instancias\n",
    "        self.breed = breed\n",
    "\n",
    "# Crear objetos con atributos\n",
    "dog1 = Dog(\"Buddy\", \"Golden Retriever\")\n",
    "dog2 = Dog(\"Luna\", \"Poodle\")\n",
    "\n",
    "# Acceder a los atributos de los objetos con punto\n",
    "print(dog1.name)\n",
    "print(dog2.breed)"
   ]
  },
  {
   "cell_type": "markdown",
   "id": "77cf579c",
   "metadata": {},
   "source": [
    "##### 🌑 **Variables de Clase**\n",
    "\n",
    "Son aquellas variablas que no se instancian en el Constructor sino que en la misma Clase y estas los comparten todos los Objetos instanciados."
   ]
  },
  {
   "cell_type": "code",
   "execution_count": 6,
   "id": "31c3f5ca",
   "metadata": {},
   "outputs": [
    {
     "name": "stdout",
     "output_type": "stream",
     "text": [
      "Canis lupus familiaris\n",
      "Canis lupus familiaris\n"
     ]
    }
   ],
   "source": [
    "class Dog:\n",
    "\n",
    "    species = \"Canis lupus familiaris\"  # Variable de clase\n",
    "\n",
    "    def __init__(self, name, breed):\n",
    "        self.name = name\n",
    "        self.breed = breed\n",
    "\n",
    "dog1 = Dog(\"Max\", \"Beagle\")\n",
    "dog2 = Dog(\"Bella\", \"Bulldog\")\n",
    "\n",
    "print(dog1.species)\n",
    "print(dog2.species)"
   ]
  },
  {
   "cell_type": "markdown",
   "id": "b38285f9",
   "metadata": {},
   "source": [
    "##### 🔨 **Métodos de Clase**\n",
    "\n",
    "Así como los Objetos pueden tener Atributos, también pueden tener una serie de Métodos que deben colocarse dentro de la Clase a la que pertenecen, estos Métodos pueden ser usados por los Objetos con un punto. De esto se verá mejor luego."
   ]
  },
  {
   "cell_type": "code",
   "execution_count": 7,
   "id": "1373ed5c",
   "metadata": {},
   "outputs": [
    {
     "name": "stdout",
     "output_type": "stream",
     "text": [
      "Charlie says woof!\n"
     ]
    }
   ],
   "source": [
    "class Dog:\n",
    "    species = \"Canis lupus familiaris\"\n",
    "\n",
    "    def __init__(self, name, breed):\n",
    "        self.name = name\n",
    "        self.breed = breed\n",
    "\n",
    "    # Método de instancia\n",
    "    def bark(self):\n",
    "        return f\"{self.name} says woof!\"\n",
    "\n",
    "dog = Dog(\"Charlie\", \"Labrador\")\n",
    "print(dog.bark())"
   ]
  }
 ],
 "metadata": {
  "kernelspec": {
   "display_name": "Python 3",
   "language": "python",
   "name": "python3"
  },
  "language_info": {
   "codemirror_mode": {
    "name": "ipython",
    "version": 3
   },
   "file_extension": ".py",
   "mimetype": "text/x-python",
   "name": "python",
   "nbconvert_exporter": "python",
   "pygments_lexer": "ipython3",
   "version": "3.13.2"
  }
 },
 "nbformat": 4,
 "nbformat_minor": 5
}
