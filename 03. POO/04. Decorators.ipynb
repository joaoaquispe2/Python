{
 "cells": [
  {
   "cell_type": "markdown",
   "id": "d883b7bd",
   "metadata": {},
   "source": [
    "## **Decorators**"
   ]
  },
  {
   "cell_type": "markdown",
   "id": "0910f2cf",
   "metadata": {},
   "source": [
    "##### 🌑 **Encapsulamiento**\n",
    "\n",
    "Antes de ver Decoradores veamos la definición de Encapsulamiento. Es aquella rpopiedad de la POO que permite ocultar variables o protegerlas para que no sea posible su acceso desde cualquier parte del código, se pueden usar convenciones para declarar atributos Protegidos o Privados."
   ]
  },
  {
   "cell_type": "code",
   "execution_count": 4,
   "id": "44775d52",
   "metadata": {},
   "outputs": [
    {
     "name": "stdout",
     "output_type": "stream",
     "text": [
      "1000\n",
      "12345678\n"
     ]
    }
   ],
   "source": [
    "class Account:\n",
    "    def __init__(self, balance):\n",
    "        self._number = 12345678   # Protegido\n",
    "        self.__balance = balance  # Privado\n",
    "\n",
    "    def get_balance(self):\n",
    "        return self.__balance\n",
    "    \n",
    "    def get_number(self):\n",
    "        return self._number\n",
    "\n",
    "account = Account(1000)\n",
    "\n",
    "# Aceeso mediante métodos públicos\n",
    "print(account.get_balance())\n",
    "print(account.get_number())"
   ]
  },
  {
   "cell_type": "markdown",
   "id": "54e6cb6a",
   "metadata": {},
   "source": [
    "##### 🌑 **Decoradores**\n",
    "\n",
    "Un Decorador es una función que recibe otra función como argumento, y devuelve una nueva función con comportamiento modificado. La función argumento generalmente se llama con el nombre `func` y cuando se coloca dentro de la nueva función representa que hará su comportamiento básico en esa zona. Los Decoradores se colocan antes de la Función objetivo con un \"@\"."
   ]
  },
  {
   "cell_type": "code",
   "execution_count": null,
   "id": "b0d3ca21",
   "metadata": {},
   "outputs": [
    {
     "name": "stdout",
     "output_type": "stream",
     "text": [
      "Antes de ejecutar la función.\n",
      "Hola!\n",
      "Después de ejecutar la función.\n"
     ]
    }
   ],
   "source": [
    "def my_decorator(func):\n",
    "    def wrapper():\n",
    "        print(\"Antes de ejecutar la función.\")\n",
    "        func()\n",
    "        print(\"Después de ejecutar la función.\")\n",
    "    return wrapper\n",
    "\n",
    "# Decorador aplicado a una función\n",
    "@my_decorator\n",
    "def say_hello():\n",
    "    print(\"Hola!\")\n",
    "\n",
    "say_hello()"
   ]
  },
  {
   "cell_type": "markdown",
   "id": "6687be54",
   "metadata": {},
   "source": [
    "Los parámetros de la Función base se pueden pasar a la función nueva y usarlos, para esto, en los argumentos de la Función `wrapper`, colocamos los argumentos de la Función original. También se puede colocar `*args` y `**kargs`"
   ]
  },
  {
   "cell_type": "code",
   "execution_count": 6,
   "id": "431c1ab6",
   "metadata": {},
   "outputs": [
    {
     "name": "stdout",
     "output_type": "stream",
     "text": [
      "Preparando saludo para Ana\n",
      "¡Hola, Ana!\n",
      "Saludo completado.\n"
     ]
    }
   ],
   "source": [
    "def greet_decorator(func):\n",
    "    def wrapper(name):\n",
    "        print(f\"Preparando saludo para {name}\")\n",
    "        func(name)\n",
    "        print(\"Saludo completado.\")\n",
    "    return wrapper\n",
    "\n",
    "# Decorador a función con parámetro\n",
    "@greet_decorator\n",
    "def greet(name):\n",
    "    print(f\"¡Hola, {name}!\")\n",
    "\n",
    "greet(\"Ana\")"
   ]
  },
  {
   "cell_type": "code",
   "execution_count": 11,
   "id": "c30a29a5",
   "metadata": {},
   "outputs": [
    {
     "name": "stdout",
     "output_type": "stream",
     "text": [
      "Función lenta terminada.\n",
      "Tiempo de ejecución: 2.0019 segundos\n"
     ]
    }
   ],
   "source": [
    "import time\n",
    "\n",
    "def timer(func):\n",
    "    def wrapper(*args, **kwargs):\n",
    "        start = time.time()\n",
    "        result = func(*args, **kwargs)\n",
    "        end = time.time()\n",
    "        print(f\"Tiempo de ejecución: {end - start:.4f} segundos\")\n",
    "        return result\n",
    "    return wrapper\n",
    "\n",
    "@timer\n",
    "def slow_function():\n",
    "    time.sleep(2)\n",
    "    print(\"Función lenta terminada.\")\n",
    "\n",
    "slow_function()"
   ]
  },
  {
   "cell_type": "markdown",
   "id": "7b2dbbb1",
   "metadata": {},
   "source": [
    "Los decoradores, pueden tener parámetros dentro de paréntesis como un Función nomral y al colocarlos antes de la Función base se puede colocar el valore que se desea."
   ]
  },
  {
   "cell_type": "code",
   "execution_count": null,
   "id": "7a511a72",
   "metadata": {},
   "outputs": [
    {
     "name": "stdout",
     "output_type": "stream",
     "text": [
      "Hi!\n",
      "Hi!\n",
      "Hi!\n"
     ]
    }
   ],
   "source": [
    "def repeat(times):\n",
    "    def decorator(func):\n",
    "        def wrapper(*args, **kwargs):\n",
    "            for _ in range(times):\n",
    "                func(*args, **kwargs)\n",
    "        return wrapper\n",
    "    return decorator\n",
    "\n",
    "@repeat(3)\n",
    "def say_hi():\n",
    "    print(\"Hi!\")\n",
    "\n",
    "say_hi()"
   ]
  },
  {
   "cell_type": "markdown",
   "id": "2f928863",
   "metadata": {},
   "source": [
    "##### 🌑 **Decorador Properties** \n",
    "\n",
    "Este decorador especial permite definir un método que se accede como un atributo. Es útil para controlar el acceso, validación o cálculo dinámico de atributos."
   ]
  },
  {
   "cell_type": "code",
   "execution_count": 26,
   "id": "34e40476",
   "metadata": {},
   "outputs": [
    {
     "name": "stdout",
     "output_type": "stream",
     "text": [
      "5\n",
      "314.16\n"
     ]
    }
   ],
   "source": [
    "class Circle:\n",
    "    def __init__(self, radius):\n",
    "        self._radius = radius\n",
    "\n",
    "    @property\n",
    "    def radius(self):\n",
    "        # Se accede como un atributo, no como método\n",
    "        return self._radius\n",
    "\n",
    "    @radius.setter\n",
    "    def radius(self, value):\n",
    "        # Valida antes de asignar\n",
    "        if value <= 0:\n",
    "            raise ValueError(\"Radius must be positive.\")\n",
    "        self._radius = value\n",
    "\n",
    "    @property\n",
    "    def area(self):\n",
    "        return 3.1416 * self._radius ** 2\n",
    "\n",
    "c = Circle(5)\n",
    "print(c.radius)\n",
    "c.radius = 10\n",
    "print(round(c.area, 2))"
   ]
  },
  {
   "cell_type": "markdown",
   "id": "ad21b70c",
   "metadata": {},
   "source": [
    "##### 🔨 **Funciones Atributos** \n",
    "\n",
    "Son funciones integradas de Python y permiten trabajar con atributos de objetos de manera dinámica, sin necesidad llamar a la instancia y al atributo en todo momento. Te pemiten obtener, modificar, verificar y eliminar atributos."
   ]
  },
  {
   "cell_type": "code",
   "execution_count": 25,
   "id": "54d04415",
   "metadata": {},
   "outputs": [
    {
     "name": "stdout",
     "output_type": "stream",
     "text": [
      "Alice\n",
      "Not defined\n",
      "True\n",
      "False\n",
      "alice@example.com\n",
      "Alicia\n",
      "False\n"
     ]
    }
   ],
   "source": [
    "class User:\n",
    "    def __init__(self):\n",
    "        self.name = \"Alice\"\n",
    "        self.age = 30\n",
    "        self.email = None\n",
    "\n",
    "# Crear una instancia\n",
    "user = User()\n",
    "\n",
    "# Obtener un atributo existente con getattr\n",
    "print(getattr(user, \"name\"))\n",
    "\n",
    "# Obtener un atributo que no existe, con valor por defecto\n",
    "print(getattr(user, \"height\", \"Not defined\"))\n",
    "\n",
    "# Verificar si un atributo existe con hasattr\n",
    "print(hasattr(user, \"age\"))\n",
    "print(hasattr(user, \"address\"))\n",
    "\n",
    "# Asignar o crear un atributo con setattr\n",
    "setattr(user, \"email\", \"alice@example.com\")\n",
    "print(user.email)\n",
    "\n",
    "# También puedes modificar atributos existentes\n",
    "setattr(user, \"name\", \"Alicia\")\n",
    "print(user.name)\n",
    "\n",
    "# Eliminar un atributo con delattr\n",
    "delattr(user, \"email\")\n",
    "\n",
    "# Verificar que fue eliminado\n",
    "print(hasattr(user, \"email\"))"
   ]
  }
 ],
 "metadata": {
  "kernelspec": {
   "display_name": "Python 3",
   "language": "python",
   "name": "python3"
  },
  "language_info": {
   "codemirror_mode": {
    "name": "ipython",
    "version": 3
   },
   "file_extension": ".py",
   "mimetype": "text/x-python",
   "name": "python",
   "nbconvert_exporter": "python",
   "pygments_lexer": "ipython3",
   "version": "3.13.2"
  }
 },
 "nbformat": 4,
 "nbformat_minor": 5
}
