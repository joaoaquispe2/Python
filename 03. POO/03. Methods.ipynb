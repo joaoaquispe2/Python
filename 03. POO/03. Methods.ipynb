{
 "cells": [
  {
   "cell_type": "markdown",
   "id": "a512e369",
   "metadata": {},
   "source": [
    "## **Methods**"
   ]
  },
  {
   "cell_type": "markdown",
   "metadata": {},
   "source": [
    "##### 🔨 **Métodos de Instancia**\n",
    "\n",
    "Son los métodos más comunes y por lo general requieren de el atributos especial `self` para acceder a los atributos instanciados."
   ]
  },
  {
   "cell_type": "code",
   "execution_count": null,
   "id": "5488ccc6",
   "metadata": {},
   "outputs": [
    {
     "name": "stdout",
     "output_type": "stream",
     "text": [
      "Hello, my name is Charlie.\n"
     ]
    }
   ],
   "source": [
    "class Person:\n",
    "    def __init__(self, name):\n",
    "        self.name = name\n",
    "\n",
    "    # Usa self.name en el método\n",
    "    def greet(self):\n",
    "        return f\"Hello, my name is {self.name}.\"\n",
    "\n",
    "p = Person(\"Charlie\")\n",
    "print(p.greet())"
   ]
  },
  {
   "cell_type": "markdown",
   "id": "b8411272",
   "metadata": {},
   "source": [
    "##### 🔨 **Métodos Abstractos**\n",
    "\n",
    "Son Métodos definidos en una clase base que obligan a las Clases Hijas a implementarlos. Se usan cuando quieres definir una Interfaz común para un conjunto de Clases. Para usarlos necesitas importar `ABC` y `abstractmethod` del módulo `abc`. Y así poder usar el Decorador `@abstactmethod` antes del Método que desees que sea Abstracto.\n",
    "\n",
    "📌 [Revisar Modules](../05.%20Librerias/01.%20Modules.ipynb)  \n",
    "📌 [Revisar Decorators](04.%20Decorators.ipynb)"
   ]
  },
  {
   "cell_type": "code",
   "execution_count": null,
   "id": "a854a3e5",
   "metadata": {},
   "outputs": [
    {
     "name": "stdout",
     "output_type": "stream",
     "text": [
      "Woof!\n"
     ]
    }
   ],
   "source": [
    "from abc import ABC, abstractmethod\n",
    "\n",
    "# Clase base Abstracta\n",
    "class Animal(ABC):\n",
    "    @abstractmethod\n",
    "    def speak(self):\n",
    "        # Método que debe ser implementado\n",
    "        pass\n",
    "\n",
    "# Clase Concreta que implementa el método\n",
    "class Dog(Animal):\n",
    "    def speak(self):\n",
    "        return \"Woof!\"\n",
    "\n",
    "dog = Dog()\n",
    "print(dog.speak())"
   ]
  },
  {
   "cell_type": "markdown",
   "id": "53f41717",
   "metadata": {},
   "source": [
    "##### 🔨 **Métodos Estáticos**\n",
    "\n",
    "Son Métodos que pertenecen a la clase, pero no acceden a la clase (cls) ni a la instancia (self). Se usan cuando el comportamiento está relacionado con la clase, pero no necesita datos de ella. Se usa el Decorador `@staticmethod`"
   ]
  },
  {
   "cell_type": "code",
   "execution_count": null,
   "id": "02626c3d",
   "metadata": {},
   "outputs": [
    {
     "name": "stdout",
     "output_type": "stream",
     "text": [
      "8\n"
     ]
    }
   ],
   "source": [
    "class MathUtils:\n",
    "    @staticmethod\n",
    "    def add(a, b):\n",
    "        return a + b\n",
    "\n",
    "# No necesita instancia ni a la clase para usar el método\n",
    "print(MathUtils.add(3, 5))"
   ]
  },
  {
   "cell_type": "markdown",
   "id": "cf324ccf",
   "metadata": {},
   "source": [
    "##### 🔨 **Métodos de Clase**\n",
    "\n",
    "Son Metódos que llaman a la Clase y por esto reciben como primer argumento `cls`, que representa la clase en sí, no la instancia. Son útiles cuando necesitas crear o modificar datos compartidos por todas las instancias o usar constructores alternativos. Se usa el decorador `@classmethod`"
   ]
  },
  {
   "cell_type": "code",
   "execution_count": 5,
   "id": "1452346c",
   "metadata": {},
   "outputs": [
    {
     "name": "stdout",
     "output_type": "stream",
     "text": [
      "Total users created: 2\n"
     ]
    }
   ],
   "source": [
    "class User:\n",
    "    users_created = 0  # Variable de clase\n",
    "\n",
    "    def __init__(self, name):\n",
    "        self.name = name\n",
    "        User.users_created += 1\n",
    "\n",
    "    @classmethod\n",
    "    def get_total_users(cls):\n",
    "        return cls.users_created\n",
    "\n",
    "user1 = User(\"Alice\")\n",
    "user2 = User(\"Bob\")\n",
    "\n",
    "print(f\"Total users created: {User.get_total_users()}\")\n"
   ]
  },
  {
   "cell_type": "markdown",
   "id": "dd7a2ecc",
   "metadata": {},
   "source": [
    "##### 🔨 **Métodos Mágicos**\n",
    "\n",
    "Son Métodos con nombres rodeados por dobles guiones bajos, como `__init__`, `__str__`, `__len__`, etc. Python los usa para definir comportamientos internos o sobrecargar operadores. Estos pueden definir comportamientos como suma, igualdad, pertenencia, etc. Veamos primero los de iniciación y representación."
   ]
  },
  {
   "cell_type": "code",
   "execution_count": null,
   "id": "5f9b0510",
   "metadata": {},
   "outputs": [
    {
     "name": "stdout",
     "output_type": "stream",
     "text": [
      "Alice\n",
      "30\n"
     ]
    }
   ],
   "source": [
    "# Inicilización \n",
    "class Person:\n",
    "    def __init__(self, name, age):\n",
    "        self.name = name\n",
    "        self.age = age\n",
    "\n",
    "person = Person(\"Alice\", 30)\n",
    "print(person.name)\n",
    "print(person.age)"
   ]
  },
  {
   "cell_type": "code",
   "execution_count": null,
   "id": "df34a578",
   "metadata": {},
   "outputs": [
    {
     "name": "stdout",
     "output_type": "stream",
     "text": [
      "Opening file: data.txt\n",
      "Closing file: data.txt\n"
     ]
    }
   ],
   "source": [
    "# Eliminación de una instancia\n",
    "class FileHandler:\n",
    "    def __init__(self, filename):\n",
    "        self.filename = filename\n",
    "        print(f\"Opening file: {self.filename}\")\n",
    "\n",
    "    def __del__(self):\n",
    "        print(f\"Closing file: {self.filename}\")\n",
    "\n",
    "handler = FileHandler(\"data.txt\")\n",
    "del handler"
   ]
  },
  {
   "cell_type": "code",
   "execution_count": null,
   "id": "bf24cdab",
   "metadata": {},
   "outputs": [
    {
     "name": "stdout",
     "output_type": "stream",
     "text": [
      "'1984' by George Orwell\n"
     ]
    }
   ],
   "source": [
    "# Representacion en cadena\n",
    "class Book:\n",
    "    def __init__(self, title, author):\n",
    "        self.title = title\n",
    "        self.author = author\n",
    "\n",
    "    def __str__(self):\n",
    "        return f\"'{self.title}' by {self.author}\"\n",
    "\n",
    "book = Book(\"1984\", \"George Orwell\")\n",
    "print(book)"
   ]
  },
  {
   "cell_type": "markdown",
   "id": "3ec1331b",
   "metadata": {},
   "source": [
    "Ahora veremos los Métodos Mágicos de Comparación es decir operacions como comprobar si es mayor, menor, igual, diferente, etc. Por lo general llamamos `other` a la otra instancia con la que estamos comparando."
   ]
  },
  {
   "cell_type": "code",
   "execution_count": null,
   "id": "920a71b5",
   "metadata": {},
   "outputs": [
    {
     "name": "stdout",
     "output_type": "stream",
     "text": [
      "True\n",
      "False\n",
      "True\n",
      "False\n",
      "True\n",
      "True\n"
     ]
    }
   ],
   "source": [
    "class Person:\n",
    "    def __init__(self, name, age):\n",
    "        self.name = name\n",
    "        self.age = age\n",
    "\n",
    "    # Igualdad\n",
    "    def __eq__(self, other):\n",
    "        return self.age == other.age\n",
    "\n",
    "    # Desigualdad\n",
    "    def __ne__(self, other):\n",
    "        return self.age != other.age\n",
    "\n",
    "    # Menor que\n",
    "    def __lt__(self, other):\n",
    "        return self.age < other.age\n",
    "\n",
    "    # Menor o igual que\n",
    "    def __le__(self, other):\n",
    "        return self.age <= other.age\n",
    "\n",
    "    # Mayor que\n",
    "    def __gt__(self, other):\n",
    "        return self.age > other.age\n",
    "\n",
    "    # Mayor o igual que\n",
    "    def __ge__(self, other):\n",
    "        return self.age >= other.age\n",
    "\n",
    "person1 = Person(\"Alice\", 30)\n",
    "person2 = Person(\"Bob\", 25)\n",
    "person3 = Person(\"Charlie\", 30)\n",
    "\n",
    "# Comparaciones\n",
    "print(person1 == person3)\n",
    "print(person2 != person2)\n",
    "print(person2 < person1)\n",
    "print(person1 <= person2)\n",
    "print(person3 > person2)\n",
    "print(person3 >= person1)\n"
   ]
  },
  {
   "cell_type": "markdown",
   "id": "7a64e790",
   "metadata": {},
   "source": [
    "Tenemos en esta sección Métodos Mágicos de operaciones matemáticas como suma, resta y otros; estos le dan lógica a estas operaciones entre Objetos."
   ]
  },
  {
   "cell_type": "code",
   "execution_count": null,
   "id": "8892199f",
   "metadata": {},
   "outputs": [
    {
     "name": "stdout",
     "output_type": "stream",
     "text": [
      "NumberBox(13)\n",
      "NumberBox(7)\n",
      "NumberBox(30)\n",
      "NumberBox(3.33)\n",
      "NumberBox(3)\n",
      "NumberBox(1)\n",
      "NumberBox(1000)\n"
     ]
    }
   ],
   "source": [
    "class NumberBox:\n",
    "    def __init__(self, value):\n",
    "        self.value = value\n",
    "\n",
    "    # Suma, resta, multiplicación, división\n",
    "    def __add__(self, other):\n",
    "        return NumberBox(self.value + other.value)\n",
    "\n",
    "    def __sub__(self, other):\n",
    "        return NumberBox(self.value - other.value)\n",
    "\n",
    "    def __mul__(self, other):\n",
    "        return NumberBox(self.value * other.value)\n",
    "\n",
    "    def __truediv__(self, other):\n",
    "        result = round(self.value / other.value, 2)\n",
    "        return NumberBox(result)\n",
    "\n",
    "    # División entera, módulo y potencia\n",
    "    def __floordiv__(self, other):\n",
    "        return NumberBox(self.value // other.value)\n",
    "\n",
    "    def __mod__(self, other):\n",
    "        return NumberBox(self.value % other.value)\n",
    "\n",
    "    def __pow__(self, other):\n",
    "        return NumberBox(self.value ** other.value)\n",
    "\n",
    "    def __str__(self):\n",
    "        return f\"NumberBox({self.value})\"\n",
    "\n",
    "# Crear objetos\n",
    "a = NumberBox(10)\n",
    "b = NumberBox(3)\n",
    "\n",
    "# Operaciones\n",
    "print(a + b)\n",
    "print(a - b)\n",
    "print(a * b)\n",
    "print(a / b)\n",
    "print(a // b)\n",
    "print(a % b)\n",
    "print(a ** b)\n"
   ]
  },
  {
   "cell_type": "markdown",
   "id": "12feca2a",
   "metadata": {},
   "source": [
    "Tenemos también Métodos Mágicos de conversión de tipos como vimos en un inicio del aprendizaje, estos devuelven un valor tipo cadena, entero o boleano del Objeto.\n",
    "\n",
    "📌 [Revisar Input-Output](../01.%20Fundamentos/02.%20Intput-Output.ipynb)"
   ]
  },
  {
   "cell_type": "code",
   "execution_count": 34,
   "id": "72a90b57",
   "metadata": {},
   "outputs": [
    {
     "name": "stdout",
     "output_type": "stream",
     "text": [
      "36\n",
      "36.6\n",
      "True\n",
      "36.6°C\n"
     ]
    }
   ],
   "source": [
    "class Temperature:\n",
    "    def __init__(self, celsius):\n",
    "        self.celsius = celsius\n",
    "\n",
    "    def __int__(self):\n",
    "        # Convierte a entero descartando decimales\n",
    "        return int(self.celsius)\n",
    "\n",
    "    def __float__(self):\n",
    "        # Convierte a número flotante (ya lo es, pero puedes controlar el formato)\n",
    "        return float(self.celsius)\n",
    "\n",
    "    def __bool__(self):\n",
    "        # Devuelve False si la temperatura es 0, True si no\n",
    "        return self.celsius != 0\n",
    "\n",
    "    def __str__(self):\n",
    "        return f\"{self.celsius}°C\"\n",
    "\n",
    "t = Temperature(36.6)\n",
    "\n",
    "print(int(t))\n",
    "print(float(t))\n",
    "print(bool(t))\n",
    "print(str(t))"
   ]
  },
  {
   "cell_type": "markdown",
   "id": "ff4ded32",
   "metadata": {},
   "source": [
    "Veamos ahora Métodos Mágicos que sirven para volver iterable al Objetos como si se tratara de una Lista o un Diccionario, puedes usarlos para acceder a índices, longitud, en bucles y demás."
   ]
  },
  {
   "cell_type": "code",
   "execution_count": null,
   "id": "af1dbfd9",
   "metadata": {},
   "outputs": [
    {
     "name": "stdout",
     "output_type": "stream",
     "text": [
      "2\n"
     ]
    }
   ],
   "source": [
    "# Longitud de un objeto\n",
    "class ShoppingCart:\n",
    "    def __init__(self):\n",
    "        self.items = []\n",
    "\n",
    "    def add(self, item):\n",
    "        self.items.append(item)\n",
    "\n",
    "    def __len__(self):\n",
    "        return len(self.items)\n",
    "\n",
    "cart = ShoppingCart()\n",
    "cart.add(\"Apple\")\n",
    "cart.add(\"Banana\")\n",
    "print(len(cart))"
   ]
  },
  {
   "cell_type": "code",
   "execution_count": null,
   "id": "81b17eee",
   "metadata": {},
   "outputs": [
    {
     "name": "stdout",
     "output_type": "stream",
     "text": [
      "Alice\n"
     ]
    }
   ],
   "source": [
    "# Obtener, establecer y eliminar como si fuera lista\n",
    "class MyList:\n",
    "    def __init__(self):\n",
    "        self.data = {}\n",
    "\n",
    "    def __getitem__(self, key):\n",
    "        return self.data[key]\n",
    "\n",
    "    def __setitem__(self, key, value):\n",
    "        self.data[key] = value\n",
    "\n",
    "    def __delitem__(self, key):\n",
    "        del self.data[key]\n",
    "\n",
    "ml = MyList()\n",
    "ml[\"name\"] = \"Alice\"\n",
    "print(ml[\"name\"])\n",
    "del ml[\"name\"]"
   ]
  },
  {
   "cell_type": "code",
   "execution_count": 37,
   "id": "aaf51594",
   "metadata": {},
   "outputs": [
    {
     "name": "stdout",
     "output_type": "stream",
     "text": [
      "1\n",
      "2\n",
      "3\n"
     ]
    }
   ],
   "source": [
    "# Iterable en bucle for\n",
    "class Counter:\n",
    "    def __init__(self, limit):\n",
    "        self.limit = limit\n",
    "        self.current = 0\n",
    "\n",
    "    def __iter__(self):\n",
    "        return self\n",
    "\n",
    "    def __next__(self):\n",
    "        if self.current < self.limit:\n",
    "            self.current += 1\n",
    "            return self.current\n",
    "        else:\n",
    "            raise StopIteration\n",
    "\n",
    "counter = Counter(3)\n",
    "for num in counter:\n",
    "    print(num)"
   ]
  },
  {
   "cell_type": "markdown",
   "id": "e03a63be",
   "metadata": {},
   "source": [
    "Otros Métodos Mágicos que se pueden mencionar son el de copiar un Objeto en otro contenendero y `__dir__` el cual vimos en algún codigo anterior y servía para indicarte los métodos a los cuales puedes acceder.\n",
    "\n",
    "📌 [Revisar List](../02.%20Estructuras/01.%20Lists.ipynb)"
   ]
  },
  {
   "cell_type": "code",
   "execution_count": null,
   "id": "a9f9d386",
   "metadata": {},
   "outputs": [
    {
     "name": "stdout",
     "output_type": "stream",
     "text": [
      "Custom __copy__ called\n",
      "Person(Alice)\n",
      "Person(Alice.copy)\n"
     ]
    }
   ],
   "source": [
    "import copy\n",
    "\n",
    "class Person:\n",
    "    def __init__(self, name):\n",
    "        self.name = name\n",
    "\n",
    "    def __copy__(self):\n",
    "        # Define cómo se debe copiar este objeto\n",
    "        print(\"Custom __copy__ called\")\n",
    "        return Person(f\"{self.name}.copy\")\n",
    "\n",
    "    def __str__(self):\n",
    "        return f\"Person({self.name})\"\n",
    "\n",
    "p1 = Person(\"Alice\")\n",
    "p2 = copy.copy(p1)\n",
    "\n",
    "print(p1)\n",
    "print(p2)"
   ]
  },
  {
   "cell_type": "code",
   "execution_count": null,
   "id": "4a9c8515",
   "metadata": {},
   "outputs": [
    {
     "name": "stdout",
     "output_type": "stream",
     "text": [
      "['access', 'code']\n",
      "classified\n"
     ]
    }
   ],
   "source": [
    "class SecretBox:\n",
    "    def __init__(self):\n",
    "        self.code = \"1234\"\n",
    "        self._hidden = \"classified\"\n",
    "        self.access = \"granted\"\n",
    "\n",
    "    def __dir__(self):\n",
    "        # Muestra solo atributos seleccionados\n",
    "        return [\"code\", \"access\"]\n",
    "\n",
    "box = SecretBox()\n",
    "print(dir(box))"
   ]
  }
 ],
 "metadata": {
  "kernelspec": {
   "display_name": "Python 3",
   "language": "python",
   "name": "python3"
  },
  "language_info": {
   "codemirror_mode": {
    "name": "ipython",
    "version": 3
   },
   "file_extension": ".py",
   "mimetype": "text/x-python",
   "name": "python",
   "nbconvert_exporter": "python",
   "pygments_lexer": "ipython3",
   "version": "3.13.2"
  }
 },
 "nbformat": 4,
 "nbformat_minor": 5
}
