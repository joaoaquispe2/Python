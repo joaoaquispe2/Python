{
 "cells": [
  {
   "cell_type": "markdown",
   "id": "bc13ad6d",
   "metadata": {},
   "source": [
    "## **Matrices**"
   ]
  },
  {
   "cell_type": "markdown",
   "id": "5d2941f0",
   "metadata": {},
   "source": [
    "##### 🌑 **Declaración de Matrices**\n",
    "\n",
    "Una matriz es una colección bidimensional (filas y columnas) que puedes representar en Python como una lista de listas."
   ]
  },
  {
   "cell_type": "code",
   "execution_count": 1,
   "id": "adf7d891",
   "metadata": {},
   "outputs": [
    {
     "name": "stdout",
     "output_type": "stream",
     "text": [
      "Initial matrix:\n",
      "[1, 2, 3]\n",
      "[4, 5, 6]\n",
      "[7, 8, 9]\n"
     ]
    }
   ],
   "source": [
    "# Puedes usar , para separar los elementos de una lista en Python en nuevas líneas.\n",
    "matrix = [\n",
    "    [1, 2, 3],  # Fila 1\n",
    "    [4, 5, 6],  # Fila 2\n",
    "    [7, 8, 9]   # Fila 3\n",
    "]\n",
    "\n",
    "print(\"Initial matrix:\")\n",
    "for row in matrix:\n",
    "    print(row)"
   ]
  },
  {
   "cell_type": "markdown",
   "id": "e1bf93da",
   "metadata": {},
   "source": [
    "##### 🌑 **Creación Dinámica de Matrices**\n",
    "\n",
    "Puedes usar la comprensión de listas para anidar dos bucles `For` y de esta manera crear matrices rápidamente. También puedes hacerlo con bucles de manera normal\n",
    "\n",
    "📌 [Revisar FOR Structure](../01.%20Fundamentos/05.%20FOR%20Structure.ipynb)"
   ]
  },
  {
   "cell_type": "code",
   "execution_count": null,
   "id": "febc1929",
   "metadata": {},
   "outputs": [
    {
     "name": "stdout",
     "output_type": "stream",
     "text": [
      "\n",
      "Matriz de ceros:\n",
      "[0, 0, 0]\n",
      "[0, 0, 0]\n",
      "[0, 0, 0]\n",
      "\n",
      "Matriz identidad:\n",
      "[1, 0, 0, 0]\n",
      "[0, 1, 0, 0]\n",
      "[0, 0, 1, 0]\n",
      "[0, 0, 0, 1]\n"
     ]
    }
   ],
   "source": [
    "# Crear matriz de ceros\n",
    "rows = 3\n",
    "columns = 3\n",
    "zero_matrix = [[0 for _ in range(columns)] for _ in range(rows)]\n",
    "print(\"\\nZero matrix:\")\n",
    "for row in zero_matrix:\n",
    "    print(row)\n",
    "\n",
    "# Crear matriz identidad\n",
    "n = 4\n",
    "identity_matrix = [[1 if i == j else 0 for j in range(n)] for i in range(n)]\n",
    "print(\"\\nIdentity matrix:\")\n",
    "for row in identity_matrix:\n",
    "    print(row)"
   ]
  },
  {
   "cell_type": "markdown",
   "id": "54a4c2e0",
   "metadata": {},
   "source": [
    "##### 🌑 **Acceso y modificación de elementos**\n",
    "\n",
    "De igual manera como se puede acceder a elementos de una lista se puede acceder a los de las matrices, pero toma en cuenta que hay dos listas anidadas por lo que debes usar dos índices consecutivos."
   ]
  },
  {
   "cell_type": "code",
   "execution_count": 37,
   "id": "20105d7b",
   "metadata": {},
   "outputs": [
    {
     "name": "stdout",
     "output_type": "stream",
     "text": [
      "First row: [1, 2, 3]\n",
      "Element at position [1,2]: 0\n",
      "\n",
      "Matrix after modifying element [1,2] with 0:\n",
      "[1, 2, 3]\n",
      "[4, 5, 0]\n",
      "[7, 8, 9]\n"
     ]
    }
   ],
   "source": [
    "# Acceso por índice\n",
    "print(\"First row:\", matrix[0])  # Índice base 0\n",
    "print(\"Element at position [1,2]:\", matrix[1][2])  # Acceso al elemento en la fila 1, columna 2\n",
    "\n",
    "# Modiificación de elementos\n",
    "matrix[1][2] = 0\n",
    "print(\"\\nMatrix after modifying element [1,2] with 0:\")\n",
    "for row in matrix:\n",
    "    print(row)"
   ]
  },
  {
   "cell_type": "markdown",
   "id": "37d3b4be",
   "metadata": {},
   "source": [
    "##### 🌑 **Operaciones con matrices**\n",
    "\n",
    "Hay una serie de operaciones que conocemos que se pueden hacer con matrices como la suma, multiplicación, obtener la transpuesta  o la determinante."
   ]
  },
  {
   "cell_type": "code",
   "execution_count": 35,
   "id": "dc07f459",
   "metadata": {},
   "outputs": [
    {
     "name": "stdout",
     "output_type": "stream",
     "text": [
      "\n",
      "Matrix A:\n",
      "[1, 2]\n",
      "[3, 4]\n",
      "\n",
      "Matrix B:\n",
      "[5, 6]\n",
      "[7, 8]\n",
      "\n",
      "Matrix sum A+B:\n",
      "[6, 8]\n",
      "[10, 12]\n",
      "\n",
      "Matrix multiplication A*B:\n",
      "[19, 22]\n",
      "[43, 50]\n",
      "\n",
      "Transposed matrix A:\n",
      "[1, 3]\n",
      "[2, 4]\n",
      "\n",
      "Determinant of the B matrix: -2\n",
      "\n",
      "Inverse of matrix B:\n",
      "[-4.0, 3.0]\n",
      "[3.5, -2.5]\n"
     ]
    }
   ],
   "source": [
    "matrix_a = [[1, 2], [3, 4]]\n",
    "matrix_b = [[5, 6], [7, 8]]\n",
    "\n",
    "print(\"\\nMatrix A:\")\n",
    "for row in matrix_a:\n",
    "    print(row)\n",
    "print(\"\\nMatrix B:\")\n",
    "for row in matrix_b:\n",
    "    print(row)\n",
    "\n",
    "# Suma de matrices\n",
    "def add_matrices(a, b):\n",
    "    rows = len(a)\n",
    "    columns = len(a[0])\n",
    "    return [[a[i][j] + b[i][j] for j in range(columns)] for i in range(rows)]\n",
    "\n",
    "\n",
    "result_sum = add_matrices(matrix_a, matrix_b)\n",
    "print(\"\\nMatrix sum A+B:\")\n",
    "for row in result_sum:\n",
    "    print(row)\n",
    "\n",
    "# Multiplicación de matrices\n",
    "def multiply_matrices(a, b):\n",
    "    rows_a = len(a)\n",
    "    cols_a = len(a[0])\n",
    "    cols_b = len(b[0])\n",
    "    result = [[0 for _ in range(cols_b)] for _ in range(rows_a)]\n",
    "    for i in range(rows_a):\n",
    "        for j in range(cols_b):\n",
    "            for k in range(cols_a):\n",
    "                result[i][j] += a[i][k] * b[k][j]\n",
    "    return result\n",
    "\n",
    "result_multiplication = multiply_matrices(matrix_a, matrix_b)\n",
    "print(\"\\nMatrix multiplication A*B:\")\n",
    "for row in result_multiplication:\n",
    "    print(row)\n",
    "\n",
    "# Transposición de una matriz\n",
    "def transpose_matrix(matrix):\n",
    "    rows = len(matrix)\n",
    "    columns = len(matrix[0])\n",
    "    return [[matrix[j][i] for j in range(rows)] for i in range(columns)]\n",
    "\n",
    "result_transpose = transpose_matrix(matrix_a)\n",
    "print(\"\\nTransposed matrix A:\")\n",
    "for row in result_transpose:\n",
    "    print(row)\n",
    "\n",
    "# Determinante de una matriz 2x2\n",
    "def determinant_2x2(matrix):\n",
    "    if len(matrix) == 2 and len(matrix[0]) == 2:\n",
    "        return matrix[0][0] * matrix[1][1] - matrix[0][1] * matrix[1][0]\n",
    "    else:\n",
    "        raise ValueError(\"The matrix is not 2x2\")\n",
    "\n",
    "det = determinant_2x2(matrix_b)\n",
    "print(\"\\nDeterminant of the B matrix:\", det)\n",
    "\n",
    "# Inversa de una matriz 2x2\n",
    "def inverse_2x2(matrix):\n",
    "    det = determinant_2x2(matrix)\n",
    "    if det == 0:\n",
    "        print(\"The matrix is singular and cannot be inverted.\")\n",
    "        return [[0, 0], [0, 0]]  \n",
    "    else:\n",
    "        return [[matrix[1][1] / det, -matrix[0][1] / det],\n",
    "                [-matrix[1][0] / det, matrix[0][0] / det]]\n",
    "\n",
    "\n",
    "inverse_matrix_b = inverse_2x2(matrix_b)\n",
    "print(\"\\nInverse of matrix B:\")\n",
    "for row in inverse_matrix_b:\n",
    "    print(row)"
   ]
  }
 ],
 "metadata": {
  "kernelspec": {
   "display_name": "Python 3",
   "language": "python",
   "name": "python3"
  },
  "language_info": {
   "codemirror_mode": {
    "name": "ipython",
    "version": 3
   },
   "file_extension": ".py",
   "mimetype": "text/x-python",
   "name": "python",
   "nbconvert_exporter": "python",
   "pygments_lexer": "ipython3",
   "version": "3.13.2"
  }
 },
 "nbformat": 4,
 "nbformat_minor": 5
}
