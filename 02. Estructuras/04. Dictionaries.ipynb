{
 "cells": [
  {
   "cell_type": "markdown",
   "id": "0d188a37",
   "metadata": {},
   "source": [
    "## **Diccionarios**"
   ]
  },
  {
   "cell_type": "markdown",
   "id": "aab13159",
   "metadata": {},
   "source": [
    "##### 🌑 **Declaración de Diccionarios**\n",
    "\n",
    "Un diccionario es una colección desordenada de pares clave-valor. Las claves deben ser únicas e inmutables. Para declarar un diccionario usamos las dos llaves `{}`"
   ]
  },
  {
   "cell_type": "code",
   "execution_count": 29,
   "id": "439a34ca",
   "metadata": {},
   "outputs": [
    {
     "name": "stdout",
     "output_type": "stream",
     "text": [
      "Empty dictionary: {}\n",
      "Simple dictionary: {'name': 'Juan', 'age': 30, 'country': 'Peru'}\n",
      "Mixed dictionary: {'id': 1, 'active': True, 'scores': [10, 20, 30]}\n"
     ]
    }
   ],
   "source": [
    "# Crear diccionarios\n",
    "empty_dict = {}\n",
    "simple_dict = {\"name\": \"Juan\", \"age\": 30, \"country\": \"Peru\"}\n",
    "mixed_dict = {\"id\": 1, \"active\": True, \"scores\": [10, 20, 30]}\n",
    "\n",
    "# Mostrar los diccionarios\n",
    "print(f\"Empty dictionary: {empty_dict}\")\n",
    "print(f\"Simple dictionary: {simple_dict}\")\n",
    "print(f\"Mixed dictionary: {mixed_dict}\")"
   ]
  },
  {
   "cell_type": "markdown",
   "id": "5e55b629",
   "metadata": {},
   "source": [
    "##### 🌑 **Acceso a elementos**\n",
    "\n",
    "Para acceder a los elementos puedes usar dos métodos, acceder a ellos mediante sus claves, o puedes usar el método 🔨 `get()` el cual te permite buscar elementos que no existen sin que te de un errro."
   ]
  },
  {
   "cell_type": "code",
   "execution_count": 33,
   "id": "bf8a101c",
   "metadata": {},
   "outputs": [
    {
     "name": "stdout",
     "output_type": "stream",
     "text": [
      "Name: Juan\n",
      "Age: 30\n",
      "Country: Peru\n",
      "Non-existent key: Not available\n",
      "Is 'name' in Simple Dictionary? True\n",
      "Is 'age' not in Simple Dictionary? False\n"
     ]
    }
   ],
   "source": [
    "# Acceso directo\n",
    "print(f\"Name: {simple_dict['name']}\")\n",
    "print(f\"Age: {simple_dict['age']}\")\n",
    "\n",
    "# Ussando el método get()\n",
    "print(f\"Country: {simple_dict.get('country')}\")\n",
    "print(f\"Non-existent key: {simple_dict.get('lastname', 'Not available')}\")\n",
    "\n",
    "# Verificar si una clave existe\n",
    "print(f\"Is 'name' in Simple Dictionary? {'name' in simple_dict}\")\n",
    "print(f\"Is 'age' not in Simple Dictionary? {'age' not in simple_dict}\")"
   ]
  },
  {
   "cell_type": "markdown",
   "id": "b25039b7",
   "metadata": {},
   "source": [
    "##### 🌑 **Modificación de Elementos**\n",
    "\n",
    "Los elementos se pueden modificar de manera similar a las listas, definiendo la clave y asignándole un valor nuevo, o también se puede usar la función 🔨 `update()`"
   ]
  },
  {
   "cell_type": "code",
   "execution_count": 27,
   "id": "7a19c26b",
   "metadata": {},
   "outputs": [
    {
     "name": "stdout",
     "output_type": "stream",
     "text": [
      "Modified dictionary: {'name': 'Juan', 'age': 31, 'country': 'Peru', 'lastname': 'Pérez'}\n",
      "Modified dictionary: {'name': 'Juan', 'age': 31, 'country': 'Peru', 'lastname': 'Pérez', 'city': 'Lima', 'phone': '123456789'}\n"
     ]
    }
   ],
   "source": [
    "# Modificar y agregar elementos\n",
    "simple_dict[\"age\"] = 31  # Modificar valor existente\n",
    "simple_dict[\"lastname\"] = \"Pérez\"  # Agregar nuevo par clave-valor\n",
    "print(f\"Modified dictionary: {simple_dict}\")\n",
    "\n",
    "# Modificar con update() que agrega varios elementos a la vez\n",
    "simple_dict.update({\"city\": \"Lima\", \"phone\": \"123456789\"})\n",
    "print(f\"Modified dictionary: {simple_dict}\")"
   ]
  },
  {
   "cell_type": "markdown",
   "id": "b695cc36",
   "metadata": {},
   "source": [
    "##### 🌑 **Eliminar Elementos**\n",
    "\n",
    "Los elementos se pueden eliminar con la palabra clave `del`, o también se puede usar varios métodos para evitar errores si el elemento no existe como 🔨 `pop()`, 🔨 `popitem()`. No olvidar el método 🔨 `clear()` para eliminar todo el diccionario."
   ]
  },
  {
   "cell_type": "code",
   "execution_count": 28,
   "id": "51965599",
   "metadata": {},
   "outputs": [
    {
     "name": "stdout",
     "output_type": "stream",
     "text": [
      "Dictionary after deleting 'country': {'name': 'Juan', 'age': 31, 'lastname': 'Pérez', 'city': 'Lima', 'phone': '123456789'}\n",
      "Removed value: Pérez\n",
      "Dictionary after pop 'lastname': {'name': 'Juan', 'age': 31, 'city': 'Lima', 'phone': '123456789'}\n",
      "Last item removed: ('phone', '123456789')\n",
      "Dictionary after popitem: {'name': 'Juan', 'age': 31, 'city': 'Lima'}\n",
      "Dictionary after clear: {}\n"
     ]
    }
   ],
   "source": [
    "# Eliminar clave específica\n",
    "del simple_dict[\"country\"]\n",
    "print(f\"Dictionary after deleting 'country': {simple_dict}\")\n",
    "\n",
    "# Remove and get value with pop()\n",
    "removed_value = simple_dict.pop(\"lastname\", \"Not found\")\n",
    "print(f\"Removed value: {removed_value}\")\n",
    "print(f\"Dictionary after pop 'lastname': {simple_dict}\")\n",
    "\n",
    "# Eliminar con popitem() que elimina el último elemento agregado\n",
    "last_item = simple_dict.popitem()\n",
    "print(f\"Last item removed: {last_item}\")\n",
    "print(f\"Dictionary after popitem: {simple_dict}\")\n",
    "\n",
    "# Eiminar diccionario completo\n",
    "simple_dict.clear()\n",
    "print(f\"Dictionary after clear: {simple_dict}\")"
   ]
  },
  {
   "cell_type": "markdown",
   "id": "77410b9d",
   "metadata": {},
   "source": [
    "##### 🔨 **Métodos de Diccionarios**\n",
    "\n",
    "Los métodos principales que se pueden usar con diccionarios son aquellos que pueden acceder solo a sus claves, valores o a los pares de ellos."
   ]
  },
  {
   "cell_type": "code",
   "execution_count": 42,
   "id": "dc158b84",
   "metadata": {},
   "outputs": [
    {
     "name": "stdout",
     "output_type": "stream",
     "text": [
      "Keys: ['name', 'age', 'country']\n",
      "Values: ['Juan', 30, 'Peru']\n",
      "Key-value pairs: [('name', 'Juan'), ('age', 30), ('country', 'Peru')]\n",
      "Copied dictionary: {'name': 'Juan', 'age': 30, 'country': 'Peru'}\n"
     ]
    }
   ],
   "source": [
    "simple_dict = {\"name\": \"Juan\", \"age\": 30, \"country\": \"Peru\"}\n",
    "\n",
    "keys = simple_dict.keys() # Obtener las claves\n",
    "values = simple_dict.values() # Obtener los valores\n",
    "items = simple_dict.items() # Obtener los pares clave-valor\n",
    "\n",
    "print(f\"Keys: {list(keys)}\")\n",
    "print(f\"Values: {list(values)}\")\n",
    "print(f\"Key-value pairs: {list(items)}\")\n",
    "\n",
    "# Copiar un diccionario\n",
    "simple_dict_copy = simple_dict.copy()\n",
    "print(f\"Copied dictionary: {simple_dict_copy}\")\n"
   ]
  },
  {
   "cell_type": "markdown",
   "id": "1d9a0cde",
   "metadata": {},
   "source": [
    "##### 🌑 **Iterar sobre Elementos**\n",
    "\n",
    "Al momento de usar bucles para acceder a los elementos se accederá únicamente a las claves; sin embargo, se puede usar los métodos aprendidos para acceder a las claves o a ambos."
   ]
  },
  {
   "cell_type": "code",
   "execution_count": 38,
   "id": "1cbf1083",
   "metadata": {},
   "outputs": [
    {
     "name": "stdout",
     "output_type": "stream",
     "text": [
      "Key: name\n",
      "Key: age\n",
      "Key: country\n",
      "Value: Juan\n",
      "Value: 30\n",
      "Value: Peru\n",
      "Key: name, Value: Juan\n",
      "Key: age, Value: 30\n",
      "Key: country, Value: Peru\n"
     ]
    }
   ],
   "source": [
    "# Iterar sobre claves\n",
    "for key in simple_dict:\n",
    "    print(f\"Key: {key}\")\n",
    "\n",
    "# Iterar sobre valores\n",
    "for value in simple_dict.values():\n",
    "    print(f\"Value: {value}\")\n",
    "\n",
    "# Iterar sobre pares clave-valor\n",
    "for key, value in simple_dict.items():\n",
    "    print(f\"Key: {key}, Value: {value}\")"
   ]
  },
  {
   "cell_type": "markdown",
   "id": "f7c64da2",
   "metadata": {},
   "source": [
    "##### 🌑 **Anidación de Diccionarios**\n",
    "\n",
    "Los diccionarios pueden contener otros diccionarios como valores. Para acceder a ellos usamos las dos claves pues se encuentran anidadas."
   ]
  },
  {
   "cell_type": "code",
   "execution_count": 43,
   "id": "fd399308",
   "metadata": {},
   "outputs": [
    {
     "name": "stdout",
     "output_type": "stream",
     "text": [
      "Students: {'stu1': {'name': 'Ana', 'age': 20}, 'stu2': {'name': 'Luis', 'age': 22}, 'stu3': {'name': 'Sofia', 'age': 19}}\n",
      "Data of stu1: {'name': 'Ana', 'age': 20}\n",
      "Name of stu2: Luis\n"
     ]
    }
   ],
   "source": [
    "students = {\n",
    "    \"stu1\": {\"name\": \"Ana\", \"age\": 20},\n",
    "    \"stu2\": {\"name\": \"Luis\", \"age\": 22},\n",
    "    \"stu3\": {\"name\": \"Sofia\", \"age\": 19},\n",
    "}\n",
    "\n",
    "print(f\"Students: {students}\")\n",
    "print(f\"Data of stu1: {students['stu1']}\")\n",
    "print(f\"Name of stu2: {students['stu2']['name']}\")"
   ]
  },
  {
   "cell_type": "markdown",
   "id": "664691f2",
   "metadata": {},
   "source": [
    "##### 🌑 **Creación Avanzada**\n",
    "\n",
    "Hay otras formas de crear diccionarios que no son tan usadas, pero aquí veremos las principales. Se puede realizar con `dict()` o también puedes crearlo con comprensión de diccionarios, el cual es muy similar a comprensión de listas."
   ]
  },
  {
   "cell_type": "code",
   "execution_count": 40,
   "id": "1cf10b08",
   "metadata": {},
   "outputs": [
    {
     "name": "stdout",
     "output_type": "stream",
     "text": [
      "Dictionary created with 'dict()': {'name': 'Carlos', 'age': 25, 'country': 'Chile'}\n",
      "Dictionary with default values: {'a': 0, 'b': 0, 'c': 0}\n",
      "Dictionary of squares: {1: 1, 2: 4, 3: 9, 4: 16, 5: 25}\n"
     ]
    }
   ],
   "source": [
    "# Create a dictionary with dict()\n",
    "dictionary = dict(name=\"Carlos\", age=25, country=\"Chile\")\n",
    "print(f\"Dictionary created with 'dict()': {dictionary}\")\n",
    "\n",
    "# Crear un diccionario con fromkeys() claves predefinidas\n",
    "keys = [\"a\", \"b\", \"c\"]\n",
    "default_value = 0\n",
    "default_dict = dict.fromkeys(keys, default_value)\n",
    "print(f\"Dictionary with default values: {default_dict}\")\n",
    "\n",
    "# Comprensión de diccionarios\n",
    "numbers = [1, 2, 3, 4, 5]\n",
    "squares = {n: n ** 2 for n in numbers}\n",
    "print(f\"Dictionary of squares: {squares}\")"
   ]
  }
 ],
 "metadata": {
  "kernelspec": {
   "display_name": "Python 3",
   "language": "python",
   "name": "python3"
  },
  "language_info": {
   "codemirror_mode": {
    "name": "ipython",
    "version": 3
   },
   "file_extension": ".py",
   "mimetype": "text/x-python",
   "name": "python",
   "nbconvert_exporter": "python",
   "pygments_lexer": "ipython3",
   "version": "3.13.2"
  }
 },
 "nbformat": 4,
 "nbformat_minor": 5
}
