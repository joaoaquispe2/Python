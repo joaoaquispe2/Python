{
 "cells": [
  {
   "cell_type": "markdown",
   "id": "57dba432",
   "metadata": {},
   "source": [
    "## **Tuples**"
   ]
  },
  {
   "cell_type": "markdown",
   "id": "a388af9b",
   "metadata": {},
   "source": [
    "##### 🌑 **Declaración de Tuplas**\n",
    "\n",
    "Una tupla es una colección ordenada e inmutable de elementos. A diferencia de las listas, no se pueden modificar después de su creación. Para declararlas se usa los corchetes normales `()`"
   ]
  },
  {
   "cell_type": "code",
   "execution_count": null,
   "id": "ed4ce636",
   "metadata": {},
   "outputs": [
    {
     "name": "stdout",
     "output_type": "stream",
     "text": [
      "Empty tuple: ()\n",
      "Single element tuple: (42,)\n",
      "Tuple with multiple elements: (1, 2, 3, 4, 5)\n",
      "Mixed tuple: (1, 'Python', 3.14, True)\n"
     ]
    }
   ],
   "source": [
    "# Crear tuplas\n",
    "empty_tuple = ()  # Tupla vacía\n",
    "single_element_tuple = (42,)  # Tupla de un solo elemento (la coma es obligatoria)\n",
    "multiple_tuple = (1, 2, 3, 4, 5)  # Tupla con varios elementos\n",
    "mixed_tuple = (1, \"Python\", 3.14, True)  # Tupla con diferentes tipos\n",
    "\n",
    "# Mostrar las tuplas creadas\n",
    "print(f\"Empty tuple: {empty_tuple}\")\n",
    "print(f\"Single element tuple: {single_element_tuple}\")\n",
    "print(f\"Tuple with multiple elements: {multiple_tuple}\")\n",
    "print(f\"Mixed tuple: {mixed_tuple}\")"
   ]
  },
  {
   "cell_type": "markdown",
   "id": "59b76a91",
   "metadata": {},
   "source": [
    "##### 🌑 **Acceso a elementos**\n",
    "\n",
    "Los elementos de una tupla se indexan desde 0, igual que en las listas. Para acceder a ellas se puede usar los mismos métodos que las listas, incluido slicing y el bucle `For`.\n",
    "\n",
    "📌 [Revisar Strings](../04.%20Anexos/01.%20Strings.ipynb)"
   ]
  },
  {
   "cell_type": "code",
   "execution_count": null,
   "id": "6332f56f",
   "metadata": {},
   "outputs": [
    {
     "name": "stdout",
     "output_type": "stream",
     "text": [
      "First element: 10\n",
      "Last element: 50\n",
      "Subtuple (indexes 1 to 3): (20, 30, 40)\n",
      "All elements except the first: (20, 30, 40, 50)\n",
      "All elements except the last: (10, 20, 30, 40)\n",
      "Element: 10\n",
      "Element: 20\n",
      "Element: 30\n",
      "Element: 40\n",
      "Element: 50\n",
      "Index: 0, Value: 10\n",
      "Index: 1, Value: 20\n",
      "Index: 2, Value: 30\n",
      "Index: 3, Value: 40\n",
      "Index: 4, Value: 50\n"
     ]
    }
   ],
   "source": [
    "# Acceso por índice\n",
    "print(f\"First element: {multiple_tuple[0]}\")\n",
    "print(f\"Last element: {multiple_tuple[-1]}\") # Indice negativo para acceder al último elemento\n",
    "\n",
    "# Acceso por rango\n",
    "print(f\"Subtuple (indexes 1 to 3): {multiple_tuple[1:4]}\") # Desde el índice 1 hasta el 3 (sin incluir el 4)\n",
    "print(f\"All elements except the first: {multiple_tuple[1:]}\") # Desde el índice 1 hasta el final\n",
    "print(f\"All elements except the last: {multiple_tuple[:-1]}\") # Desde el inicio hasta el penúltimo elemento\n",
    "\n",
    "# Acceso con bucle for\n",
    "for element in multiple_tuple:\n",
    "    print(f\"Element: {element}\")\n",
    "\n",
    "for element in range(len(multiple_tuple)):\n",
    "    print(f\"Index: {element}, Value: {multiple_tuple[element]}\")"
   ]
  },
  {
   "cell_type": "markdown",
   "id": "21cda0af",
   "metadata": {},
   "source": [
    "##### 🔨 **Métodos de Tuplas**\n",
    "\n",
    "Las tuplas son bastante restringidas por lo que no hay operaciones de añadir elemenots, solamente hay dos importantes, `count()` e `index`"
   ]
  },
  {
   "cell_type": "code",
   "execution_count": null,
   "id": "a18ba8b9",
   "metadata": {},
   "outputs": [
    {
     "name": "stdout",
     "output_type": "stream",
     "text": [
      "Number of times 1 appears: 3\n",
      "Index of number 3: 2\n"
     ]
    }
   ],
   "source": [
    "repeated_tuple = (1, 2, 3, 1, 2, 1)\n",
    "\n",
    "# Contar elementos\n",
    "print(f\"Number of times 1 appears: {repeated_tuple.count(1)}\")\n",
    "\n",
    "# Encontrar el índice de un elemento\n",
    "print(f\"Index of number 3: {multiple_tuple.index(30)}\")"
   ]
  },
  {
   "cell_type": "markdown",
   "id": "85a121f2",
   "metadata": {},
   "source": [
    "##### 🌑 **Operaciones con Tuplas**\n",
    "\n",
    "Hay algunas operaciones que se pueden usar como concatenación o multiplicación. A diferencia de las Listas estas no se pueden copiar por lo que esta operación no se cuenta."
   ]
  },
  {
   "cell_type": "code",
   "execution_count": 72,
   "id": "0c14288e",
   "metadata": {},
   "outputs": [
    {
     "name": "stdout",
     "output_type": "stream",
     "text": [
      "Original list: [1, 2, 3]\n",
      "Another list: [4, 5, 6]\n",
      "Copy with added element: [1, 2, 3, 4]\n",
      "Concatenated list: [1, 2, 3, 4, 5, 6]\n",
      "Original list repeated 3 times: [1, 2, 3, 1, 2, 3, 1, 2, 3]\n"
     ]
    }
   ],
   "source": [
    "tuple1 = (1, 2, 3)\n",
    "tuple2 = (4, 5, 6)\n",
    "\n",
    "print(f\"Tuple 1: {tuple1}\")\n",
    "print(f\"Tuple 2: {tuple2}\")\n",
    "\n",
    "# Concatenación\n",
    "concatenated_tuple = tuple1 + tuple2\n",
    "print(f\"Concatenated tuple: {concatenated_tuple}\")\n",
    "\n",
    "# Repetición\n",
    "repeated_tuple = tuple1 * 3\n",
    "print(f\"Repeated tuple: {repeated_tuple}\")\n"
   ]
  },
  {
   "cell_type": "markdown",
   "id": "64bafe33",
   "metadata": {},
   "source": [
    "##### 🌑 **Tuplas como elementos inmutables**\n",
    "\n",
    "Como se sabe las tuplas tienen elementos que no pueden ser cambiados por lo que son ideales para almacenar datos que no deben cambiar. Esto le da a las tuplas algunas características únicas, como la forma de desempaquetarlas en variables o que sean el resultado de funciones.\n",
    "\n",
    "📌 [Revisar Functions](../01.%20Fundamentos/08.%20Functions.ipynb)"
   ]
  },
  {
   "cell_type": "code",
   "execution_count": null,
   "id": "cbc88718",
   "metadata": {},
   "outputs": [
    {
     "name": "stdout",
     "output_type": "stream",
     "text": [
      "Name: Juan, Age: 30, Country: Perú\n",
      "Sum: 15, Difference: 5\n",
      "Sum: 15, Difference: 5\n"
     ]
    }
   ],
   "source": [
    "# Desempaquetado de tuplas\n",
    "persona = (\"Juan\", 30, \"Perú\")\n",
    "name, age, country = persona\n",
    "print(f\"Name: {name}, Age: {age}, Country: {country}\")\n",
    "\n",
    "# Uso de tuplas en funciones\n",
    "def calculate(x, y):\n",
    "    sum_ = x + y\n",
    "    diff = x - y\n",
    "    return sum_, diff  # Retorna una tupla\n",
    "\n",
    "result = calculate(10, 5)\n",
    "print(f\"Sum: {result[0]}, Difference: {result[1]}\")\n",
    "\n",
    "# Desempaquetado directo del resultado de la función\n",
    "sum_, diff = calculate(10, 5)\n",
    "print(f\"Sum: {sum_}, Difference: {diff}\")"
   ]
  },
  {
   "cell_type": "markdown",
   "id": "b2e988a3",
   "metadata": {},
   "source": [
    "##### 🌑 **Listas a Tuplas**\n",
    "\n",
    "Se puede crear una tupla de una lista usando la función `tuple()`, además de que se puede ordenar la tupla, transfromándola a lista temporalmente\n",
    "\n",
    "📌 [Revisar Lists](01.%20Lists.ipynb)"
   ]
  },
  {
   "cell_type": "code",
   "execution_count": null,
   "id": "8c1f49a9",
   "metadata": {},
   "outputs": [
    {
     "name": "stdout",
     "output_type": "stream",
     "text": [
      "Tuple converted from list: (3, 1, 4, 1, 5)\n",
      "Sorted tuple: (1, 1, 3, 4, 5)\n"
     ]
    }
   ],
   "source": [
    "list1 = [3, 1, 4, 1, 5]\n",
    "\n",
    "# Convertir una lista a tupla\n",
    "converted_tuple = tuple(list1)\n",
    "print(f\"Tuple converted from list: {converted_tuple}\")\n",
    "\n",
    "# Ordenar una tupla\n",
    "sorted_tuple = tuple(sorted(converted_tuple))\n",
    "print(f\"Sorted tuple: {sorted_tuple}\")"
   ]
  }
 ],
 "metadata": {
  "kernelspec": {
   "display_name": "Python 3",
   "language": "python",
   "name": "python3"
  },
  "language_info": {
   "codemirror_mode": {
    "name": "ipython",
    "version": 3
   },
   "file_extension": ".py",
   "mimetype": "text/x-python",
   "name": "python",
   "nbconvert_exporter": "python",
   "pygments_lexer": "ipython3",
   "version": "3.13.2"
  }
 },
 "nbformat": 4,
 "nbformat_minor": 5
}
