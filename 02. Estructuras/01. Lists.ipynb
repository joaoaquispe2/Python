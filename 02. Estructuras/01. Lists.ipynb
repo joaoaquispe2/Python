{
 "cells": [
  {
   "cell_type": "markdown",
   "id": "57dba432",
   "metadata": {},
   "source": [
    "## **Lists**"
   ]
  },
  {
   "cell_type": "markdown",
   "id": "a388af9b",
   "metadata": {},
   "source": [
    "##### 🌑 **Declaración de Listas**\n",
    "\n",
    "Una lista es una colección ordenada y mutable que puede contener elementos de cualquier tipo. Se usan los corchetes para declarar una lista `[]`"
   ]
  },
  {
   "cell_type": "code",
   "execution_count": 5,
   "id": "ed4ce636",
   "metadata": {},
   "outputs": [
    {
     "name": "stdout",
     "output_type": "stream",
     "text": [
      "Numbers List: [1, 2, 3, 4, 5, 6]\n",
      "Names List: ['Ann', 'John', 'Louis']\n",
      "Mixed List: [True, 3.14, 'Python', 42]\n"
     ]
    }
   ],
   "source": [
    "# Crear listas\n",
    "empty_list = []  # Lista vacia\n",
    "numbers = [1, 2, 3, 4, 5, 6]  # Lista de números\n",
    "names = [\"Ann\", \"John\", \"Louis\"]  # Lista de strings\n",
    "mixed = [True, 3.14, \"Python\", 42]  # List de diferentes tipos\n",
    "\n",
    "# Mostrar una lista\n",
    "print(f\"Numbers List: {numbers}\")\n",
    "print(f\"Names List: {names}\")\n",
    "print(f\"Mixed List: {mixed}\")"
   ]
  },
  {
   "cell_type": "markdown",
   "id": "59b76a91",
   "metadata": {},
   "source": [
    "##### 🌑 **Acceso y Modificación Elementos**\n",
    "Los elementos de una lista se indexan desde el cero, se puede usar Slicing y el operador indexación para acceder a los elementos así verlos o modificarlos. También se pueden usar los bucles para lo mismo.\n",
    "\n",
    "📌 [Revisar Strings](../05.%20Anexos/01.%20Strings.ipynb)"
   ]
  },
  {
   "cell_type": "code",
   "execution_count": null,
   "id": "6332f56f",
   "metadata": {},
   "outputs": [
    {
     "name": "stdout",
     "output_type": "stream",
     "text": [
      "First element: 1\n",
      "Last element: 6\n",
      "First three elements: [1, 2, 3]\n",
      "Last three elements: [4, 5, 6]\n",
      "Elements with step 2: [1, 3, 5]\n",
      "Element: 1\n",
      "Element: 2\n",
      "Element: 3\n",
      "Element: 4\n",
      "Element: 5\n",
      "Element: 6\n",
      "Index: 0, Value: 1\n",
      "Index: 1, Value: 2\n",
      "Index: 2, Value: 3\n",
      "Index: 3, Value: 4\n",
      "Index: 4, Value: 5\n",
      "Index: 5, Value: 6\n",
      "After modified index 0 with 10: [10, 2, 3, 4, 5, 6]\n"
     ]
    }
   ],
   "source": [
    "numbers = [1, 2, 3, 4, 5, 6]\n",
    "\n",
    "# Acceso por índice\n",
    "print(f\"First element: {numbers[0]}\")\n",
    "print(f\"Last element: {numbers[-1]}\")  # Índice negativo para acceder desde el final\n",
    "\n",
    "# Acceso por rango\n",
    "print(f\"First three elements: {numbers[0:3]}\")  # Desde el índice 0 hasta el 2\n",
    "print(f\"Last three elements: {numbers[-3:]}\")  # Desde el índice -3 hasta el final\n",
    "print(f\"Elements with step 2: {numbers[::2]}\")  # Desde el inicio hasta el final, con paso 2\n",
    "\n",
    "# Recorrido con bucle for\n",
    "for number in numbers:\n",
    "    print(f\"Element: {number}\")\n",
    "\n",
    "for i in range(len(numbers)):\n",
    "    print(f\"Index: {i}, Value: {numbers[i]}\")\n",
    "\n",
    "# Modificación de elementos\n",
    "numbers[0] = 10  # Cambiar el primer elemento\n",
    "print(f\"After modified index 0 with 10: {numbers}\")"
   ]
  },
  {
   "cell_type": "markdown",
   "id": "21cda0af",
   "metadata": {},
   "source": [
    "##### 🔨 **Métodos de Lista**\n",
    "\n",
    "Ahora veremos algunos métodos útiles que se pueden usar con las listas para añadir, eliminar, buscar, entre otras cosas."
   ]
  },
  {
   "cell_type": "code",
   "execution_count": null,
   "id": "a18ba8b9",
   "metadata": {},
   "outputs": [
    {
     "name": "stdout",
     "output_type": "stream",
     "text": [
      "List after append 99: [1, 2, 3, 4, 5, 6, 99]\n",
      "List after insert 3 in position 2: [1, 2, 3, 3, 4, 5, 6, 99]\n",
      "List after remove 5: [1, 2, 3, 3, 4, 6, 99]\n",
      "Removed element: 99\n",
      "List after pop: [1, 2, 3, 3, 4, 6]\n",
      "Index of number 3: 2\n",
      "Is number 3 in the list? Yes\n",
      "Is number 10 not in the list? Yes\n",
      "Number of times 3 appears: 2\n",
      "Sorted list: [1, 2, 3, 3, 4, 6]\n",
      "Reversed list: [6, 4, 3, 3, 2, 1]\n"
     ]
    }
   ],
   "source": [
    "numbers = [1, 2, 3, 4, 5, 6]\n",
    "\n",
    "# Añadir elementos\n",
    "numbers.append(99)  # Agrega al final\n",
    "print(f\"List after append 99: {numbers}\")\n",
    "\n",
    "numbers.insert(2, 3)  # Inserta en el índice 2\n",
    "print(f\"List after insert 3 in position 2: {numbers}\")\n",
    "\n",
    "# Eliminar elementos\n",
    "numbers.remove(5)  # Elimina la primera aparición de un valor\n",
    "print(f\"List after remove 5: {numbers}\")\n",
    "\n",
    "deleted_element = numbers.pop()  # Elimina y devuelve el último elemento\n",
    "print(f\"Removed element: {deleted_element}\")\n",
    "print(f\"List after pop: {numbers}\")\n",
    "\n",
    "# Buscar elementos\n",
    "print(f\"Index of number 3: {numbers.index(3)}\")  # Devuelve el índice de un valor\n",
    "print(f\"Is number 3 in the list? {'Yes' if 3 in numbers else 'No'}\")\n",
    "print(f\"Is number 10 not in the list? {'Yes' if not 10 in numbers else 'No'}\")\n",
    "\n",
    "# Contar elementos\n",
    "print(f\"Number of times 3 appears: {numbers.count(3)}\")\n",
    "\n",
    "# Ordenar e invertir listas\n",
    "numbers.sort()  # Ordena la lista en su lugar\n",
    "print(f\"Sorted list: {numbers}\")\n",
    "\n",
    "numbers.reverse()  # Invierte el orden de la lista\n",
    "print(f\"Reversed list: {numbers}\")"
   ]
  },
  {
   "cell_type": "markdown",
   "id": "85a121f2",
   "metadata": {},
   "source": [
    "##### 🌑 **Operaciones con Listas**\n",
    "\n",
    "Hay algunas operaciones que se pueden usar como concatenación o multiplicación. También hay que mencionar a las listas por comprensión que es otra forma de generar listas, de esto se pudo ver más antes.\n",
    "\n",
    "📌 [Revisar FOR Structure](../01.%20Fundamentos/05.%20FOR%20Structure.ipynb)"
   ]
  },
  {
   "cell_type": "code",
   "execution_count": null,
   "id": "0c14288e",
   "metadata": {},
   "outputs": [
    {
     "name": "stdout",
     "output_type": "stream",
     "text": [
      "Original list: [1, 2, 3]\n",
      "Another list: [4, 5, 6]\n",
      "Copy with added element: [1, 2, 3, 4]\n",
      "Concatenated list: [1, 2, 3, 4, 5, 6]\n",
      "Original list repeated 3 times: [1, 2, 3, 1, 2, 3, 1, 2, 3]\n"
     ]
    }
   ],
   "source": [
    "original_list = [1, 2, 3]\n",
    "list2 = [4, 5, 6]\n",
    "print(f\"Original list: {original_list}\")\n",
    "print(f\"Another list: {list2}\")\n",
    "\n",
    "# Copiar listas\n",
    "copy_list = original_list.copy()  # También con original_list[:]\n",
    "copy_list.append(4)\n",
    "print(f\"Copy with added element: {copy_list}\")\n",
    "\n",
    "# Concatenar listas\n",
    "concatenated_list = original_list + list2\n",
    "print(f\"Concatenated list: {concatenated_list}\")\n",
    "\n",
    "# Multiplicar listas\n",
    "print(f\"Original list repeated 3 times: {original_list * 3}\")\n"
   ]
  },
  {
   "cell_type": "markdown",
   "id": "b2e988a3",
   "metadata": {},
   "source": [
    "##### 🔨 **Función Dir**\n",
    "\n",
    "La función `dir()` se usa para revisar todos los métodos disponibles con los que se puede trabajar con cierto tipo de elemento, únicamente muestra los nombres, para más ifno usar la función `help()`"
   ]
  },
  {
   "cell_type": "code",
   "execution_count": 10,
   "id": "8c1f49a9",
   "metadata": {},
   "outputs": [
    {
     "name": "stdout",
     "output_type": "stream",
     "text": [
      "['__add__', '__class__', '__class_getitem__', '__contains__', '__delattr__', '__delitem__', '__dir__', '__doc__', '__eq__', '__format__', '__ge__', '__getattribute__', '__getitem__', '__getstate__', '__gt__', '__hash__', '__iadd__', '__imul__', '__init__', '__init_subclass__', '__iter__', '__le__', '__len__', '__lt__', '__mul__', '__ne__', '__new__', '__reduce__', '__reduce_ex__', '__repr__', '__reversed__', '__rmul__', '__setattr__', '__setitem__', '__sizeof__', '__str__', '__subclasshook__', 'append', 'clear', 'copy', 'count', 'extend', 'index', 'insert', 'pop', 'remove', 'reverse', 'sort']\n"
     ]
    }
   ],
   "source": [
    "print(dir(numbers)) # Mostrar métodos y atributos de la lista"
   ]
  }
 ],
 "metadata": {
  "kernelspec": {
   "display_name": "Python 3",
   "language": "python",
   "name": "python3"
  },
  "language_info": {
   "codemirror_mode": {
    "name": "ipython",
    "version": 3
   },
   "file_extension": ".py",
   "mimetype": "text/x-python",
   "name": "python",
   "nbconvert_exporter": "python",
   "pygments_lexer": "ipython3",
   "version": "3.13.2"
  }
 },
 "nbformat": 4,
 "nbformat_minor": 5
}
