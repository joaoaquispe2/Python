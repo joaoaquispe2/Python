{
 "cells": [
  {
   "cell_type": "markdown",
   "id": "ea68162e",
   "metadata": {},
   "source": [
    "## **Sets**"
   ]
  },
  {
   "cell_type": "markdown",
   "id": "078140c7",
   "metadata": {},
   "source": [
    "##### 🌑 **Declaración de Conjuntos**\n",
    "\n",
    "Un conjunto es una colección no ordenada, mutable y sin elementos duplicados. Para declarar un conjunto se usa dos llaves `{}`"
   ]
  },
  {
   "cell_type": "code",
   "execution_count": 8,
   "id": "e8048b16",
   "metadata": {},
   "outputs": [
    {
     "name": "stdout",
     "output_type": "stream",
     "text": [
      "Numbers set: {1, 2, 3, 4, 5}\n",
      "Mixed set: {'Python', 3.14, True}\n"
     ]
    }
   ],
   "source": [
    "# Crear conjuntos\n",
    "empty_set = set()  # Conjunto vacío (no {} que crea un diccionario)\n",
    "numbers = {1, 2, 3, 4, 5}  # Conjunto de números\n",
    "mixed = {3.14, \"Python\", True}  # Conjunto con diferentes tipos\n",
    "\n",
    "# Mostrar un conjunto\n",
    "print(f\"Numbers set: {numbers}\")\n",
    "print(f\"Mixed set: {mixed}\")"
   ]
  },
  {
   "cell_type": "markdown",
   "id": "f9f3bfa9",
   "metadata": {},
   "source": [
    "##### 🌑 **Acceso a elementos de Conjuntos**\n",
    "\n",
    "No se accede por índice porque los conjuntos no están ordenados, es decir que no tienen un índice por el cual acceder. Debes recorrer el conjunto con un bucle `For` si necesitas acceder a los elementos."
   ]
  },
  {
   "cell_type": "code",
   "execution_count": 9,
   "id": "2ed8a399",
   "metadata": {},
   "outputs": [
    {
     "name": "stdout",
     "output_type": "stream",
     "text": [
      "Set element: 1\n",
      "Set element: 2\n",
      "Set element: 3\n",
      "Set element: 4\n",
      "Set element: 5\n",
      "Is 3 in numbers? Yes\n",
      "Is 6 not in numbers? Yes\n"
     ]
    }
   ],
   "source": [
    "# Acceso a elementos\n",
    "for elemento in numbers:\n",
    "    print(f\"Set element: {elemento}\")\n",
    "\n",
    "# Comprobar si un elemento está en el conjunto\n",
    "print(f\"Is 3 in numbers? {'Yes' if 3 in numbers else 'No'}\")\n",
    "print(f\"Is 6 not in numbers? {'Yes' if not 6 in numbers else 'No'}\")"
   ]
  },
  {
   "cell_type": "markdown",
   "id": "a4386747",
   "metadata": {},
   "source": [
    "##### 🔨 **Métodos de Conjuntos**\n",
    "\n",
    "Ahora veremos algunos métodos útiles que se pueden usar con los conjuntos para añadir, eliminar, buscar, entre otras cosas."
   ]
  },
  {
   "cell_type": "code",
   "execution_count": 6,
   "id": "ec2cf225",
   "metadata": {},
   "outputs": [
    {
     "name": "stdout",
     "output_type": "stream",
     "text": [
      "Set after add : {1, 2, 3, 4, 5, 6}\n",
      "Set after update [7, 8, 9]: {1, 2, 3, 4, 5, 6, 7, 8, 9}\n",
      "Set after remove 3: {1, 2, 4, 5, 6, 7, 8, 9}\n",
      "Set after discard 100: {1, 2, 4, 5, 6, 7, 8, 9}\n",
      "Element removed with pop: 1\n",
      "Set after pop: {2, 4, 5, 6, 7, 8, 9}\n",
      "Set after clear: set()\n",
      "Copy of set: {2, 4, 5, 6, 7, 8, 9}\n"
     ]
    }
   ],
   "source": [
    "numbers = {1, 2, 3, 4, 5}  # Set of numbers\n",
    "\n",
    "# Agregar elementos\n",
    "numbers.add(6)\n",
    "print(f\"Set after add : {numbers}\")\n",
    "\n",
    "# Agregar varios elementos\n",
    "numbers.update([7, 8, 9])\n",
    "print(f\"Set after update [7, 8, 9]: {numbers}\")\n",
    "\n",
    "# Eliminar elementos\n",
    "numbers.remove(3)  # Elimina el elemento 3, lanza error si no existe\n",
    "print(f\"Set after remove 3: {numbers}\")\n",
    "\n",
    "numbers.discard(100)  # No lanza error si no existe\n",
    "print(f\"Set after discard 100: {numbers}\")\n",
    "\n",
    "# Eliminar y devolver un elemento aleatorio\n",
    "elemento = numbers.pop()\n",
    "print(f\"Element removed with pop: {elemento}\")\n",
    "print(f\"Set after pop: {numbers}\")\n",
    "\n",
    "# Borrar todo el conjunto\n",
    "copia_numbers = numbers.copy()  # Copia del conjunto\n",
    "numbers.clear()\n",
    "print(f\"Set after clear: {numbers}\")\n",
    "print(f\"Copy of set: {copia_numbers}\")"
   ]
  },
  {
   "cell_type": "markdown",
   "id": "5a2f93f3",
   "metadata": {},
   "source": [
    "##### 🌑 **Operaciones con Conjuntos**\n",
    "\n",
    "Tabmién hay varias operaciones que se pueden hacer con dos conjuntos, las clásicas como Unión, Intersección o Diferencia."
   ]
  },
  {
   "cell_type": "code",
   "execution_count": 1,
   "id": "b912cf3f",
   "metadata": {},
   "outputs": [
    {
     "name": "stdout",
     "output_type": "stream",
     "text": [
      "Set A: {1, 2, 3, 5}\n",
      "Set B: {3, 4, 5, 6}\n",
      "Union: {1, 2, 3, 4, 5, 6}\n",
      "Intersection: {3, 5}\n",
      "Difference: {1, 2}\n",
      "Symmetric difference: {1, 2, 4, 6}\n",
      "Is A subset of B? No\n",
      "Is A superset of B? No\n",
      "Are A and B disjoint? No\n"
     ]
    }
   ],
   "source": [
    "A = {1, 2, 3, 5}\n",
    "B = {3, 4, 5, 6}\n",
    "\n",
    "print(f\"Set A: {A}\")\n",
    "print(f\"Set B: {B}\")\n",
    "\n",
    "# Unión (todos los elementos)\n",
    "print(f\"Union: {A | B}\")\n",
    "\n",
    "# Intersección (elementos en común)\n",
    "print(f\"Intersection: {A & B}\")\n",
    "\n",
    "# Diferencia (elementos en A pero no en B)\n",
    "print(f\"Difference: {A - B}\")\n",
    "\n",
    "# Diferencia simétrica (elementos en A o B, pero no en ambos)\n",
    "print(f\"Symmetric difference: {A ^ B}\")  # A.symmetric_difference(B)\n",
    "\n",
    "# Verificaciones\n",
    "print(f\"Is A subset of B? {'Yes' if A.issubset(B) else 'No'}\")\n",
    "print(f\"Is A superset of B? {'Yes' if A.issuperset(B) else 'No'}\")\n",
    "print(f\"Are A and B disjoint? {'Yes' if A.isdisjoint(B) else 'No'}\")"
   ]
  },
  {
   "cell_type": "markdown",
   "id": "395d481e",
   "metadata": {},
   "source": [
    "##### 🌑 **Listas a Conjuntos**\n",
    "\n",
    "Si deseas eliminar elementos repetidos de una lista, puedes pasarla a un conjunto. Como se sabe los conjuntos no admiten elementos repetidos por lo que al transformar estos elementos desaparecen.\n",
    "\n",
    "📌 [Revisar Lists](01.%20Lists.ipynb)"
   ]
  },
  {
   "cell_type": "code",
   "execution_count": 14,
   "id": "2f74f6fa",
   "metadata": {},
   "outputs": [
    {
     "name": "stdout",
     "output_type": "stream",
     "text": [
      "Original list: [1, 2, 2, 3, 4, 4, 4, 5]\n",
      "List without duplicates: [1, 2, 3, 4, 5]\n"
     ]
    }
   ],
   "source": [
    "# Eliminar duplicados de una lista usando un conjunto\n",
    "list_with_duplicates = [1, 2, 2, 3, 4, 4, 4, 5]\n",
    "no_duplicates = list(set(list_with_duplicates))\n",
    "\n",
    "print(f\"Original list: {list_with_duplicates}\")\n",
    "print(f\"List without duplicates: {no_duplicates}\")"
   ]
  }
 ],
 "metadata": {
  "kernelspec": {
   "display_name": "Python 3",
   "language": "python",
   "name": "python3"
  },
  "language_info": {
   "codemirror_mode": {
    "name": "ipython",
    "version": 3
   },
   "file_extension": ".py",
   "mimetype": "text/x-python",
   "name": "python",
   "nbconvert_exporter": "python",
   "pygments_lexer": "ipython3",
   "version": "3.13.2"
  }
 },
 "nbformat": 4,
 "nbformat_minor": 5
}
